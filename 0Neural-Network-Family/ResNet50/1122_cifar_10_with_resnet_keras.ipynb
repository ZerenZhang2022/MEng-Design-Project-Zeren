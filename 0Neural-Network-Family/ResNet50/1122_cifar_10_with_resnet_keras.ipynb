{
  "nbformat": 4,
  "nbformat_minor": 0,
  "metadata": {
    "colab": {
      "provenance": []
    },
    "kernelspec": {
      "name": "python3",
      "display_name": "Python 3"
    },
    "accelerator": "GPU",
    "gpuClass": "standard"
  },
  "cells": [
    {
      "cell_type": "markdown",
      "metadata": {
        "id": "view-in-github"
      },
      "source": [
        "<a href=\"https://colab.research.google.com/github/pravinkr/resnet50-cifar10-keras/blob/master/cifar_10_with_resnet_keras.ipynb\" target=\"_parent\"><img src=\"https://colab.research.google.com/assets/colab-badge.svg\" alt=\"Open In Colab\"/></a>"
      ]
    },
    {
      "cell_type": "code",
      "source": [
        "! nvidia-smi"
      ],
      "metadata": {
        "colab": {
          "base_uri": "https://localhost:8080/"
        },
        "id": "eYntIPIr45uF",
        "outputId": "ba4b706d-93bf-453a-a912-27d644d2ec90"
      },
      "execution_count": 8,
      "outputs": [
        {
          "output_type": "stream",
          "name": "stdout",
          "text": [
            "Wed Nov 23 00:59:00 2022       \n",
            "+-----------------------------------------------------------------------------+\n",
            "| NVIDIA-SMI 460.32.03    Driver Version: 460.32.03    CUDA Version: 11.2     |\n",
            "|-------------------------------+----------------------+----------------------+\n",
            "| GPU  Name        Persistence-M| Bus-Id        Disp.A | Volatile Uncorr. ECC |\n",
            "| Fan  Temp  Perf  Pwr:Usage/Cap|         Memory-Usage | GPU-Util  Compute M. |\n",
            "|                               |                      |               MIG M. |\n",
            "|===============================+======================+======================|\n",
            "|   0  Tesla T4            Off  | 00000000:00:04.0 Off |                    0 |\n",
            "| N/A   45C    P8     9W /  70W |      0MiB / 15109MiB |      0%      Default |\n",
            "|                               |                      |                  N/A |\n",
            "+-------------------------------+----------------------+----------------------+\n",
            "                                                                               \n",
            "+-----------------------------------------------------------------------------+\n",
            "| Processes:                                                                  |\n",
            "|  GPU   GI   CI        PID   Type   Process name                  GPU Memory |\n",
            "|        ID   ID                                                   Usage      |\n",
            "|=============================================================================|\n",
            "|  No running processes found                                                 |\n",
            "+-----------------------------------------------------------------------------+\n"
          ]
        }
      ]
    },
    {
      "cell_type": "code",
      "source": [
        "from google.colab import drive\n",
        "drive.mount('/content/drive')"
      ],
      "metadata": {
        "colab": {
          "base_uri": "https://localhost:8080/"
        },
        "id": "RGvHk5hO-1XQ",
        "outputId": "3b07b741-b899-4df0-cd7a-e82534578510"
      },
      "execution_count": 9,
      "outputs": [
        {
          "output_type": "stream",
          "name": "stdout",
          "text": [
            "Drive already mounted at /content/drive; to attempt to forcibly remount, call drive.mount(\"/content/drive\", force_remount=True).\n"
          ]
        }
      ]
    },
    {
      "cell_type": "code",
      "metadata": {
        "id": "0uoD7EUdjgXP"
      },
      "source": [
        "#Simple CNN model for CIFAR-10 dataset\n",
        "import numpy as np\n",
        "\n",
        "# Simple CNN model for CIFAR-10\n",
        "import keras\n",
        "import numpy as np\n",
        "import os\n",
        "from keras.datasets import cifar10, cifar100\n",
        "from keras.models import Sequential, Model\n",
        "from keras.layers import Input, Add, Dense, Activation, ZeroPadding2D, BatchNormalization, Flatten, Conv2D, AveragePooling2D, MaxPooling2D, GlobalMaxPooling2D\n",
        "from keras.layers import Dropout\n",
        "from keras.layers import Flatten\n",
        "from keras.constraints import maxnorm\n",
        "from keras.optimizers import SGD, Adam\n",
        "from keras.layers.convolutional import Convolution2D\n",
        "from keras.layers.convolutional import MaxPooling2D\n",
        "from keras.callbacks import ModelCheckpoint, LearningRateScheduler\n",
        "from keras.callbacks import ReduceLROnPlateau\n",
        "from keras.callbacks import EarlyStopping\n",
        "from keras.regularizers import l2\n",
        "from keras.initializers import glorot_uniform\n",
        "from keras import backend as K\n",
        "\n",
        "from keras.utils import np_utils\n",
        "import matplotlib.pyplot as plt\n",
        "from keras.preprocessing.image import ImageDataGenerator\n",
        "%matplotlib inline\n",
        "\n",
        "import skimage\n",
        "from skimage.util import img_as_ubyte\n"
      ],
      "execution_count": 10,
      "outputs": []
    },
    {
      "cell_type": "code",
      "source": [
        "filename='/content/drive/MyDrive/ECE6930/ResNet50-1121-01/resnetlog.csv'\n",
        "history_logger=keras.callbacks.CSVLogger(filename, separator=\",\", append=True)\n"
      ],
      "metadata": {
        "id": "KUG5LdhR-9aZ"
      },
      "execution_count": 11,
      "outputs": []
    },
    {
      "cell_type": "code",
      "metadata": {
        "id": "k34XYTn_gbVF",
        "outputId": "5b74b156-d1a4-443d-9ba1-900315656651",
        "colab": {
          "base_uri": "https://localhost:8080/"
        }
      },
      "source": [
        "#Defining Variables\n",
        "\n",
        "#Data set information\n",
        "DATASET = 'cifar-10'\n",
        "#DATASET = 'cifar-100'\n",
        "input_shape=(32,32,3)\n",
        "\n",
        "if DATASET == 'cifar-10':\n",
        "  num_classes = 10\n",
        "elif DATASET == 'cifar-100':\n",
        "  num_classes = 100\n",
        "\n",
        "#Model Parameters\n",
        "\n",
        "#model_type = 'Alexnet'\n",
        "model_type = 'ResNet50'\n",
        "\n",
        "epochs = 50\n",
        "lrate = 0.01\n",
        "decay = lrate/epochs\n",
        "batch_size = 32\n",
        "\n",
        "data_augmentation = False\n",
        "flow_from_dir = False\n",
        "\n",
        "subtract_mean = True\n",
        "seed = 7\n",
        "np.random.seed(seed)\n",
        "\n",
        "validate_dir = os.path.join(\"data\",\"test\")\n",
        "train_dir = os.path.join(\"data\",\"train\")\n",
        "\n",
        "# Prepare model model saving directory.\n",
        "save_dir = os.path.join(os.getcwd(), 'saved_models')\n",
        "\n",
        "#model_name = 'cifar10_%s_model.{epoch:03d}.h5' % model_type\n",
        "model_name = DATASET+'_'+'%s_model.{epoch:03d}.h5' % model_type\n",
        "\n",
        "if not os.path.isdir(save_dir):\n",
        "    os.makedirs(save_dir)\n",
        "filepath = os.path.join(save_dir, model_name)\n",
        "print(\"Model Type: \",model_type)\n",
        "print(\"Model File: \",filepath)"
      ],
      "execution_count": 12,
      "outputs": [
        {
          "output_type": "stream",
          "name": "stdout",
          "text": [
            "Model Type:  ResNet50\n",
            "Model File:  /content/saved_models/cifar-10_ResNet50_model.{epoch:03d}.h5\n"
          ]
        }
      ]
    },
    {
      "cell_type": "code",
      "metadata": {
        "id": "BUmkHwlR4Bex"
      },
      "source": [
        "if flow_from_dir:\n",
        "  if DATASET == 'cifar-10':\n",
        "    %pip install cifar2png\n",
        "    %cifar2png cifar10 \"data\""
      ],
      "execution_count": 13,
      "outputs": []
    },
    {
      "cell_type": "code",
      "metadata": {
        "id": "pJ39ZC-BXg37",
        "outputId": "966795b0-dc3e-47e5-9faf-a8249980462b",
        "colab": {
          "base_uri": "https://localhost:8080/",
          "height": 304
        }
      },
      "source": [
        "if not flow_from_dir:\n",
        "  #load data\n",
        "  if DATASET == 'cifar-10':\n",
        "    (X_train, y_train),(X_test,y_test) = cifar10.load_data()\n",
        "    X_train.shape, X_test.shape, X_train.shape[1:],X_train.dtype\n",
        "  elif DATASET == 'cifar-100':\n",
        "    (X_train, y_train),(X_test,y_test) = cifar100.load_data()\n",
        "    X_train.shape, X_test.shape, X_train.shape[1:],X_train.dtype\n",
        "\n",
        "  #Plot data\n",
        "  for i in range(0,9):\n",
        "    plt.subplot(330+1+i)\n",
        "    plt.imshow(X_train[i])\n",
        "  plt.show() \n",
        "  \n"
      ],
      "execution_count": 14,
      "outputs": [
        {
          "output_type": "stream",
          "name": "stdout",
          "text": [
            "Downloading data from https://www.cs.toronto.edu/~kriz/cifar-10-python.tar.gz\n",
            "170498071/170498071 [==============================] - 14s 0us/step\n"
          ]
        },
        {
          "output_type": "display_data",
          "data": {
            "text/plain": [
              "<Figure size 432x288 with 9 Axes>"
            ],
            "image/png": "[encoded data removed]"
          },
          "metadata": {
            "needs_background": "light"
          }
        }
      ]
    },
    {
      "cell_type": "code",
      "metadata": {
        "id": "R_4A1KRAhfbe"
      },
      "source": [
        "def convert_to_imagenet_size(images):\n",
        "  tmp_images = []\n",
        "  for image in images:\n",
        "    image = skimage.transform.resize(image,(224,224),mode='constant')\n",
        "    image = img_as_ubyte(image)\n",
        "    tmp_images.append(image)\n",
        "  return np.array(tmp_images)"
      ],
      "execution_count": 15,
      "outputs": []
    },
    {
      "cell_type": "code",
      "metadata": {
        "id": "QVJcPP50W2ri",
        "outputId": "ef2cf8da-91d8-4839-da41-5423b553c301",
        "colab": {
          "base_uri": "https://localhost:8080/"
        }
      },
      "source": [
        "#Data Normalization\n",
        "if not flow_from_dir:\n",
        "  if not data_augmentation:\n",
        "    X_train = X_train.astype('float32')\n",
        "    X_test = X_test.astype('float32')\n",
        "    X_train = X_train/255.\n",
        "    X_test = X_test/255.\n",
        "\n",
        "    if subtract_mean:\n",
        "      X_train_mean = np.mean(X_train)\n",
        "      X_train -= X_train_mean\n",
        "      X_test_mean = np.mean(X_test)\n",
        "      X_test -= X_test_mean\n",
        "\n",
        "  print(y_train.shape, y_test.shape)"
      ],
      "execution_count": 16,
      "outputs": [
        {
          "output_type": "stream",
          "name": "stdout",
          "text": [
            "(50000, 1) (10000, 1)\n"
          ]
        }
      ]
    },
    {
      "cell_type": "code",
      "metadata": {
        "id": "XerWb6T3YK-x",
        "outputId": "da629c82-b822-4de0-d1c7-8fb149318271",
        "colab": {
          "base_uri": "https://localhost:8080/"
        }
      },
      "source": [
        "if not flow_from_dir:\n",
        "  y_train = np_utils.to_categorical(y_train)\n",
        "  y_test = np_utils.to_categorical(y_test)\n",
        "  print(y_train.shape, y_test.shape)"
      ],
      "execution_count": 17,
      "outputs": [
        {
          "output_type": "stream",
          "name": "stdout",
          "text": [
            "(50000, 10) (10000, 10)\n"
          ]
        }
      ]
    },
    {
      "cell_type": "code",
      "metadata": {
        "id": "PS86-ZpEZMUY",
        "outputId": "da969814-9e40-4f89-fda2-d432058afb52",
        "colab": {
          "base_uri": "https://localhost:8080/"
        }
      },
      "source": [
        "#num_classes = y_train.shape[1]\n",
        "#input_shape=X_train.shape[1:]\n",
        "\n",
        "input_shape,num_classes"
      ],
      "execution_count": 18,
      "outputs": [
        {
          "output_type": "execute_result",
          "data": {
            "text/plain": [
              "((32, 32, 3), 10)"
            ]
          },
          "metadata": {},
          "execution_count": 18
        }
      ]
    },
    {
      "cell_type": "code",
      "metadata": {
        "id": "m2ExFFaFOSEQ"
      },
      "source": [
        "def identity_block(X, f, filters, stage, block):\n",
        "    \"\"\"\n",
        "    Implementation of the identity block as defined in Figure 3\n",
        "    \n",
        "    Arguments:\n",
        "    X -- input tensor of shape (m, n_H_prev, n_W_prev, n_C_prev)\n",
        "    f -- integer, specifying the shape of the middle CONV's window for the main path\n",
        "    filters -- python list of integers, defining the number of filters in the CONV layers of the main path\n",
        "    stage -- integer, used to name the layers, depending on their position in the network\n",
        "    block -- string/character, used to name the layers, depending on their position in the network\n",
        "    \n",
        "    Returns:\n",
        "    X -- output of the identity block, tensor of shape (n_H, n_W, n_C)\n",
        "    \"\"\"\n",
        "    \n",
        "    # defining name basis\n",
        "    conv_name_base = 'res' + str(stage) + block + '_branch'\n",
        "    bn_name_base = 'bn' + str(stage) + block + '_branch'\n",
        "    \n",
        "    # Retrieve Filters\n",
        "    F1, F2, F3 = filters\n",
        "    \n",
        "    # Save the input value. You'll need this later to add back to the main path. \n",
        "    X_shortcut = X\n",
        "    \n",
        "    # First component of main path\n",
        "    X = Conv2D(filters = F1, kernel_size = (1, 1), strides = (1,1), padding = 'valid', name = conv_name_base + '2a', kernel_initializer = glorot_uniform(seed=0))(X)\n",
        "    X = BatchNormalization(axis = 3, name = bn_name_base + '2a')(X)\n",
        "    X = Activation('relu')(X)\n",
        "\n",
        "    \n",
        "    # Second component of main path (≈3 lines)\n",
        "    X = Conv2D(filters = F2, kernel_size = (f, f), strides = (1,1), padding = 'same', name = conv_name_base + '2b', kernel_initializer = glorot_uniform(seed=0))(X)\n",
        "    X = BatchNormalization(axis = 3, name = bn_name_base + '2b')(X)\n",
        "    X = Activation('relu')(X)\n",
        "\n",
        "    # Third component of main path (≈2 lines)\n",
        "    X = Conv2D(filters = F3, kernel_size = (1, 1), strides = (1,1), padding = 'valid', name = conv_name_base + '2c', kernel_initializer = glorot_uniform(seed=0))(X)\n",
        "    X = BatchNormalization(axis = 3, name = bn_name_base + '2c')(X)\n",
        "\n",
        "    # Final step: Add shortcut value to main path, and pass it through a RELU activation (≈2 lines)\n",
        "    X = Add()([X, X_shortcut])\n",
        "    X = Activation('relu')(X)\n",
        "    \n",
        "    \n",
        "    return X"
      ],
      "execution_count": 19,
      "outputs": []
    },
    {
      "cell_type": "code",
      "metadata": {
        "id": "DlxcIF6qZpz8"
      },
      "source": [
        "def convolutional_block(X, f, filters, stage, block, s = 2):\n",
        "    \"\"\"\n",
        "    Implementation of the convolutional block as defined in Figure 4\n",
        "    \n",
        "    Arguments:\n",
        "    X -- input tensor of shape (m, n_H_prev, n_W_prev, n_C_prev)\n",
        "    f -- integer, specifying the shape of the middle CONV's window for the main path\n",
        "    filters -- python list of integers, defining the number of filters in the CONV layers of the main path\n",
        "    stage -- integer, used to name the layers, depending on their position in the network\n",
        "    block -- string/character, used to name the layers, depending on their position in the network\n",
        "    s -- Integer, specifying the stride to be used\n",
        "    \n",
        "    Returns:\n",
        "    X -- output of the convolutional block, tensor of shape (n_H, n_W, n_C)\n",
        "    \"\"\"\n",
        "    \n",
        "    # defining name basis\n",
        "    conv_name_base = 'res' + str(stage) + block + '_branch'\n",
        "    bn_name_base = 'bn' + str(stage) + block + '_branch'\n",
        "    \n",
        "    # Retrieve Filters\n",
        "    F1, F2, F3 = filters\n",
        "    \n",
        "    # Save the input value\n",
        "    X_shortcut = X\n",
        "\n",
        "\n",
        "    ##### MAIN PATH #####\n",
        "    # First component of main path \n",
        "    X = Conv2D(F1, (1, 1), strides = (s,s), name = conv_name_base + '2a', kernel_initializer = glorot_uniform(seed=0))(X)\n",
        "    X = BatchNormalization(axis = 3, name = bn_name_base + '2a')(X)\n",
        "    X = Activation('relu')(X)\n",
        "\n",
        "    # Second component of main path (≈3 lines)\n",
        "    X = Conv2D(filters = F2, kernel_size = (f, f), strides = (1,1), padding = 'same', name = conv_name_base + '2b', kernel_initializer = glorot_uniform(seed=0))(X)\n",
        "    X = BatchNormalization(axis = 3, name = bn_name_base + '2b')(X)\n",
        "    X = Activation('relu')(X)\n",
        "\n",
        "\n",
        "    # Third component of main path (≈2 lines)\n",
        "    X = Conv2D(filters = F3, kernel_size = (1, 1), strides = (1,1), padding = 'valid', name = conv_name_base + '2c', kernel_initializer = glorot_uniform(seed=0))(X)\n",
        "    X = BatchNormalization(axis = 3, name = bn_name_base + '2c')(X)\n",
        "\n",
        "\n",
        "    ##### SHORTCUT PATH #### (≈2 lines)\n",
        "    X_shortcut = Conv2D(filters = F3, kernel_size = (1, 1), strides = (s,s), padding = 'valid', name = conv_name_base + '1',\n",
        "                        kernel_initializer = glorot_uniform(seed=0))(X_shortcut)\n",
        "    X_shortcut = BatchNormalization(axis = 3, name = bn_name_base + '1')(X_shortcut)\n",
        "\n",
        "    # Final step: Add shortcut value to main path, and pass it through a RELU activation (≈2 lines)\n",
        "    X = Add()([X, X_shortcut])\n",
        "    X = Activation('relu')(X)\n",
        "    \n",
        "    \n",
        "    return X"
      ],
      "execution_count": 20,
      "outputs": []
    },
    {
      "cell_type": "code",
      "metadata": {
        "id": "IMrQPf1TR2sq"
      },
      "source": [
        "def ResNet50(input_shape=(32, 32, 3), classes=10):\n",
        "    \"\"\"\n",
        "    Implementation of the popular ResNet50 the following architecture:\n",
        "    CONV2D -> BATCHNORM -> RELU -> MAXPOOL -> CONVBLOCK -> IDBLOCK*2 -> CONVBLOCK -> IDBLOCK*3\n",
        "    -> CONVBLOCK -> IDBLOCK*5 -> CONVBLOCK -> IDBLOCK*2 -> AVGPOOL -> TOPLAYER\n",
        "\n",
        "    Arguments:\n",
        "    input_shape -- shape of the images of the dataset\n",
        "    classes -- integer, number of classes\n",
        "\n",
        "    Returns:\n",
        "    model -- a Model() instance in Keras\n",
        "    \"\"\"\n",
        "\n",
        "    # Define the input as a tensor with shape input_shape\n",
        "    X_input = Input(input_shape)\n",
        "\n",
        "    # Zero-Padding\n",
        "    X = ZeroPadding2D((3, 3))(X_input)\n",
        "\n",
        "    # Stage 1\n",
        "    X = Conv2D(64, (7, 7), strides=(2, 2), name='conv1', kernel_initializer=glorot_uniform(seed=0))(X)\n",
        "    X = BatchNormalization(axis=3, name='bn_conv1')(X)\n",
        "    X = Activation('relu')(X)\n",
        "    X = MaxPooling2D((3, 3), strides=(2, 2))(X)\n",
        "\n",
        "    # Stage 2\n",
        "    X = convolutional_block(X, f=3, filters=[64, 64, 256], stage=2, block='a', s=1)\n",
        "    X = identity_block(X, 3, [64, 64, 256], stage=2, block='b')\n",
        "    X = identity_block(X, 3, [64, 64, 256], stage=2, block='c')\n",
        "\n",
        "    ### START CODE HERE ###\n",
        "\n",
        "    # Stage 3 (≈4 lines)\n",
        "    X = convolutional_block(X, f = 3, filters = [128, 128, 512], stage = 3, block='a', s = 2)\n",
        "    X = identity_block(X, 3, [128, 128, 512], stage=3, block='b')\n",
        "    X = identity_block(X, 3, [128, 128, 512], stage=3, block='c')\n",
        "    X = identity_block(X, 3, [128, 128, 512], stage=3, block='d')\n",
        "\n",
        "    # Stage 4 (≈6 lines)\n",
        "    X = convolutional_block(X, f = 3, filters = [256, 256, 1024], stage = 4, block='a', s = 2)\n",
        "    X = identity_block(X, 3, [256, 256, 1024], stage=4, block='b')\n",
        "    X = identity_block(X, 3, [256, 256, 1024], stage=4, block='c')\n",
        "    X = identity_block(X, 3, [256, 256, 1024], stage=4, block='d')\n",
        "    X = identity_block(X, 3, [256, 256, 1024], stage=4, block='e')\n",
        "    X = identity_block(X, 3, [256, 256, 1024], stage=4, block='f')\n",
        "\n",
        "    # Stage 5 (≈3 lines)\n",
        "    X = convolutional_block(X, f = 3, filters = [512, 512, 2048], stage = 5, block='a', s = 2)\n",
        "    X = identity_block(X, 3, [512, 512, 2048], stage=5, block='b')\n",
        "    X = identity_block(X, 3, [512, 512, 2048], stage=5, block='c')\n",
        "\n",
        "    # AVGPOOL (≈1 line). Use \"X = AveragePooling2D(...)(X)\"\n",
        "    X = AveragePooling2D((1,1), name=\"avg_pool\")(X)\n",
        "\n",
        "    ### END CODE HERE ###\n",
        "\n",
        "    # output layer\n",
        "    X = Flatten()(X)\n",
        "    X = Dense(classes, activation='softmax', name='fc' + str(classes), kernel_initializer = glorot_uniform(seed=0))(X)\n",
        "    \n",
        "    \n",
        "    # Create model\n",
        "    model = Model(inputs = X_input, outputs = X, name='ResNet50')\n",
        "\n",
        "    return model"
      ],
      "execution_count": 21,
      "outputs": []
    },
    {
      "cell_type": "code",
      "metadata": {
        "id": "hXFuLmd6bjpY"
      },
      "source": [
        "#Define Alexnet Model\n",
        "def AlexnetModel(input_shape,num_classes):\n",
        "  model = Sequential()\n",
        "  model.add(Conv2D(filters=96,kernel_size=(3,3),strides=(4,4),input_shape=input_shape, activation='relu'))\n",
        "  model.add(MaxPooling2D(pool_size=(2,2),strides=(2,2)))\n",
        "  model.add(Conv2D(256,(5,5),padding='same',activation='relu'))\n",
        "  model.add(MaxPooling2D(pool_size=(2,2),strides=(2,2)))\n",
        "  model.add(Conv2D(384,(3,3),padding='same',activation='relu'))\n",
        "  model.add(Conv2D(384,(3,3),padding='same',activation='relu'))\n",
        "  model.add(Conv2D(256,(3,3),padding='same',activation='relu'))\n",
        "  model.add(MaxPooling2D(pool_size=(2,2),strides=(2,2)))\n",
        "\n",
        "  model.add(Flatten())\n",
        "  model.add(Dense(4096, activation='relu'))\n",
        "  model.add(Dropout(0.4))\n",
        "  model.add(Dense(4096, activation='relu'))\n",
        "  model.add(Dropout(0.4))\n",
        "  model.add(Dense(num_classes,activation='softmax'))\n",
        "\n",
        "  #model.compile(optimizer='adam',loss='categorical_crossentropy',metrics=['accuracy'])\n",
        "\n",
        "  #model.summary()\n",
        "  return model"
      ],
      "execution_count": 22,
      "outputs": []
    },
    {
      "cell_type": "code",
      "metadata": {
        "id": "eRNzvi-qZXvl"
      },
      "source": [
        "def get_model(input_shape,num_classes):\n",
        "  # Create the model - Normal model with CNN, dropouts and MaxPooling.\n",
        "  # This model gives accuracy of 77% on the test set after 25 epochs\n",
        "\n",
        "  model = Sequential()\n",
        "\n",
        "  #model.add(Conv2D(32,(3,3),input_shape=(32,32,3),padding='same',activation='relu'))\n",
        "  model.add(Conv2D(32,(3,3),input_shape=input_shape,padding='same',activation='relu'))\n",
        "  model.add(Dropout(0.2))\n",
        "\n",
        "  model.add(Conv2D(32,(3,3),activation='relu',padding='same'))\n",
        "  model.add(MaxPooling2D(pool_size=(2,2)))\n",
        "\n",
        "  model.add(Conv2D(64,(3,3),activation='relu',padding='same'))\n",
        "  model.add(Dropout(0.2))\n",
        "\n",
        "  model.add(Conv2D(64,(3,3),activation='relu',padding='same'))\n",
        "  model.add(MaxPooling2D(pool_size=(2,2)))\n",
        "\n",
        "  model.add(Conv2D(128,(3,3),activation='relu',padding='same'))\n",
        "  model.add(Dropout(0.2))\n",
        "\n",
        "  model.add(Conv2D(128,(3,3),activation='relu',padding='same'))\n",
        "  model.add(MaxPooling2D(pool_size=(2,2)))\n",
        "\n",
        "  model.add(Flatten())\n",
        "  model.add(Dropout(0.2))\n",
        "\n",
        "  model.add(Dense(1024,activation='relu'))\n",
        "  model.add(Dropout(0.2))\n",
        "\n",
        "  model.add(Dense(512,activation='relu'))\n",
        "  model.add(Dropout(0.2))\n",
        "\n",
        "  model.add(Dense(num_classes,activation='softmax'))\n",
        "\n",
        "  return model\n",
        "\n"
      ],
      "execution_count": 23,
      "outputs": []
    },
    {
      "cell_type": "code",
      "metadata": {
        "id": "p2cGLs6n9l0L"
      },
      "source": [
        "def lr_schedule(epoch):\n",
        "    \"\"\"Learning Rate Schedule\n",
        "\n",
        "    Learning rate is scheduled to be reduced after 80, 120, 160, 180 epochs.\n",
        "    Called automatically every epoch as part of callbacks during training.\n",
        "\n",
        "    # Arguments\n",
        "        epoch (int): The number of epochs\n",
        "\n",
        "    # Returns\n",
        "        lr (float32): learning rate\n",
        "    \"\"\"\n",
        "    lr = 1e-3\n",
        "    if epoch > 180:\n",
        "        lr *= 0.5e-3\n",
        "    elif epoch > 160:\n",
        "        lr *= 1e-3\n",
        "    elif epoch > 120:\n",
        "        lr *= 1e-2\n",
        "    elif epoch > 80:\n",
        "        lr *= 1e-1\n",
        "    print('Learning rate: ', lr)\n",
        "    return lr\n"
      ],
      "execution_count": 24,
      "outputs": []
    },
    {
      "cell_type": "code",
      "metadata": {
        "id": "sdnE9Sd0-NbF"
      },
      "source": [
        "# Prepare callbacks for model saving and for learning rate adjustment.\n",
        "\n",
        "early_stopping = EarlyStopping(monitor='val_loss', min_delta=0.001, patience=5, verbose=0, mode='auto', baseline=None, restore_best_weights=True)\n",
        "\n",
        "checkpoint = ModelCheckpoint(filepath=filepath,\n",
        "                             monitor='val_acc',\n",
        "                             verbose=1,\n",
        "                             save_best_only=True)\n",
        "\n",
        "lr_scheduler = LearningRateScheduler(lr_schedule)\n",
        "\n",
        "lr_reducer = ReduceLROnPlateau(factor=np.sqrt(0.1),\n",
        "                               cooldown=0,\n",
        "                               patience=5,\n",
        "                               min_lr=0.5e-6)\n",
        "\n",
        "callbacks = [checkpoint, lr_reducer, lr_scheduler,early_stopping]\n"
      ],
      "execution_count": 25,
      "outputs": []
    },
    {
      "cell_type": "code",
      "metadata": {
        "id": "AbLu2lefac_h",
        "outputId": "0a68de18-87b6-4056-9332-f656c070b4c2",
        "colab": {
          "base_uri": "https://localhost:8080/"
        }
      },
      "source": [
        "#model = get_model(input_shape,num_classes)\n",
        "if model_type == 'Alexnet':\n",
        "  #input_shape = (224,224,3)\n",
        "  model = AlexnetModel(input_shape,num_classes)\n",
        "elif model_type == 'ResNet50':\n",
        "  model = ResNet50(input_shape,num_classes)\n",
        "else:\n",
        "  model = get_model(input_shape,num_classes)\n",
        "\n",
        "# Compile model\n",
        "\n",
        "#optimizer = SGD(lr=lrate, momentum=0.9, decay=decay, nesterov=False)\n",
        "optimizer = Adam(lr=0.001, beta_1=0.9, beta_2=0.999, amsgrad=False)\n",
        "model.compile(loss= 'categorical_crossentropy' , optimizer=optimizer, metrics=[ 'accuracy' ])\n",
        "print(\"Model Summary of \",model_type)\n",
        "print(model.summary())\n",
        "\n"
      ],
      "execution_count": 26,
      "outputs": [
        {
          "output_type": "stream",
          "name": "stdout",
          "text": [
            "Model Summary of  ResNet50\n",
            "Model: \"ResNet50\"\n",
            "__________________________________________________________________________________________________\n",
            " Layer (type)                   Output Shape         Param #     Connected to                     \n",
            "==================================================================================================\n",
            " input_1 (InputLayer)           [(None, 32, 32, 3)]  0           []                               \n",
            "                                                                                                  \n",
            " zero_padding2d (ZeroPadding2D)  (None, 38, 38, 3)   0           ['input_1[0][0]']                \n",
            "                                                                                                  \n",
            " conv1 (Conv2D)                 (None, 16, 16, 64)   9472        ['zero_padding2d[0][0]']         \n",
            "                                                                                                  \n",
            " bn_conv1 (BatchNormalization)  (None, 16, 16, 64)   256         ['conv1[0][0]']                  \n",
            "                                                                                                  \n",
            " activation (Activation)        (None, 16, 16, 64)   0           ['bn_conv1[0][0]']               \n",
            "                                                                                                  \n",
            " max_pooling2d (MaxPooling2D)   (None, 7, 7, 64)     0           ['activation[0][0]']             \n",
            "                                                                                                  \n",
            " res2a_branch2a (Conv2D)        (None, 7, 7, 64)     4160        ['max_pooling2d[0][0]']          \n",
            "                                                                                                  \n",
            " bn2a_branch2a (BatchNormalizat  (None, 7, 7, 64)    256         ['res2a_branch2a[0][0]']         \n",
            " ion)                                                                                             \n",
            "                                                                                                  \n",
            " activation_1 (Activation)      (None, 7, 7, 64)     0           ['bn2a_branch2a[0][0]']          \n",
            "                                                                                                  \n",
            " res2a_branch2b (Conv2D)        (None, 7, 7, 64)     36928       ['activation_1[0][0]']           \n",
            "                                                                                                  \n",
            " bn2a_branch2b (BatchNormalizat  (None, 7, 7, 64)    256         ['res2a_branch2b[0][0]']         \n",
            " ion)                                                                                             \n",
            "                                                                                                  \n",
            " activation_2 (Activation)      (None, 7, 7, 64)     0           ['bn2a_branch2b[0][0]']          \n",
            "                                                                                                  \n",
            " res2a_branch2c (Conv2D)        (None, 7, 7, 256)    16640       ['activation_2[0][0]']           \n",
            "                                                                                                  \n",
            " res2a_branch1 (Conv2D)         (None, 7, 7, 256)    16640       ['max_pooling2d[0][0]']          \n",
            "                                                                                                  \n",
            " bn2a_branch2c (BatchNormalizat  (None, 7, 7, 256)   1024        ['res2a_branch2c[0][0]']         \n",
            " ion)                                                                                             \n",
            "                                                                                                  \n",
            " bn2a_branch1 (BatchNormalizati  (None, 7, 7, 256)   1024        ['res2a_branch1[0][0]']          \n",
            " on)                                                                                              \n",
            "                                                                                                  \n",
            " add (Add)                      (None, 7, 7, 256)    0           ['bn2a_branch2c[0][0]',          \n",
            "                                                                  'bn2a_branch1[0][0]']           \n",
            "                                                                                                  \n",
            " activation_3 (Activation)      (None, 7, 7, 256)    0           ['add[0][0]']                    \n",
            "                                                                                                  \n",
            " res2b_branch2a (Conv2D)        (None, 7, 7, 64)     16448       ['activation_3[0][0]']           \n",
            "                                                                                                  \n",
            " bn2b_branch2a (BatchNormalizat  (None, 7, 7, 64)    256         ['res2b_branch2a[0][0]']         \n",
            " ion)                                                                                             \n",
            "                                                                                                  \n",
            " activation_4 (Activation)      (None, 7, 7, 64)     0           ['bn2b_branch2a[0][0]']          \n",
            "                                                                                                  \n",
            " res2b_branch2b (Conv2D)        (None, 7, 7, 64)     36928       ['activation_4[0][0]']           \n",
            "                                                                                                  \n",
            " bn2b_branch2b (BatchNormalizat  (None, 7, 7, 64)    256         ['res2b_branch2b[0][0]']         \n",
            " ion)                                                                                             \n",
            "                                                                                                  \n",
            " activation_5 (Activation)      (None, 7, 7, 64)     0           ['bn2b_branch2b[0][0]']          \n",
            "                                                                                                  \n",
            " res2b_branch2c (Conv2D)        (None, 7, 7, 256)    16640       ['activation_5[0][0]']           \n",
            "                                                                                                  \n",
            " bn2b_branch2c (BatchNormalizat  (None, 7, 7, 256)   1024        ['res2b_branch2c[0][0]']         \n",
            " ion)                                                                                             \n",
            "                                                                                                  \n",
            " add_1 (Add)                    (None, 7, 7, 256)    0           ['bn2b_branch2c[0][0]',          \n",
            "                                                                  'activation_3[0][0]']           \n",
            "                                                                                                  \n",
            " activation_6 (Activation)      (None, 7, 7, 256)    0           ['add_1[0][0]']                  \n",
            "                                                                                                  \n",
            " res2c_branch2a (Conv2D)        (None, 7, 7, 64)     16448       ['activation_6[0][0]']           \n",
            "                                                                                                  \n",
            " bn2c_branch2a (BatchNormalizat  (None, 7, 7, 64)    256         ['res2c_branch2a[0][0]']         \n",
            " ion)                                                                                             \n",
            "                                                                                                  \n",
            " activation_7 (Activation)      (None, 7, 7, 64)     0           ['bn2c_branch2a[0][0]']          \n",
            "                                                                                                  \n",
            " res2c_branch2b (Conv2D)        (None, 7, 7, 64)     36928       ['activation_7[0][0]']           \n",
            "                                                                                                  \n",
            " bn2c_branch2b (BatchNormalizat  (None, 7, 7, 64)    256         ['res2c_branch2b[0][0]']         \n",
            " ion)                                                                                             \n",
            "                                                                                                  \n",
            " activation_8 (Activation)      (None, 7, 7, 64)     0           ['bn2c_branch2b[0][0]']          \n",
            "                                                                                                  \n",
            " res2c_branch2c (Conv2D)        (None, 7, 7, 256)    16640       ['activation_8[0][0]']           \n",
            "                                                                                                  \n",
            " bn2c_branch2c (BatchNormalizat  (None, 7, 7, 256)   1024        ['res2c_branch2c[0][0]']         \n",
            " ion)                                                                                             \n",
            "                                                                                                  \n",
            " add_2 (Add)                    (None, 7, 7, 256)    0           ['bn2c_branch2c[0][0]',          \n",
            "                                                                  'activation_6[0][0]']           \n",
            "                                                                                                  \n",
            " activation_9 (Activation)      (None, 7, 7, 256)    0           ['add_2[0][0]']                  \n",
            "                                                                                                  \n",
            " res3a_branch2a (Conv2D)        (None, 4, 4, 128)    32896       ['activation_9[0][0]']           \n",
            "                                                                                                  \n",
            " bn3a_branch2a (BatchNormalizat  (None, 4, 4, 128)   512         ['res3a_branch2a[0][0]']         \n",
            " ion)                                                                                             \n",
            "                                                                                                  \n",
            " activation_10 (Activation)     (None, 4, 4, 128)    0           ['bn3a_branch2a[0][0]']          \n",
            "                                                                                                  \n",
            " res3a_branch2b (Conv2D)        (None, 4, 4, 128)    147584      ['activation_10[0][0]']          \n",
            "                                                                                                  \n",
            " bn3a_branch2b (BatchNormalizat  (None, 4, 4, 128)   512         ['res3a_branch2b[0][0]']         \n",
            " ion)                                                                                             \n",
            "                                                                                                  \n",
            " activation_11 (Activation)     (None, 4, 4, 128)    0           ['bn3a_branch2b[0][0]']          \n",
            "                                                                                                  \n",
            " res3a_branch2c (Conv2D)        (None, 4, 4, 512)    66048       ['activation_11[0][0]']          \n",
            "                                                                                                  \n",
            " res3a_branch1 (Conv2D)         (None, 4, 4, 512)    131584      ['activation_9[0][0]']           \n",
            "                                                                                                  \n",
            " bn3a_branch2c (BatchNormalizat  (None, 4, 4, 512)   2048        ['res3a_branch2c[0][0]']         \n",
            " ion)                                                                                             \n",
            "                                                                                                  \n",
            " bn3a_branch1 (BatchNormalizati  (None, 4, 4, 512)   2048        ['res3a_branch1[0][0]']          \n",
            " on)                                                                                              \n",
            "                                                                                                  \n",
            " add_3 (Add)                    (None, 4, 4, 512)    0           ['bn3a_branch2c[0][0]',          \n",
            "                                                                  'bn3a_branch1[0][0]']           \n",
            "                                                                                                  \n",
            " activation_12 (Activation)     (None, 4, 4, 512)    0           ['add_3[0][0]']                  \n",
            "                                                                                                  \n",
            " res3b_branch2a (Conv2D)        (None, 4, 4, 128)    65664       ['activation_12[0][0]']          \n",
            "                                                                                                  \n",
            " bn3b_branch2a (BatchNormalizat  (None, 4, 4, 128)   512         ['res3b_branch2a[0][0]']         \n",
            " ion)                                                                                             \n",
            "                                                                                                  \n",
            " activation_13 (Activation)     (None, 4, 4, 128)    0           ['bn3b_branch2a[0][0]']          \n",
            "                                                                                                  \n",
            " res3b_branch2b (Conv2D)        (None, 4, 4, 128)    147584      ['activation_13[0][0]']          \n",
            "                                                                                                  \n",
            " bn3b_branch2b (BatchNormalizat  (None, 4, 4, 128)   512         ['res3b_branch2b[0][0]']         \n",
            " ion)                                                                                             \n",
            "                                                                                                  \n",
            " activation_14 (Activation)     (None, 4, 4, 128)    0           ['bn3b_branch2b[0][0]']          \n",
            "                                                                                                  \n",
            " res3b_branch2c (Conv2D)        (None, 4, 4, 512)    66048       ['activation_14[0][0]']          \n",
            "                                                                                                  \n",
            " bn3b_branch2c (BatchNormalizat  (None, 4, 4, 512)   2048        ['res3b_branch2c[0][0]']         \n",
            " ion)                                                                                             \n",
            "                                                                                                  \n",
            " add_4 (Add)                    (None, 4, 4, 512)    0           ['bn3b_branch2c[0][0]',          \n",
            "                                                                  'activation_12[0][0]']          \n",
            "                                                                                                  \n",
            " activation_15 (Activation)     (None, 4, 4, 512)    0           ['add_4[0][0]']                  \n",
            "                                                                                                  \n",
            " res3c_branch2a (Conv2D)        (None, 4, 4, 128)    65664       ['activation_15[0][0]']          \n",
            "                                                                                                  \n",
            " bn3c_branch2a (BatchNormalizat  (None, 4, 4, 128)   512         ['res3c_branch2a[0][0]']         \n",
            " ion)                                                                                             \n",
            "                                                                                                  \n",
            " activation_16 (Activation)     (None, 4, 4, 128)    0           ['bn3c_branch2a[0][0]']          \n"
          ]
        },
        {
          "output_type": "stream",
          "name": "stderr",
          "text": [
            "/usr/local/lib/python3.7/dist-packages/keras/optimizers/optimizer_v2/adam.py:110: UserWarning: The `lr` argument is deprecated, use `learning_rate` instead.\n",
            "  super(Adam, self).__init__(name, **kwargs)\n"
          ]
        },
        {
          "output_type": "stream",
          "name": "stdout",
          "text": [
            "                                                                                                  \n",
            " res3c_branch2b (Conv2D)        (None, 4, 4, 128)    147584      ['activation_16[0][0]']          \n",
            "                                                                                                  \n",
            " bn3c_branch2b (BatchNormalizat  (None, 4, 4, 128)   512         ['res3c_branch2b[0][0]']         \n",
            " ion)                                                                                             \n",
            "                                                                                                  \n",
            " activation_17 (Activation)     (None, 4, 4, 128)    0           ['bn3c_branch2b[0][0]']          \n",
            "                                                                                                  \n",
            " res3c_branch2c (Conv2D)        (None, 4, 4, 512)    66048       ['activation_17[0][0]']          \n",
            "                                                                                                  \n",
            " bn3c_branch2c (BatchNormalizat  (None, 4, 4, 512)   2048        ['res3c_branch2c[0][0]']         \n",
            " ion)                                                                                             \n",
            "                                                                                                  \n",
            " add_5 (Add)                    (None, 4, 4, 512)    0           ['bn3c_branch2c[0][0]',          \n",
            "                                                                  'activation_15[0][0]']          \n",
            "                                                                                                  \n",
            " activation_18 (Activation)     (None, 4, 4, 512)    0           ['add_5[0][0]']                  \n",
            "                                                                                                  \n",
            " res3d_branch2a (Conv2D)        (None, 4, 4, 128)    65664       ['activation_18[0][0]']          \n",
            "                                                                                                  \n",
            " bn3d_branch2a (BatchNormalizat  (None, 4, 4, 128)   512         ['res3d_branch2a[0][0]']         \n",
            " ion)                                                                                             \n",
            "                                                                                                  \n",
            " activation_19 (Activation)     (None, 4, 4, 128)    0           ['bn3d_branch2a[0][0]']          \n",
            "                                                                                                  \n",
            " res3d_branch2b (Conv2D)        (None, 4, 4, 128)    147584      ['activation_19[0][0]']          \n",
            "                                                                                                  \n",
            " bn3d_branch2b (BatchNormalizat  (None, 4, 4, 128)   512         ['res3d_branch2b[0][0]']         \n",
            " ion)                                                                                             \n",
            "                                                                                                  \n",
            " activation_20 (Activation)     (None, 4, 4, 128)    0           ['bn3d_branch2b[0][0]']          \n",
            "                                                                                                  \n",
            " res3d_branch2c (Conv2D)        (None, 4, 4, 512)    66048       ['activation_20[0][0]']          \n",
            "                                                                                                  \n",
            " bn3d_branch2c (BatchNormalizat  (None, 4, 4, 512)   2048        ['res3d_branch2c[0][0]']         \n",
            " ion)                                                                                             \n",
            "                                                                                                  \n",
            " add_6 (Add)                    (None, 4, 4, 512)    0           ['bn3d_branch2c[0][0]',          \n",
            "                                                                  'activation_18[0][0]']          \n",
            "                                                                                                  \n",
            " activation_21 (Activation)     (None, 4, 4, 512)    0           ['add_6[0][0]']                  \n",
            "                                                                                                  \n",
            " res4a_branch2a (Conv2D)        (None, 2, 2, 256)    131328      ['activation_21[0][0]']          \n",
            "                                                                                                  \n",
            " bn4a_branch2a (BatchNormalizat  (None, 2, 2, 256)   1024        ['res4a_branch2a[0][0]']         \n",
            " ion)                                                                                             \n",
            "                                                                                                  \n",
            " activation_22 (Activation)     (None, 2, 2, 256)    0           ['bn4a_branch2a[0][0]']          \n",
            "                                                                                                  \n",
            " res4a_branch2b (Conv2D)        (None, 2, 2, 256)    590080      ['activation_22[0][0]']          \n",
            "                                                                                                  \n",
            " bn4a_branch2b (BatchNormalizat  (None, 2, 2, 256)   1024        ['res4a_branch2b[0][0]']         \n",
            " ion)                                                                                             \n",
            "                                                                                                  \n",
            " activation_23 (Activation)     (None, 2, 2, 256)    0           ['bn4a_branch2b[0][0]']          \n",
            "                                                                                                  \n",
            " res4a_branch2c (Conv2D)        (None, 2, 2, 1024)   263168      ['activation_23[0][0]']          \n",
            "                                                                                                  \n",
            " res4a_branch1 (Conv2D)         (None, 2, 2, 1024)   525312      ['activation_21[0][0]']          \n",
            "                                                                                                  \n",
            " bn4a_branch2c (BatchNormalizat  (None, 2, 2, 1024)  4096        ['res4a_branch2c[0][0]']         \n",
            " ion)                                                                                             \n",
            "                                                                                                  \n",
            " bn4a_branch1 (BatchNormalizati  (None, 2, 2, 1024)  4096        ['res4a_branch1[0][0]']          \n",
            " on)                                                                                              \n",
            "                                                                                                  \n",
            " add_7 (Add)                    (None, 2, 2, 1024)   0           ['bn4a_branch2c[0][0]',          \n",
            "                                                                  'bn4a_branch1[0][0]']           \n",
            "                                                                                                  \n",
            " activation_24 (Activation)     (None, 2, 2, 1024)   0           ['add_7[0][0]']                  \n",
            "                                                                                                  \n",
            " res4b_branch2a (Conv2D)        (None, 2, 2, 256)    262400      ['activation_24[0][0]']          \n",
            "                                                                                                  \n",
            " bn4b_branch2a (BatchNormalizat  (None, 2, 2, 256)   1024        ['res4b_branch2a[0][0]']         \n",
            " ion)                                                                                             \n",
            "                                                                                                  \n",
            " activation_25 (Activation)     (None, 2, 2, 256)    0           ['bn4b_branch2a[0][0]']          \n",
            "                                                                                                  \n",
            " res4b_branch2b (Conv2D)        (None, 2, 2, 256)    590080      ['activation_25[0][0]']          \n",
            "                                                                                                  \n",
            " bn4b_branch2b (BatchNormalizat  (None, 2, 2, 256)   1024        ['res4b_branch2b[0][0]']         \n",
            " ion)                                                                                             \n",
            "                                                                                                  \n",
            " activation_26 (Activation)     (None, 2, 2, 256)    0           ['bn4b_branch2b[0][0]']          \n",
            "                                                                                                  \n",
            " res4b_branch2c (Conv2D)        (None, 2, 2, 1024)   263168      ['activation_26[0][0]']          \n",
            "                                                                                                  \n",
            " bn4b_branch2c (BatchNormalizat  (None, 2, 2, 1024)  4096        ['res4b_branch2c[0][0]']         \n",
            " ion)                                                                                             \n",
            "                                                                                                  \n",
            " add_8 (Add)                    (None, 2, 2, 1024)   0           ['bn4b_branch2c[0][0]',          \n",
            "                                                                  'activation_24[0][0]']          \n",
            "                                                                                                  \n",
            " activation_27 (Activation)     (None, 2, 2, 1024)   0           ['add_8[0][0]']                  \n",
            "                                                                                                  \n",
            " res4c_branch2a (Conv2D)        (None, 2, 2, 256)    262400      ['activation_27[0][0]']          \n",
            "                                                                                                  \n",
            " bn4c_branch2a (BatchNormalizat  (None, 2, 2, 256)   1024        ['res4c_branch2a[0][0]']         \n",
            " ion)                                                                                             \n",
            "                                                                                                  \n",
            " activation_28 (Activation)     (None, 2, 2, 256)    0           ['bn4c_branch2a[0][0]']          \n",
            "                                                                                                  \n",
            " res4c_branch2b (Conv2D)        (None, 2, 2, 256)    590080      ['activation_28[0][0]']          \n",
            "                                                                                                  \n",
            " bn4c_branch2b (BatchNormalizat  (None, 2, 2, 256)   1024        ['res4c_branch2b[0][0]']         \n",
            " ion)                                                                                             \n",
            "                                                                                                  \n",
            " activation_29 (Activation)     (None, 2, 2, 256)    0           ['bn4c_branch2b[0][0]']          \n",
            "                                                                                                  \n",
            " res4c_branch2c (Conv2D)        (None, 2, 2, 1024)   263168      ['activation_29[0][0]']          \n",
            "                                                                                                  \n",
            " bn4c_branch2c (BatchNormalizat  (None, 2, 2, 1024)  4096        ['res4c_branch2c[0][0]']         \n",
            " ion)                                                                                             \n",
            "                                                                                                  \n",
            " add_9 (Add)                    (None, 2, 2, 1024)   0           ['bn4c_branch2c[0][0]',          \n",
            "                                                                  'activation_27[0][0]']          \n",
            "                                                                                                  \n",
            " activation_30 (Activation)     (None, 2, 2, 1024)   0           ['add_9[0][0]']                  \n",
            "                                                                                                  \n",
            " res4d_branch2a (Conv2D)        (None, 2, 2, 256)    262400      ['activation_30[0][0]']          \n",
            "                                                                                                  \n",
            " bn4d_branch2a (BatchNormalizat  (None, 2, 2, 256)   1024        ['res4d_branch2a[0][0]']         \n",
            " ion)                                                                                             \n",
            "                                                                                                  \n",
            " activation_31 (Activation)     (None, 2, 2, 256)    0           ['bn4d_branch2a[0][0]']          \n",
            "                                                                                                  \n",
            " res4d_branch2b (Conv2D)        (None, 2, 2, 256)    590080      ['activation_31[0][0]']          \n",
            "                                                                                                  \n",
            " bn4d_branch2b (BatchNormalizat  (None, 2, 2, 256)   1024        ['res4d_branch2b[0][0]']         \n",
            " ion)                                                                                             \n",
            "                                                                                                  \n",
            " activation_32 (Activation)     (None, 2, 2, 256)    0           ['bn4d_branch2b[0][0]']          \n",
            "                                                                                                  \n",
            " res4d_branch2c (Conv2D)        (None, 2, 2, 1024)   263168      ['activation_32[0][0]']          \n",
            "                                                                                                  \n",
            " bn4d_branch2c (BatchNormalizat  (None, 2, 2, 1024)  4096        ['res4d_branch2c[0][0]']         \n",
            " ion)                                                                                             \n",
            "                                                                                                  \n",
            " add_10 (Add)                   (None, 2, 2, 1024)   0           ['bn4d_branch2c[0][0]',          \n",
            "                                                                  'activation_30[0][0]']          \n",
            "                                                                                                  \n",
            " activation_33 (Activation)     (None, 2, 2, 1024)   0           ['add_10[0][0]']                 \n",
            "                                                                                                  \n",
            " res4e_branch2a (Conv2D)        (None, 2, 2, 256)    262400      ['activation_33[0][0]']          \n",
            "                                                                                                  \n",
            " bn4e_branch2a (BatchNormalizat  (None, 2, 2, 256)   1024        ['res4e_branch2a[0][0]']         \n",
            " ion)                                                                                             \n",
            "                                                                                                  \n",
            " activation_34 (Activation)     (None, 2, 2, 256)    0           ['bn4e_branch2a[0][0]']          \n",
            "                                                                                                  \n",
            " res4e_branch2b (Conv2D)        (None, 2, 2, 256)    590080      ['activation_34[0][0]']          \n",
            "                                                                                                  \n",
            " bn4e_branch2b (BatchNormalizat  (None, 2, 2, 256)   1024        ['res4e_branch2b[0][0]']         \n",
            " ion)                                                                                             \n",
            "                                                                                                  \n",
            " activation_35 (Activation)     (None, 2, 2, 256)    0           ['bn4e_branch2b[0][0]']          \n",
            "                                                                                                  \n",
            " res4e_branch2c (Conv2D)        (None, 2, 2, 1024)   263168      ['activation_35[0][0]']          \n",
            "                                                                                                  \n",
            " bn4e_branch2c (BatchNormalizat  (None, 2, 2, 1024)  4096        ['res4e_branch2c[0][0]']         \n",
            " ion)                                                                                             \n",
            "                                                                                                  \n",
            " add_11 (Add)                   (None, 2, 2, 1024)   0           ['bn4e_branch2c[0][0]',          \n",
            "                                                                  'activation_33[0][0]']          \n",
            "                                                                                                  \n",
            " activation_36 (Activation)     (None, 2, 2, 1024)   0           ['add_11[0][0]']                 \n",
            "                                                                                                  \n",
            " res4f_branch2a (Conv2D)        (None, 2, 2, 256)    262400      ['activation_36[0][0]']          \n",
            "                                                                                                  \n",
            " bn4f_branch2a (BatchNormalizat  (None, 2, 2, 256)   1024        ['res4f_branch2a[0][0]']         \n",
            " ion)                                                                                             \n",
            "                                                                                                  \n",
            " activation_37 (Activation)     (None, 2, 2, 256)    0           ['bn4f_branch2a[0][0]']          \n",
            "                                                                                                  \n",
            " res4f_branch2b (Conv2D)        (None, 2, 2, 256)    590080      ['activation_37[0][0]']          \n",
            "                                                                                                  \n",
            " bn4f_branch2b (BatchNormalizat  (None, 2, 2, 256)   1024        ['res4f_branch2b[0][0]']         \n",
            " ion)                                                                                             \n",
            "                                                                                                  \n",
            " activation_38 (Activation)     (None, 2, 2, 256)    0           ['bn4f_branch2b[0][0]']          \n",
            "                                                                                                  \n",
            " res4f_branch2c (Conv2D)        (None, 2, 2, 1024)   263168      ['activation_38[0][0]']          \n",
            "                                                                                                  \n",
            " bn4f_branch2c (BatchNormalizat  (None, 2, 2, 1024)  4096        ['res4f_branch2c[0][0]']         \n",
            " ion)                                                                                             \n",
            "                                                                                                  \n",
            " add_12 (Add)                   (None, 2, 2, 1024)   0           ['bn4f_branch2c[0][0]',          \n",
            "                                                                  'activation_36[0][0]']          \n",
            "                                                                                                  \n",
            " activation_39 (Activation)     (None, 2, 2, 1024)   0           ['add_12[0][0]']                 \n",
            "                                                                                                  \n",
            " res5a_branch2a (Conv2D)        (None, 1, 1, 512)    524800      ['activation_39[0][0]']          \n",
            "                                                                                                  \n",
            " bn5a_branch2a (BatchNormalizat  (None, 1, 1, 512)   2048        ['res5a_branch2a[0][0]']         \n",
            " ion)                                                                                             \n",
            "                                                                                                  \n",
            " activation_40 (Activation)     (None, 1, 1, 512)    0           ['bn5a_branch2a[0][0]']          \n",
            "                                                                                                  \n",
            " res5a_branch2b (Conv2D)        (None, 1, 1, 512)    2359808     ['activation_40[0][0]']          \n",
            "                                                                                                  \n",
            " bn5a_branch2b (BatchNormalizat  (None, 1, 1, 512)   2048        ['res5a_branch2b[0][0]']         \n",
            " ion)                                                                                             \n",
            "                                                                                                  \n",
            " activation_41 (Activation)     (None, 1, 1, 512)    0           ['bn5a_branch2b[0][0]']          \n",
            "                                                                                                  \n",
            " res5a_branch2c (Conv2D)        (None, 1, 1, 2048)   1050624     ['activation_41[0][0]']          \n",
            "                                                                                                  \n",
            " res5a_branch1 (Conv2D)         (None, 1, 1, 2048)   2099200     ['activation_39[0][0]']          \n",
            "                                                                                                  \n",
            " bn5a_branch2c (BatchNormalizat  (None, 1, 1, 2048)  8192        ['res5a_branch2c[0][0]']         \n",
            " ion)                                                                                             \n",
            "                                                                                                  \n",
            " bn5a_branch1 (BatchNormalizati  (None, 1, 1, 2048)  8192        ['res5a_branch1[0][0]']          \n",
            " on)                                                                                              \n",
            "                                                                                                  \n",
            " add_13 (Add)                   (None, 1, 1, 2048)   0           ['bn5a_branch2c[0][0]',          \n",
            "                                                                  'bn5a_branch1[0][0]']           \n",
            "                                                                                                  \n",
            " activation_42 (Activation)     (None, 1, 1, 2048)   0           ['add_13[0][0]']                 \n",
            "                                                                                                  \n",
            " res5b_branch2a (Conv2D)        (None, 1, 1, 512)    1049088     ['activation_42[0][0]']          \n",
            "                                                                                                  \n",
            " bn5b_branch2a (BatchNormalizat  (None, 1, 1, 512)   2048        ['res5b_branch2a[0][0]']         \n",
            " ion)                                                                                             \n",
            "                                                                                                  \n",
            " activation_43 (Activation)     (None, 1, 1, 512)    0           ['bn5b_branch2a[0][0]']          \n",
            "                                                                                                  \n",
            " res5b_branch2b (Conv2D)        (None, 1, 1, 512)    2359808     ['activation_43[0][0]']          \n",
            "                                                                                                  \n",
            " bn5b_branch2b (BatchNormalizat  (None, 1, 1, 512)   2048        ['res5b_branch2b[0][0]']         \n",
            " ion)                                                                                             \n",
            "                                                                                                  \n",
            " activation_44 (Activation)     (None, 1, 1, 512)    0           ['bn5b_branch2b[0][0]']          \n",
            "                                                                                                  \n",
            " res5b_branch2c (Conv2D)        (None, 1, 1, 2048)   1050624     ['activation_44[0][0]']          \n",
            "                                                                                                  \n",
            " bn5b_branch2c (BatchNormalizat  (None, 1, 1, 2048)  8192        ['res5b_branch2c[0][0]']         \n",
            " ion)                                                                                             \n",
            "                                                                                                  \n",
            " add_14 (Add)                   (None, 1, 1, 2048)   0           ['bn5b_branch2c[0][0]',          \n",
            "                                                                  'activation_42[0][0]']          \n",
            "                                                                                                  \n",
            " activation_45 (Activation)     (None, 1, 1, 2048)   0           ['add_14[0][0]']                 \n",
            "                                                                                                  \n",
            " res5c_branch2a (Conv2D)        (None, 1, 1, 512)    1049088     ['activation_45[0][0]']          \n",
            "                                                                                                  \n",
            " bn5c_branch2a (BatchNormalizat  (None, 1, 1, 512)   2048        ['res5c_branch2a[0][0]']         \n",
            " ion)                                                                                             \n",
            "                                                                                                  \n",
            " activation_46 (Activation)     (None, 1, 1, 512)    0           ['bn5c_branch2a[0][0]']          \n",
            "                                                                                                  \n",
            " res5c_branch2b (Conv2D)        (None, 1, 1, 512)    2359808     ['activation_46[0][0]']          \n",
            "                                                                                                  \n",
            " bn5c_branch2b (BatchNormalizat  (None, 1, 1, 512)   2048        ['res5c_branch2b[0][0]']         \n",
            " ion)                                                                                             \n",
            "                                                                                                  \n",
            " activation_47 (Activation)     (None, 1, 1, 512)    0           ['bn5c_branch2b[0][0]']          \n",
            "                                                                                                  \n",
            " res5c_branch2c (Conv2D)        (None, 1, 1, 2048)   1050624     ['activation_47[0][0]']          \n",
            "                                                                                                  \n",
            " bn5c_branch2c (BatchNormalizat  (None, 1, 1, 2048)  8192        ['res5c_branch2c[0][0]']         \n",
            " ion)                                                                                             \n",
            "                                                                                                  \n",
            " add_15 (Add)                   (None, 1, 1, 2048)   0           ['bn5c_branch2c[0][0]',          \n",
            "                                                                  'activation_45[0][0]']          \n",
            "                                                                                                  \n",
            " activation_48 (Activation)     (None, 1, 1, 2048)   0           ['add_15[0][0]']                 \n",
            "                                                                                                  \n",
            " avg_pool (AveragePooling2D)    (None, 1, 1, 2048)   0           ['activation_48[0][0]']          \n",
            "                                                                                                  \n",
            " flatten (Flatten)              (None, 2048)         0           ['avg_pool[0][0]']               \n",
            "                                                                                                  \n",
            " fc10 (Dense)                   (None, 10)           20490       ['flatten[0][0]']                \n",
            "                                                                                                  \n",
            "==================================================================================================\n",
            "Total params: 23,608,202\n",
            "Trainable params: 23,555,082\n",
            "Non-trainable params: 53,120\n",
            "__________________________________________________________________________________________________\n",
            "None\n"
          ]
        }
      ]
    },
    {
      "cell_type": "code",
      "metadata": {
        "id": "AIEd9V4KMYR7",
        "outputId": "8cc4605e-2aec-412f-ce48-0375a6dc8d7b",
        "colab": {
          "base_uri": "https://localhost:8080/"
        }
      },
      "source": [
        "if data_augmentation:\n",
        "\tprint('Using real-time data augmentation.')\n",
        "\t# This will do preprocessing and realtime data augmentation:\n",
        "\tdatagen = ImageDataGenerator(\n",
        "        featurewise_center=True,  # set input mean to 0 over the dataset\n",
        "        samplewise_center=False,  # set each sample mean to 0\n",
        "        featurewise_std_normalization=True,  # divide inputs by std of the dataset\n",
        "        samplewise_std_normalization=False,  # divide each input by its std\n",
        "        zca_whitening=False,  # apply ZCA whitening\n",
        "        zca_epsilon=1e-06,  # epsilon for ZCA whitening\n",
        "        rotation_range=20,  # randomly rotate images in the range (degrees, 0 to 180)\n",
        "        # randomly shift images horizontally (fraction of total width)\n",
        "        width_shift_range=0.2,\n",
        "        # randomly shift images vertically (fraction of total height)\n",
        "        height_shift_range=0.2,\n",
        "        shear_range=0.,  # set range for random shear\n",
        "        zoom_range=0.,  # set range for random zoom\n",
        "        channel_shift_range=0.,  # set range for random channel shifts\n",
        "        # set mode for filling points outside the input boundaries\n",
        "        fill_mode='nearest',\n",
        "        cval=0.,  # value used for fill_mode = \"constant\"\n",
        "        horizontal_flip=True,  # randomly flip images\n",
        "        vertical_flip=False,  # randomly flip images\n",
        "        # set rescaling factor (applied before any other transformation)\n",
        "        rescale=None,\n",
        "        # set function that will be applied on each input\n",
        "        preprocessing_function=None,\n",
        "        # image data format, either \"channels_first\" or \"channels_last\"\n",
        "        data_format=None,\n",
        "        # fraction of images reserved for validation (strictly between 0 and 1)\n",
        "        validation_split=0.0)\n",
        "\n",
        "    # Compute quantities required for feature-wise normalization\n",
        "    # (std, mean, and principal components if ZCA whitening is applied).\n",
        "\n",
        "\n",
        "if not flow_from_dir:\n",
        "\tif not data_augmentation:\n",
        "\t\tprint('Not using data augmentation.')\n",
        "\t\thistory = model.fit(X_train, y_train,\n",
        "          batch_size=batch_size,\n",
        "          epochs=epochs,\n",
        "          validation_data=(X_test, y_test),\n",
        "          shuffle=True,\n",
        "          #callbacks=callbacks)\n",
        "          callbacks=[history_logger])\n",
        "\telse:   \n",
        "\t\tprint(\"model using data from downloaded dataset in memoory\")\n",
        "\t\tdatagen.fit(X_train)\n",
        "\t\t# Fit the model on the batches generated by datagen.flow().\n",
        "\t\thistory = model.fit_generator(datagen.flow(X_train, y_train,\n",
        "                                 batch_size=batch_size),\n",
        "                                 epochs=epochs,\n",
        "                                 validation_data=datagen.flow((X_test, y_test),batch_size=batch_size),\n",
        "                                 workers=4,\n",
        "                                 callbacks=callbacks)\n",
        "  \n",
        "\tscores = model.evaluate(X_test, y_test, verbose=1)\n",
        "\n",
        "else:\n",
        "\t# generator for reading train data from folder\n",
        "\n",
        "\tprint('Model fit using flow from directory')\n",
        "\n",
        "\n",
        "\ttrain_generator = datagen.flow_from_directory(\n",
        "      train_dir,\n",
        "      target_size = (224, 224),\n",
        "      color_mode = 'rgb',\n",
        "      batch_size = batch_size,\n",
        "      class_mode = 'categorical',\n",
        "      shuffle=False,\n",
        "      seed=42\n",
        "      )\n",
        "\t#\n",
        "\t# generator for reading validation data from folder\n",
        "\n",
        "\tvalidation_generator = datagen.flow_from_directory(\n",
        "      validate_dir,\n",
        "      target_size = (224, 224),\n",
        "      color_mode = 'rgb',\n",
        "      batch_size = batch_size,\n",
        "      class_mode = 'categorical',\n",
        "      shuffle=False,\n",
        "      seed=42)\n",
        "  \n",
        "\tSTEP_SIZE_TRAIN=train_generator.n//train_generator.batch_size\n",
        "\tSTEP_SIZE_VALID=validation_generator.n//validation_generator.batch_size\n",
        "  \n",
        "\thistory = model.fit_generator(generator=train_generator,\n",
        "                steps_per_epoch=STEP_SIZE_TRAIN,\n",
        "                validation_data=validation_generator,\n",
        "                validation_steps=STEP_SIZE_VALID,\n",
        "                epochs=10,\n",
        "                callbacks=callbacks\n",
        "                )\n",
        "  \n",
        "\tscores = model.evaluate_generator(generator=validation_generator,\n",
        "                           steps=STEP_SIZE_VALID, verbose=1)\n",
        "\n",
        "\t#Predict the output\n",
        "\t''' Use when to Predict the output\n",
        "\tSTEP_SIZE_TEST=test_generator.n//test_generator.batch_size\n",
        "\ttest_generator.reset()\n",
        "\tpred=model.predict_generator(test_generator,\n",
        "                               steps=STEP_SIZE_TEST,\n",
        "                               verbose=1)\n",
        "\n",
        "\t'''\n",
        "# Save model and weights\n",
        "\n",
        "\n",
        "\n",
        "# Score trained model.\n",
        "\n",
        "print('Test loss:', scores[0])\n",
        "print('Test accuracy:', scores[1])"
      ],
      "execution_count": 27,
      "outputs": [
        {
          "output_type": "stream",
          "name": "stdout",
          "text": [
            "Not using data augmentation.\n",
            "Epoch 1/50\n",
            "1563/1563 [==============================] - 82s 43ms/step - loss: 2.1712 - accuracy: 0.3174 - val_loss: 2.5246 - val_accuracy: 0.4056\n",
            "Epoch 2/50\n",
            "1563/1563 [==============================] - 65s 42ms/step - loss: 1.9459 - accuracy: 0.3914 - val_loss: 38.4184 - val_accuracy: 0.1815\n",
            "Epoch 3/50\n",
            "1563/1563 [==============================] - 63s 40ms/step - loss: 2.1710 - accuracy: 0.3053 - val_loss: 1.7185 - val_accuracy: 0.3739\n",
            "Epoch 4/50\n",
            "1563/1563 [==============================] - 63s 40ms/step - loss: 1.9539 - accuracy: 0.3526 - val_loss: 4.3914 - val_accuracy: 0.3551\n",
            "Epoch 5/50\n",
            "1563/1563 [==============================] - 63s 40ms/step - loss: 1.9275 - accuracy: 0.3561 - val_loss: 83.3090 - val_accuracy: 0.2719\n",
            "Epoch 6/50\n",
            "1563/1563 [==============================] - 64s 41ms/step - loss: 1.8929 - accuracy: 0.3612 - val_loss: 1.7814 - val_accuracy: 0.3610\n",
            "Epoch 7/50\n",
            "1563/1563 [==============================] - 63s 40ms/step - loss: 1.8080 - accuracy: 0.3808 - val_loss: 1.6657 - val_accuracy: 0.4046\n",
            "Epoch 8/50\n",
            "1563/1563 [==============================] - 63s 40ms/step - loss: 1.7089 - accuracy: 0.4076 - val_loss: 1.9567 - val_accuracy: 0.4420\n",
            "Epoch 9/50\n",
            "1563/1563 [==============================] - 63s 41ms/step - loss: 1.5662 - accuracy: 0.4565 - val_loss: 4.3117 - val_accuracy: 0.3875\n",
            "Epoch 10/50\n",
            "1563/1563 [==============================] - 62s 40ms/step - loss: 1.4728 - accuracy: 0.4828 - val_loss: 1.5276 - val_accuracy: 0.5097\n",
            "Epoch 11/50\n",
            "1563/1563 [==============================] - 62s 40ms/step - loss: 1.3970 - accuracy: 0.5125 - val_loss: 1.4327 - val_accuracy: 0.5101\n",
            "Epoch 12/50\n",
            "1563/1563 [==============================] - 65s 42ms/step - loss: 1.3102 - accuracy: 0.5386 - val_loss: 1.3072 - val_accuracy: 0.5537\n",
            "Epoch 13/50\n",
            "1563/1563 [==============================] - 62s 40ms/step - loss: 1.1706 - accuracy: 0.5897 - val_loss: 1.2874 - val_accuracy: 0.5905\n",
            "Epoch 14/50\n",
            "1563/1563 [==============================] - 62s 40ms/step - loss: 1.0899 - accuracy: 0.6191 - val_loss: 1.1251 - val_accuracy: 0.6231\n",
            "Epoch 15/50\n",
            "1563/1563 [==============================] - 63s 41ms/step - loss: 1.0770 - accuracy: 0.6250 - val_loss: 1.0321 - val_accuracy: 0.6450\n",
            "Epoch 16/50\n",
            "1563/1563 [==============================] - 62s 40ms/step - loss: 0.9470 - accuracy: 0.6695 - val_loss: 1.1542 - val_accuracy: 0.6047\n",
            "Epoch 17/50\n",
            "1563/1563 [==============================] - 62s 40ms/step - loss: 0.8572 - accuracy: 0.7018 - val_loss: 0.8896 - val_accuracy: 0.6910\n",
            "Epoch 18/50\n",
            "1563/1563 [==============================] - 64s 41ms/step - loss: 0.7678 - accuracy: 0.7328 - val_loss: 0.8701 - val_accuracy: 0.7026\n",
            "Epoch 19/50\n",
            "1563/1563 [==============================] - 63s 40ms/step - loss: 0.7603 - accuracy: 0.7354 - val_loss: 0.8766 - val_accuracy: 0.7036\n",
            "Epoch 20/50\n",
            "1563/1563 [==============================] - 64s 41ms/step - loss: 0.6424 - accuracy: 0.7753 - val_loss: 0.8659 - val_accuracy: 0.7138\n",
            "Epoch 21/50\n",
            "1563/1563 [==============================] - 63s 40ms/step - loss: 0.5778 - accuracy: 0.7992 - val_loss: 1.2141 - val_accuracy: 0.7076\n",
            "Epoch 22/50\n",
            "1563/1563 [==============================] - 63s 41ms/step - loss: 0.6269 - accuracy: 0.7855 - val_loss: 0.8759 - val_accuracy: 0.7124\n",
            "Epoch 23/50\n",
            "1563/1563 [==============================] - 62s 40ms/step - loss: 0.4781 - accuracy: 0.8335 - val_loss: 1.1785 - val_accuracy: 0.6929\n",
            "Epoch 24/50\n",
            "1563/1563 [==============================] - 62s 40ms/step - loss: 0.4209 - accuracy: 0.8527 - val_loss: 0.9071 - val_accuracy: 0.7285\n",
            "Epoch 25/50\n",
            "1563/1563 [==============================] - 65s 41ms/step - loss: 0.3684 - accuracy: 0.8719 - val_loss: 0.9162 - val_accuracy: 0.7171\n",
            "Epoch 26/50\n",
            "1563/1563 [==============================] - 62s 40ms/step - loss: 0.3860 - accuracy: 0.8681 - val_loss: 1.0113 - val_accuracy: 0.7037\n",
            "Epoch 27/50\n",
            "1563/1563 [==============================] - 62s 40ms/step - loss: 0.4195 - accuracy: 0.8524 - val_loss: 1.3883 - val_accuracy: 0.7197\n",
            "Epoch 28/50\n",
            "1563/1563 [==============================] - 65s 42ms/step - loss: 0.2417 - accuracy: 0.9161 - val_loss: 1.0021 - val_accuracy: 0.7226\n",
            "Epoch 29/50\n",
            "1563/1563 [==============================] - 62s 40ms/step - loss: 0.2265 - accuracy: 0.9214 - val_loss: 1.2627 - val_accuracy: 0.7182\n",
            "Epoch 30/50\n",
            "1563/1563 [==============================] - 62s 40ms/step - loss: 0.2149 - accuracy: 0.9264 - val_loss: 1.0789 - val_accuracy: 0.7289\n",
            "Epoch 31/50\n",
            "1563/1563 [==============================] - 62s 40ms/step - loss: 0.1919 - accuracy: 0.9342 - val_loss: 1.1057 - val_accuracy: 0.7272\n",
            "Epoch 32/50\n",
            "1563/1563 [==============================] - 63s 40ms/step - loss: 0.1609 - accuracy: 0.9437 - val_loss: 1.4259 - val_accuracy: 0.7083\n",
            "Epoch 33/50\n",
            "1563/1563 [==============================] - 63s 40ms/step - loss: 0.1588 - accuracy: 0.9461 - val_loss: 1.1493 - val_accuracy: 0.7240\n",
            "Epoch 34/50\n",
            "1563/1563 [==============================] - 63s 40ms/step - loss: 0.1479 - accuracy: 0.9486 - val_loss: 1.2209 - val_accuracy: 0.7289\n",
            "Epoch 35/50\n",
            "1563/1563 [==============================] - 64s 41ms/step - loss: 0.1270 - accuracy: 0.9557 - val_loss: 1.4206 - val_accuracy: 0.7012\n",
            "Epoch 36/50\n",
            "1563/1563 [==============================] - 63s 40ms/step - loss: 0.1428 - accuracy: 0.9521 - val_loss: 2.4800 - val_accuracy: 0.5475\n",
            "Epoch 37/50\n",
            "1563/1563 [==============================] - 63s 40ms/step - loss: 0.1615 - accuracy: 0.9450 - val_loss: 1.2741 - val_accuracy: 0.7318\n",
            "Epoch 38/50\n",
            "1563/1563 [==============================] - 65s 42ms/step - loss: 0.0894 - accuracy: 0.9696 - val_loss: 1.3156 - val_accuracy: 0.7300\n",
            "Epoch 39/50\n",
            "1563/1563 [==============================] - 63s 40ms/step - loss: 0.1147 - accuracy: 0.9606 - val_loss: 1.2590 - val_accuracy: 0.7347\n",
            "Epoch 40/50\n",
            "1563/1563 [==============================] - 63s 40ms/step - loss: 0.0907 - accuracy: 0.9687 - val_loss: 1.3157 - val_accuracy: 0.7342\n",
            "Epoch 41/50\n",
            "1563/1563 [==============================] - 64s 41ms/step - loss: 0.0922 - accuracy: 0.9681 - val_loss: 1.3106 - val_accuracy: 0.7418\n",
            "Epoch 42/50\n",
            "1563/1563 [==============================] - 63s 41ms/step - loss: 0.0972 - accuracy: 0.9680 - val_loss: 1.3483 - val_accuracy: 0.7343\n",
            "Epoch 43/50\n",
            "1563/1563 [==============================] - 63s 40ms/step - loss: 0.0808 - accuracy: 0.9728 - val_loss: 1.3468 - val_accuracy: 0.7339\n",
            "Epoch 44/50\n",
            "1563/1563 [==============================] - 64s 41ms/step - loss: 0.0824 - accuracy: 0.9718 - val_loss: 1.3598 - val_accuracy: 0.7332\n",
            "Epoch 45/50\n",
            "1563/1563 [==============================] - 64s 41ms/step - loss: 0.0773 - accuracy: 0.9749 - val_loss: 1.3523 - val_accuracy: 0.7373\n",
            "Epoch 46/50\n",
            "1563/1563 [==============================] - 63s 40ms/step - loss: 0.0713 - accuracy: 0.9762 - val_loss: 1.3679 - val_accuracy: 0.7364\n",
            "Epoch 47/50\n",
            "1563/1563 [==============================] - 64s 41ms/step - loss: 0.0751 - accuracy: 0.9752 - val_loss: 1.3881 - val_accuracy: 0.7381\n",
            "Epoch 48/50\n",
            "1563/1563 [==============================] - 63s 40ms/step - loss: 0.0694 - accuracy: 0.9760 - val_loss: 1.4993 - val_accuracy: 0.7276\n",
            "Epoch 49/50\n",
            "1563/1563 [==============================] - 63s 40ms/step - loss: 0.0712 - accuracy: 0.9754 - val_loss: 1.5419 - val_accuracy: 0.7202\n",
            "Epoch 50/50\n",
            "1563/1563 [==============================] - 64s 41ms/step - loss: 0.0739 - accuracy: 0.9766 - val_loss: 1.3741 - val_accuracy: 0.7457\n",
            "313/313 [==============================] - 4s 13ms/step - loss: 1.3741 - accuracy: 0.7457\n",
            "Test loss: 1.3740730285644531\n",
            "Test accuracy: 0.7457000017166138\n"
          ]
        }
      ]
    },
    {
      "cell_type": "code",
      "metadata": {
        "id": "T95kj0_iP54_",
        "outputId": "787c2581-bc89-4c36-c2fb-43ca2f67e43c",
        "colab": {
          "base_uri": "https://localhost:8080/",
          "height": 591
        }
      },
      "source": [
        "# list all data in history\n",
        "print(history.history.keys())\n",
        "# summarize history for accuracy\n",
        "plt.plot(history.history['accuracy'])\n",
        "plt.plot(history.history['val_accuracy'])\n",
        "plt.title('model accuracy')\n",
        "plt.ylabel('accuracy')\n",
        "plt.xlabel('epoch')\n",
        "plt.legend(['train', 'test'], loc='upper left')\n",
        "plt.show()\n",
        "# summarize history for loss\n",
        "plt.plot(history.history['loss'])\n",
        "plt.plot(history.history['val_loss'])\n",
        "plt.title('model loss')\n",
        "plt.ylabel('loss')\n",
        "plt.xlabel('epoch')\n",
        "plt.legend(['train', 'test'], loc='upper left')\n",
        "plt.show()"
      ],
      "execution_count": 28,
      "outputs": [
        {
          "output_type": "stream",
          "name": "stdout",
          "text": [
            "dict_keys(['loss', 'accuracy', 'val_loss', 'val_accuracy'])\n"
          ]
        },
        {
          "output_type": "display_data",
          "data": {
            "text/plain": [
              "<Figure size 432x288 with 1 Axes>"
            ],
            "image/png": "[encoded data removed]"
          },
          "metadata": {
            "needs_background": "light"
          }
        },
        {
          "output_type": "display_data",
          "data": {
            "text/plain": [
              "<Figure size 432x288 with 1 Axes>"
            ],
            "image/png": "[encoded data removed]"
          },
          "metadata": {
            "needs_background": "light"
          }
        }
      ]
    },
    {
      "cell_type": "code",
      "source": [
        "from sklearn.metrics import confusion_matrix\n",
        "import itertools\n",
        "\n"
      ],
      "metadata": {
        "id": "A_Skfpspj0Kz"
      },
      "execution_count": 29,
      "outputs": []
    },
    {
      "cell_type": "code",
      "source": [
        "predictions = model.predict(X_test, verbose=0)\n",
        "yitest = np.argmax(y_test, axis=1)\n",
        "\n",
        "yptest = np.argmax(predictions, axis=1)\n",
        "print (yitest)\n",
        "print (yptest)"
      ],
      "metadata": {
        "colab": {
          "base_uri": "https://localhost:8080/"
        },
        "id": "bTzh3hbclknq",
        "outputId": "69fd5049-0c79-461c-a9c0-6c483621f95b"
      },
      "execution_count": 30,
      "outputs": [
        {
          "output_type": "stream",
          "name": "stdout",
          "text": [
            "[3 8 8 ... 5 1 7]\n",
            "[3 8 8 ... 5 1 7]\n"
          ]
        }
      ]
    },
    {
      "cell_type": "code",
      "source": [
        "cfm = confusion_matrix(yitest, yptest)\n",
        "print (cfm)"
      ],
      "metadata": {
        "colab": {
          "base_uri": "https://localhost:8080/"
        },
        "id": "pHyxTlVmksBb",
        "outputId": "15d38458-2f81-449c-907d-051b24be8a3e"
      },
      "execution_count": 31,
      "outputs": [
        {
          "output_type": "stream",
          "name": "stdout",
          "text": [
            "[[769  19  50  14  20   3   7   7  77  34]\n",
            " [ 12 845   5   5   5   3   9   3  43  70]\n",
            " [ 57   9 654  31  86  57  58  29  12   7]\n",
            " [ 27   9  56 472  83 195  78  43  22  15]\n",
            " [ 15   5  67  36 751  33  48  30  13   2]\n",
            " [ 10   9  45 129  63 639  35  52   9   9]\n",
            " [  5  12  30  31  31  33 827  10  16   5]\n",
            " [ 16   2  28  30  76  48   3 784   6   7]\n",
            " [ 26  28  10   5   3   6   6   4 893  19]\n",
            " [ 29  71  10  11   9   5   4  11  27 823]]\n"
          ]
        }
      ]
    },
    {
      "cell_type": "code",
      "source": [
        "\n",
        "def plot_confusion_matrix(cm, classes,\n",
        "                          normalize=False,\n",
        "                          title='Confusion matrix',\n",
        "                          cmap=plt.cm.Blues):\n",
        "    \"\"\"\n",
        "    This function prints and plots the confusion matrix.\n",
        "    Normalization can be applied by setting `normalize=True`.\n",
        "    \"\"\"\n",
        "    if normalize:\n",
        "        cm = cm.astype('float') / cm.sum(axis=1)[:, np.newaxis]\n",
        "        print(\"Normalized confusion matrix\")\n",
        "    else:\n",
        "        print('Confusion matrix, without normalization')\n",
        "\n",
        "    #print(cm)\n",
        "\n",
        "    plt.imshow(cm, interpolation='nearest', cmap=cmap)\n",
        "    plt.title(title)\n",
        "    plt.colorbar()\n",
        "    tick_marks = np.arange(len(classes))\n",
        "    plt.xticks(tick_marks, classes, rotation=45)\n",
        "    plt.yticks(tick_marks, classes)\n",
        "\n",
        "    fmt = '.2f' if normalize else 'd'\n",
        "    thresh = cm.max() / 2.\n",
        "    for i, j in itertools.product(range(cm.shape[0]), range(cm.shape[1])):\n",
        "        plt.text(j, i, format(cm[i, j], fmt),\n",
        "                 horizontalalignment=\"center\",\n",
        "                 color=\"white\" if cm[i, j] > thresh else \"black\")\n",
        "\n",
        "    plt.ylabel('True label')\n",
        "    plt.xlabel('Predicted label')\n",
        "    plt.tight_layout()\n"
      ],
      "metadata": {
        "id": "LWyth4ybqOTV"
      },
      "execution_count": 32,
      "outputs": []
    },
    {
      "cell_type": "code",
      "source": [
        "plot_confusion_matrix(cfm, classes=range(10), \n",
        "                      title='Confusion matrix for ResNet50-cifar10')"
      ],
      "metadata": {
        "colab": {
          "base_uri": "https://localhost:8080/",
          "height": 315
        },
        "id": "lYxy2lHaqQ44",
        "outputId": "0d6e8df0-d444-4df2-ea5b-eb15c11beacc"
      },
      "execution_count": 33,
      "outputs": [
        {
          "output_type": "stream",
          "name": "stdout",
          "text": [
            "Confusion matrix, without normalization\n"
          ]
        },
        {
          "output_type": "display_data",
          "data": {
            "text/plain": [
              "<Figure size 432x288 with 2 Axes>"
            ],
            "image/png": "[encoded data removed]"
          },
          "metadata": {
            "needs_background": "light"
          }
        }
      ]
    },
    {
      "cell_type": "code",
      "source": [
        "cfm = confusion_matrix(yitest, yptest)\n",
        "print(cfm/1000)  "
      ],
      "metadata": {
        "colab": {
          "base_uri": "https://localhost:8080/"
        },
        "id": "8mmBqkTnqhYh",
        "outputId": "813f466d-5035-4f43-8de4-a2dfffe875cb"
      },
      "execution_count": 34,
      "outputs": [
        {
          "output_type": "stream",
          "name": "stdout",
          "text": [
            "[[0.769 0.019 0.05  0.014 0.02  0.003 0.007 0.007 0.077 0.034]\n",
            " [0.012 0.845 0.005 0.005 0.005 0.003 0.009 0.003 0.043 0.07 ]\n",
            " [0.057 0.009 0.654 0.031 0.086 0.057 0.058 0.029 0.012 0.007]\n",
            " [0.027 0.009 0.056 0.472 0.083 0.195 0.078 0.043 0.022 0.015]\n",
            " [0.015 0.005 0.067 0.036 0.751 0.033 0.048 0.03  0.013 0.002]\n",
            " [0.01  0.009 0.045 0.129 0.063 0.639 0.035 0.052 0.009 0.009]\n",
            " [0.005 0.012 0.03  0.031 0.031 0.033 0.827 0.01  0.016 0.005]\n",
            " [0.016 0.002 0.028 0.03  0.076 0.048 0.003 0.784 0.006 0.007]\n",
            " [0.026 0.028 0.01  0.005 0.003 0.006 0.006 0.004 0.893 0.019]\n",
            " [0.029 0.071 0.01  0.011 0.009 0.005 0.004 0.011 0.027 0.823]]\n"
          ]
        }
      ]
    },
    {
      "cell_type": "code",
      "source": [
        "plot_confusion_matrix(cfm, normalize=True, classes=range(10), \n",
        "                      title='Normalized confusion matrix for ResNet50-cifar10')"
      ],
      "metadata": {
        "colab": {
          "base_uri": "https://localhost:8080/",
          "height": 315
        },
        "id": "AxyKWbrpq57z",
        "outputId": "91212df9-7100-4f42-8616-c67ff5a650f8"
      },
      "execution_count": 35,
      "outputs": [
        {
          "output_type": "stream",
          "name": "stdout",
          "text": [
            "Normalized confusion matrix\n"
          ]
        },
        {
          "output_type": "display_data",
          "data": {
            "text/plain": [
              "<Figure size 432x288 with 2 Axes>"
            ],
            "image/png": "[encoded data removed]"
          },
          "metadata": {
            "needs_background": "light"
          }
        }
      ]
    },
    {
      "cell_type": "code",
      "source": [
        "from google.colab import drive\n",
        "drive.mount('/content/drive')"
      ],
      "metadata": {
        "colab": {
          "base_uri": "https://localhost:8080/"
        },
        "id": "Y0CEf5Al0N46",
        "outputId": "3b97ec70-573c-4eed-8479-530f3eb9cdd3"
      },
      "execution_count": 36,
      "outputs": [
        {
          "output_type": "stream",
          "name": "stdout",
          "text": [
            "Drive already mounted at /content/drive; to attempt to forcibly remount, call drive.mount(\"/content/drive\", force_remount=True).\n"
          ]
        }
      ]
    },
    {
      "cell_type": "code",
      "source": [
        "model.save('/content/drive/MyDrive/ECE6930/ResNet-50')"
      ],
      "metadata": {
        "colab": {
          "base_uri": "https://localhost:8080/"
        },
        "id": "oEF1X9rk0VlM",
        "outputId": "a7e85566-0cf7-4040-a779-e61fe24f2531"
      },
      "execution_count": 37,
      "outputs": [
        {
          "output_type": "stream",
          "name": "stderr",
          "text": [
            "WARNING:absl:Found untraced functions such as _jit_compiled_convolution_op, _jit_compiled_convolution_op, _jit_compiled_convolution_op, _jit_compiled_convolution_op, _jit_compiled_convolution_op while saving (showing 5 of 53). These functions will not be directly callable after loading.\n"
          ]
        }
      ]
    },
    {
      "cell_type": "code",
      "source": [
        "from tensorflow import keras\n",
        "model01 = keras.models.load_model('/content/drive/MyDrive/ECE6930/ResNet-50')"
      ],
      "metadata": {
        "id": "shU1e0oy1Cpk"
      },
      "execution_count": 38,
      "outputs": []
    },
    {
      "cell_type": "code",
      "source": [
        "predictions = model01.predict(X_test, verbose=0)\n",
        "yitest = np.argmax(y_test, axis=1)\n",
        "\n",
        "yptest = np.argmax(predictions, axis=1)\n",
        "print (yitest)\n",
        "print (yptest)"
      ],
      "metadata": {
        "colab": {
          "base_uri": "https://localhost:8080/"
        },
        "id": "DgL3C_bM1MYy",
        "outputId": "451ae080-7c8c-4809-b709-2e83473adffa"
      },
      "execution_count": 39,
      "outputs": [
        {
          "output_type": "stream",
          "name": "stdout",
          "text": [
            "[3 8 8 ... 5 1 7]\n",
            "[3 8 8 ... 5 1 7]\n"
          ]
        }
      ]
    },
    {
      "cell_type": "code",
      "source": [
        "cfm = confusion_matrix(yitest, yptest)\n",
        "print (cfm)"
      ],
      "metadata": {
        "colab": {
          "base_uri": "https://localhost:8080/"
        },
        "id": "mORUGVbi1Rdh",
        "outputId": "7f31aa7b-fd51-4670-959c-f9d42a9746cb"
      },
      "execution_count": 40,
      "outputs": [
        {
          "output_type": "stream",
          "name": "stdout",
          "text": [
            "[[769  19  50  14  20   3   7   7  77  34]\n",
            " [ 12 845   5   5   5   3   9   3  43  70]\n",
            " [ 57   9 654  31  86  57  58  29  12   7]\n",
            " [ 27   9  56 472  83 195  78  43  22  15]\n",
            " [ 15   5  67  36 751  33  48  30  13   2]\n",
            " [ 10   9  45 129  63 639  35  52   9   9]\n",
            " [  5  12  30  31  31  33 827  10  16   5]\n",
            " [ 16   2  28  30  76  48   3 784   6   7]\n",
            " [ 26  28  10   5   3   6   6   4 893  19]\n",
            " [ 29  71  10  11   9   5   4  11  27 823]]\n"
          ]
        }
      ]
    },
    {
      "cell_type": "code",
      "source": [
        "model01.save(\"my_h5_model.h5\")"
      ],
      "metadata": {
        "id": "ttivsA_M1r6c"
      },
      "execution_count": 41,
      "outputs": []
    },
    {
      "cell_type": "code",
      "source": [],
      "metadata": {
        "id": "3AF59y_J2iOC"
      },
      "execution_count": 41,
      "outputs": []
    },
    {
      "cell_type": "code",
      "source": [
        "! cd /content/drive/MyDrive/ECE6930"
      ],
      "metadata": {
        "id": "AwJeYMwL2YKU"
      },
      "execution_count": 42,
      "outputs": []
    },
    {
      "cell_type": "code",
      "source": [
        "model01.save(\"/content/drive/MyDrive/ECE6930/ResNet50-1121-01/my_h5_model.h5\")"
      ],
      "metadata": {
        "id": "7w0E1Wj02jQ_"
      },
      "execution_count": 43,
      "outputs": []
    },
    {
      "cell_type": "code",
      "source": [
        "reconstructed_model = keras.models.load_model(\"/content/drive/MyDrive/ECE6930/ResNet50-1121-01/my_h5_model.h5\")"
      ],
      "metadata": {
        "id": "3Fn7wZ3y29iG"
      },
      "execution_count": 44,
      "outputs": []
    },
    {
      "cell_type": "code",
      "source": [
        "predictions = reconstructed_model.predict(X_test, verbose=0)\n",
        "yitest = np.argmax(y_test, axis=1)\n",
        "\n",
        "yptest = np.argmax(predictions, axis=1)\n",
        "print (yitest)\n",
        "print (yptest)"
      ],
      "metadata": {
        "colab": {
          "base_uri": "https://localhost:8080/"
        },
        "id": "ahlU-FcN3IbG",
        "outputId": "df6178d9-c676-4fcf-8df0-930e00f05912"
      },
      "execution_count": 45,
      "outputs": [
        {
          "output_type": "stream",
          "name": "stdout",
          "text": [
            "[3 8 8 ... 5 1 7]\n",
            "[3 8 8 ... 5 1 7]\n"
          ]
        }
      ]
    },
    {
      "cell_type": "code",
      "source": [
        "cfm = confusion_matrix(yitest, yptest)\n",
        "print (cfm)"
      ],
      "metadata": {
        "colab": {
          "base_uri": "https://localhost:8080/"
        },
        "id": "M05Wjlz_3N66",
        "outputId": "2367fcaa-7c7b-4ac0-e804-02cd3d6b15ea"
      },
      "execution_count": 46,
      "outputs": [
        {
          "output_type": "stream",
          "name": "stdout",
          "text": [
            "[[769  19  50  14  20   3   7   7  77  34]\n",
            " [ 12 845   5   5   5   3   9   3  43  70]\n",
            " [ 57   9 654  31  86  57  58  29  12   7]\n",
            " [ 27   9  56 472  83 195  78  43  22  15]\n",
            " [ 15   5  67  36 751  33  48  30  13   2]\n",
            " [ 10   9  45 129  63 639  35  52   9   9]\n",
            " [  5  12  30  31  31  33 827  10  16   5]\n",
            " [ 16   2  28  30  76  48   3 784   6   7]\n",
            " [ 26  28  10   5   3   6   6   4 893  19]\n",
            " [ 29  71  10  11   9   5   4  11  27 823]]\n"
          ]
        }
      ]
    }
  ]
}