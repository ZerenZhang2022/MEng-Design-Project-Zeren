{
  "nbformat": 4,
  "nbformat_minor": 0,
  "metadata": {
    "colab": {
      "provenance": []
    },
    "kernelspec": {
      "name": "python3",
      "display_name": "Python 3"
    },
    "accelerator": "GPU",
    "gpuClass": "standard"
  },
  "cells": [
    {
      "cell_type": "markdown",
      "metadata": {
        "id": "view-in-github"
      },
      "source": [
        "<a href=\"https://colab.research.google.com/github/pravinkr/resnet50-cifar10-keras/blob/master/cifar_10_with_resnet_keras.ipynb\" target=\"_parent\"><img src=\"https://colab.research.google.com/assets/colab-badge.svg\" alt=\"Open In Colab\"/></a>"
      ]
    },
    {
      "cell_type": "code",
      "source": [
        "! nvidia-smi"
      ],
      "metadata": {
        "colab": {
          "base_uri": "https://localhost:8080/"
        },
        "id": "eYntIPIr45uF",
        "outputId": "47ae548e-3a21-49b0-ce77-9768956ab1c5"
      },
      "execution_count": null,
      "outputs": [
        {
          "output_type": "stream",
          "name": "stdout",
          "text": [
            "Mon Nov 21 20:34:36 2022       \n",
            "+-----------------------------------------------------------------------------+\n",
            "| NVIDIA-SMI 460.32.03    Driver Version: 460.32.03    CUDA Version: 11.2     |\n",
            "|-------------------------------+----------------------+----------------------+\n",
            "| GPU  Name        Persistence-M| Bus-Id        Disp.A | Volatile Uncorr. ECC |\n",
            "| Fan  Temp  Perf  Pwr:Usage/Cap|         Memory-Usage | GPU-Util  Compute M. |\n",
            "|                               |                      |               MIG M. |\n",
            "|===============================+======================+======================|\n",
            "|   0  Tesla T4            Off  | 00000000:00:04.0 Off |                    0 |\n",
            "| N/A   38C    P8     9W /  70W |      0MiB / 15109MiB |      0%      Default |\n",
            "|                               |                      |                  N/A |\n",
            "+-------------------------------+----------------------+----------------------+\n",
            "                                                                               \n",
            "+-----------------------------------------------------------------------------+\n",
            "| Processes:                                                                  |\n",
            "|  GPU   GI   CI        PID   Type   Process name                  GPU Memory |\n",
            "|        ID   ID                                                   Usage      |\n",
            "|=============================================================================|\n",
            "|  No running processes found                                                 |\n",
            "+-----------------------------------------------------------------------------+\n"
          ]
        }
      ]
    },
    {
      "cell_type": "code",
      "metadata": {
        "id": "0uoD7EUdjgXP"
      },
      "source": [
        "#Simple CNN model for CIFAR-10 dataset\n",
        "import numpy as np\n",
        "\n",
        "# Simple CNN model for CIFAR-10\n",
        "import numpy as np\n",
        "import os\n",
        "from keras.datasets import cifar10, cifar100\n",
        "from keras.models import Sequential, Model\n",
        "from keras.layers import Input, Add, Dense, Activation, ZeroPadding2D, BatchNormalization, Flatten, Conv2D, AveragePooling2D, MaxPooling2D, GlobalMaxPooling2D\n",
        "from keras.layers import Dropout\n",
        "from keras.layers import Flatten\n",
        "from keras.constraints import maxnorm\n",
        "from keras.optimizers import SGD, Adam\n",
        "from keras.layers.convolutional import Convolution2D\n",
        "from keras.layers.convolutional import MaxPooling2D\n",
        "from keras.callbacks import ModelCheckpoint, LearningRateScheduler\n",
        "from keras.callbacks import ReduceLROnPlateau\n",
        "from keras.callbacks import EarlyStopping\n",
        "from keras.regularizers import l2\n",
        "from keras.initializers import glorot_uniform\n",
        "from keras import backend as K\n",
        "\n",
        "from keras.utils import np_utils\n",
        "import matplotlib.pyplot as plt\n",
        "from keras.preprocessing.image import ImageDataGenerator\n",
        "%matplotlib inline\n",
        "\n",
        "import skimage\n",
        "from skimage.util import img_as_ubyte\n"
      ],
      "execution_count": null,
      "outputs": []
    },
    {
      "cell_type": "code",
      "metadata": {
        "id": "k34XYTn_gbVF",
        "outputId": "a0e4a40a-7860-4349-d504-e1466648ee47",
        "colab": {
          "base_uri": "https://localhost:8080/"
        }
      },
      "source": [
        "#Defining Variables\n",
        "\n",
        "#Data set information\n",
        "DATASET = 'cifar-10'\n",
        "#DATASET = 'cifar-100'\n",
        "input_shape=(32,32,3)\n",
        "\n",
        "if DATASET == 'cifar-10':\n",
        "  num_classes = 10\n",
        "elif DATASET == 'cifar-100':\n",
        "  num_classes = 100\n",
        "\n",
        "#Model Parameters\n",
        "\n",
        "#model_type = 'Alexnet'\n",
        "model_type = 'ResNet50'\n",
        "\n",
        "epochs = 50\n",
        "lrate = 0.01\n",
        "decay = lrate/epochs\n",
        "batch_size = 32\n",
        "\n",
        "data_augmentation = False\n",
        "flow_from_dir = False\n",
        "\n",
        "subtract_mean = True\n",
        "seed = 7\n",
        "np.random.seed(seed)\n",
        "\n",
        "validate_dir = os.path.join(\"data\",\"test\")\n",
        "train_dir = os.path.join(\"data\",\"train\")\n",
        "\n",
        "# Prepare model model saving directory.\n",
        "save_dir = os.path.join(os.getcwd(), 'saved_models')\n",
        "\n",
        "#model_name = 'cifar10_%s_model.{epoch:03d}.h5' % model_type\n",
        "model_name = DATASET+'_'+'%s_model.{epoch:03d}.h5' % model_type\n",
        "\n",
        "if not os.path.isdir(save_dir):\n",
        "    os.makedirs(save_dir)\n",
        "filepath = os.path.join(save_dir, model_name)\n",
        "print(\"Model Type: \",model_type)\n",
        "print(\"Model File: \",filepath)"
      ],
      "execution_count": null,
      "outputs": [
        {
          "output_type": "stream",
          "name": "stdout",
          "text": [
            "Model Type:  ResNet50\n",
            "Model File:  /content/saved_models/cifar-10_ResNet50_model.{epoch:03d}.h5\n"
          ]
        }
      ]
    },
    {
      "cell_type": "code",
      "metadata": {
        "id": "BUmkHwlR4Bex"
      },
      "source": [
        "if flow_from_dir:\n",
        "  if DATASET == 'cifar-10':\n",
        "    %pip install cifar2png\n",
        "    %cifar2png cifar10 \"data\""
      ],
      "execution_count": null,
      "outputs": []
    },
    {
      "cell_type": "code",
      "metadata": {
        "id": "pJ39ZC-BXg37",
        "outputId": "f948072b-600f-4d31-ae6b-277050c30e16",
        "colab": {
          "base_uri": "https://localhost:8080/",
          "height": 268
        }
      },
      "source": [
        "if not flow_from_dir:\n",
        "  #load data\n",
        "  if DATASET == 'cifar-10':\n",
        "    (X_train, y_train),(X_test,y_test) = cifar10.load_data()\n",
        "    X_train.shape, X_test.shape, X_train.shape[1:],X_train.dtype\n",
        "  elif DATASET == 'cifar-100':\n",
        "    (X_train, y_train),(X_test,y_test) = cifar100.load_data()\n",
        "    X_train.shape, X_test.shape, X_train.shape[1:],X_train.dtype\n",
        "\n",
        "  #Plot data\n",
        "  for i in range(0,9):\n",
        "    plt.subplot(330+1+i)\n",
        "    plt.imshow(X_train[i])\n",
        "  plt.show() \n",
        "  \n"
      ],
      "execution_count": null,
      "outputs": [
        {
          "output_type": "display_data",
          "data": {
            "text/plain": [
              "<Figure size 432x288 with 9 Axes>"
            ],
            "image/png": "[encoded data removed]"
          },
          "metadata": {
            "needs_background": "light"
          }
        }
      ]
    },
    {
      "cell_type": "code",
      "metadata": {
        "id": "R_4A1KRAhfbe"
      },
      "source": [
        "def convert_to_imagenet_size(images):\n",
        "  tmp_images = []\n",
        "  for image in images:\n",
        "    image = skimage.transform.resize(image,(224,224),mode='constant')\n",
        "    image = img_as_ubyte(image)\n",
        "    tmp_images.append(image)\n",
        "  return np.array(tmp_images)"
      ],
      "execution_count": null,
      "outputs": []
    },
    {
      "cell_type": "code",
      "metadata": {
        "id": "QVJcPP50W2ri",
        "outputId": "06ce552a-6d7c-4ea1-91b6-d045e86f9637",
        "colab": {
          "base_uri": "https://localhost:8080/"
        }
      },
      "source": [
        "#Data Normalization\n",
        "if not flow_from_dir:\n",
        "  if not data_augmentation:\n",
        "    X_train = X_train.astype('float32')\n",
        "    X_test = X_test.astype('float32')\n",
        "    X_train = X_train/255.\n",
        "    X_test = X_test/255.\n",
        "\n",
        "    if subtract_mean:\n",
        "      X_train_mean = np.mean(X_train)\n",
        "      X_train -= X_train_mean\n",
        "      X_test_mean = np.mean(X_test)\n",
        "      X_test -= X_test_mean\n",
        "\n",
        "  print(y_train.shape, y_test.shape)"
      ],
      "execution_count": null,
      "outputs": [
        {
          "output_type": "stream",
          "name": "stdout",
          "text": [
            "(50000, 1) (10000, 1)\n"
          ]
        }
      ]
    },
    {
      "cell_type": "code",
      "metadata": {
        "id": "XerWb6T3YK-x",
        "outputId": "dfc60528-ba26-4fb9-84ea-f16f2c454cb3",
        "colab": {
          "base_uri": "https://localhost:8080/"
        }
      },
      "source": [
        "if not flow_from_dir:\n",
        "  y_train = np_utils.to_categorical(y_train)\n",
        "  y_test = np_utils.to_categorical(y_test)\n",
        "  print(y_train.shape, y_test.shape)"
      ],
      "execution_count": null,
      "outputs": [
        {
          "output_type": "stream",
          "name": "stdout",
          "text": [
            "(50000, 10) (10000, 10)\n"
          ]
        }
      ]
    },
    {
      "cell_type": "code",
      "metadata": {
        "id": "PS86-ZpEZMUY",
        "outputId": "23bca94b-0bd0-48f0-9b72-31407adde718",
        "colab": {
          "base_uri": "https://localhost:8080/"
        }
      },
      "source": [
        "#num_classes = y_train.shape[1]\n",
        "#input_shape=X_train.shape[1:]\n",
        "\n",
        "input_shape,num_classes"
      ],
      "execution_count": null,
      "outputs": [
        {
          "output_type": "execute_result",
          "data": {
            "text/plain": [
              "((32, 32, 3), 10)"
            ]
          },
          "metadata": {},
          "execution_count": 54
        }
      ]
    },
    {
      "cell_type": "code",
      "metadata": {
        "id": "m2ExFFaFOSEQ"
      },
      "source": [
        "def identity_block(X, f, filters, stage, block):\n",
        "    \"\"\"\n",
        "    Implementation of the identity block as defined in Figure 3\n",
        "    \n",
        "    Arguments:\n",
        "    X -- input tensor of shape (m, n_H_prev, n_W_prev, n_C_prev)\n",
        "    f -- integer, specifying the shape of the middle CONV's window for the main path\n",
        "    filters -- python list of integers, defining the number of filters in the CONV layers of the main path\n",
        "    stage -- integer, used to name the layers, depending on their position in the network\n",
        "    block -- string/character, used to name the layers, depending on their position in the network\n",
        "    \n",
        "    Returns:\n",
        "    X -- output of the identity block, tensor of shape (n_H, n_W, n_C)\n",
        "    \"\"\"\n",
        "    \n",
        "    # defining name basis\n",
        "    conv_name_base = 'res' + str(stage) + block + '_branch'\n",
        "    bn_name_base = 'bn' + str(stage) + block + '_branch'\n",
        "    \n",
        "    # Retrieve Filters\n",
        "    F1, F2, F3 = filters\n",
        "    \n",
        "    # Save the input value. You'll need this later to add back to the main path. \n",
        "    X_shortcut = X\n",
        "    \n",
        "    # First component of main path\n",
        "    X = Conv2D(filters = F1, kernel_size = (1, 1), strides = (1,1), padding = 'valid', name = conv_name_base + '2a', kernel_initializer = glorot_uniform(seed=0))(X)\n",
        "    X = BatchNormalization(axis = 3, name = bn_name_base + '2a')(X)\n",
        "    X = Activation('relu')(X)\n",
        "\n",
        "    \n",
        "    # Second component of main path (≈3 lines)\n",
        "    X = Conv2D(filters = F2, kernel_size = (f, f), strides = (1,1), padding = 'same', name = conv_name_base + '2b', kernel_initializer = glorot_uniform(seed=0))(X)\n",
        "    X = BatchNormalization(axis = 3, name = bn_name_base + '2b')(X)\n",
        "    X = Activation('relu')(X)\n",
        "\n",
        "    # Third component of main path (≈2 lines)\n",
        "    X = Conv2D(filters = F3, kernel_size = (1, 1), strides = (1,1), padding = 'valid', name = conv_name_base + '2c', kernel_initializer = glorot_uniform(seed=0))(X)\n",
        "    X = BatchNormalization(axis = 3, name = bn_name_base + '2c')(X)\n",
        "\n",
        "    # Final step: Add shortcut value to main path, and pass it through a RELU activation (≈2 lines)\n",
        "    X = Add()([X, X_shortcut])\n",
        "    X = Activation('relu')(X)\n",
        "    \n",
        "    \n",
        "    return X"
      ],
      "execution_count": null,
      "outputs": []
    },
    {
      "cell_type": "code",
      "metadata": {
        "id": "DlxcIF6qZpz8"
      },
      "source": [
        "def convolutional_block(X, f, filters, stage, block, s = 2):\n",
        "    \"\"\"\n",
        "    Implementation of the convolutional block as defined in Figure 4\n",
        "    \n",
        "    Arguments:\n",
        "    X -- input tensor of shape (m, n_H_prev, n_W_prev, n_C_prev)\n",
        "    f -- integer, specifying the shape of the middle CONV's window for the main path\n",
        "    filters -- python list of integers, defining the number of filters in the CONV layers of the main path\n",
        "    stage -- integer, used to name the layers, depending on their position in the network\n",
        "    block -- string/character, used to name the layers, depending on their position in the network\n",
        "    s -- Integer, specifying the stride to be used\n",
        "    \n",
        "    Returns:\n",
        "    X -- output of the convolutional block, tensor of shape (n_H, n_W, n_C)\n",
        "    \"\"\"\n",
        "    \n",
        "    # defining name basis\n",
        "    conv_name_base = 'res' + str(stage) + block + '_branch'\n",
        "    bn_name_base = 'bn' + str(stage) + block + '_branch'\n",
        "    \n",
        "    # Retrieve Filters\n",
        "    F1, F2, F3 = filters\n",
        "    \n",
        "    # Save the input value\n",
        "    X_shortcut = X\n",
        "\n",
        "\n",
        "    ##### MAIN PATH #####\n",
        "    # First component of main path \n",
        "    X = Conv2D(F1, (1, 1), strides = (s,s), name = conv_name_base + '2a', kernel_initializer = glorot_uniform(seed=0))(X)\n",
        "    X = BatchNormalization(axis = 3, name = bn_name_base + '2a')(X)\n",
        "    X = Activation('relu')(X)\n",
        "\n",
        "    # Second component of main path (≈3 lines)\n",
        "    X = Conv2D(filters = F2, kernel_size = (f, f), strides = (1,1), padding = 'same', name = conv_name_base + '2b', kernel_initializer = glorot_uniform(seed=0))(X)\n",
        "    X = BatchNormalization(axis = 3, name = bn_name_base + '2b')(X)\n",
        "    X = Activation('relu')(X)\n",
        "\n",
        "\n",
        "    # Third component of main path (≈2 lines)\n",
        "    X = Conv2D(filters = F3, kernel_size = (1, 1), strides = (1,1), padding = 'valid', name = conv_name_base + '2c', kernel_initializer = glorot_uniform(seed=0))(X)\n",
        "    X = BatchNormalization(axis = 3, name = bn_name_base + '2c')(X)\n",
        "\n",
        "\n",
        "    ##### SHORTCUT PATH #### (≈2 lines)\n",
        "    X_shortcut = Conv2D(filters = F3, kernel_size = (1, 1), strides = (s,s), padding = 'valid', name = conv_name_base + '1',\n",
        "                        kernel_initializer = glorot_uniform(seed=0))(X_shortcut)\n",
        "    X_shortcut = BatchNormalization(axis = 3, name = bn_name_base + '1')(X_shortcut)\n",
        "\n",
        "    # Final step: Add shortcut value to main path, and pass it through a RELU activation (≈2 lines)\n",
        "    X = Add()([X, X_shortcut])\n",
        "    X = Activation('relu')(X)\n",
        "    \n",
        "    \n",
        "    return X"
      ],
      "execution_count": null,
      "outputs": []
    },
    {
      "cell_type": "code",
      "metadata": {
        "id": "IMrQPf1TR2sq"
      },
      "source": [
        "def ResNet50(input_shape=(32, 32, 3), classes=10):\n",
        "    \"\"\"\n",
        "    Implementation of the popular ResNet50 the following architecture:\n",
        "    CONV2D -> BATCHNORM -> RELU -> MAXPOOL -> CONVBLOCK -> IDBLOCK*2 -> CONVBLOCK -> IDBLOCK*3\n",
        "    -> CONVBLOCK -> IDBLOCK*5 -> CONVBLOCK -> IDBLOCK*2 -> AVGPOOL -> TOPLAYER\n",
        "\n",
        "    Arguments:\n",
        "    input_shape -- shape of the images of the dataset\n",
        "    classes -- integer, number of classes\n",
        "\n",
        "    Returns:\n",
        "    model -- a Model() instance in Keras\n",
        "    \"\"\"\n",
        "\n",
        "    # Define the input as a tensor with shape input_shape\n",
        "    X_input = Input(input_shape)\n",
        "\n",
        "    # Zero-Padding\n",
        "    X = ZeroPadding2D((3, 3))(X_input)\n",
        "\n",
        "    # Stage 1\n",
        "    X = Conv2D(64, (7, 7), strides=(2, 2), name='conv1', kernel_initializer=glorot_uniform(seed=0))(X)\n",
        "    X = BatchNormalization(axis=3, name='bn_conv1')(X)\n",
        "    X = Activation('relu')(X)\n",
        "    X = MaxPooling2D((3, 3), strides=(2, 2))(X)\n",
        "\n",
        "    # Stage 2\n",
        "    X = convolutional_block(X, f=3, filters=[64, 64, 256], stage=2, block='a', s=1)\n",
        "    X = identity_block(X, 3, [64, 64, 256], stage=2, block='b')\n",
        "    X = identity_block(X, 3, [64, 64, 256], stage=2, block='c')\n",
        "\n",
        "    ### START CODE HERE ###\n",
        "\n",
        "    # Stage 3 (≈4 lines)\n",
        "    X = convolutional_block(X, f = 3, filters = [128, 128, 512], stage = 3, block='a', s = 2)\n",
        "    X = identity_block(X, 3, [128, 128, 512], stage=3, block='b')\n",
        "    X = identity_block(X, 3, [128, 128, 512], stage=3, block='c')\n",
        "    X = identity_block(X, 3, [128, 128, 512], stage=3, block='d')\n",
        "\n",
        "    # Stage 4 (≈6 lines)\n",
        "    X = convolutional_block(X, f = 3, filters = [256, 256, 1024], stage = 4, block='a', s = 2)\n",
        "    X = identity_block(X, 3, [256, 256, 1024], stage=4, block='b')\n",
        "    X = identity_block(X, 3, [256, 256, 1024], stage=4, block='c')\n",
        "    X = identity_block(X, 3, [256, 256, 1024], stage=4, block='d')\n",
        "    X = identity_block(X, 3, [256, 256, 1024], stage=4, block='e')\n",
        "    X = identity_block(X, 3, [256, 256, 1024], stage=4, block='f')\n",
        "\n",
        "    # Stage 5 (≈3 lines)\n",
        "    X = convolutional_block(X, f = 3, filters = [512, 512, 2048], stage = 5, block='a', s = 2)\n",
        "    X = identity_block(X, 3, [512, 512, 2048], stage=5, block='b')\n",
        "    X = identity_block(X, 3, [512, 512, 2048], stage=5, block='c')\n",
        "\n",
        "    # AVGPOOL (≈1 line). Use \"X = AveragePooling2D(...)(X)\"\n",
        "    X = AveragePooling2D((1,1), name=\"avg_pool\")(X)\n",
        "\n",
        "    ### END CODE HERE ###\n",
        "\n",
        "    # output layer\n",
        "    X = Flatten()(X)\n",
        "    X = Dense(classes, activation='softmax', name='fc' + str(classes), kernel_initializer = glorot_uniform(seed=0))(X)\n",
        "    \n",
        "    \n",
        "    # Create model\n",
        "    model = Model(inputs = X_input, outputs = X, name='ResNet50')\n",
        "\n",
        "    return model"
      ],
      "execution_count": null,
      "outputs": []
    },
    {
      "cell_type": "code",
      "metadata": {
        "id": "hXFuLmd6bjpY"
      },
      "source": [
        "#Define Alexnet Model\n",
        "def AlexnetModel(input_shape,num_classes):\n",
        "  model = Sequential()\n",
        "  model.add(Conv2D(filters=96,kernel_size=(3,3),strides=(4,4),input_shape=input_shape, activation='relu'))\n",
        "  model.add(MaxPooling2D(pool_size=(2,2),strides=(2,2)))\n",
        "  model.add(Conv2D(256,(5,5),padding='same',activation='relu'))\n",
        "  model.add(MaxPooling2D(pool_size=(2,2),strides=(2,2)))\n",
        "  model.add(Conv2D(384,(3,3),padding='same',activation='relu'))\n",
        "  model.add(Conv2D(384,(3,3),padding='same',activation='relu'))\n",
        "  model.add(Conv2D(256,(3,3),padding='same',activation='relu'))\n",
        "  model.add(MaxPooling2D(pool_size=(2,2),strides=(2,2)))\n",
        "\n",
        "  model.add(Flatten())\n",
        "  model.add(Dense(4096, activation='relu'))\n",
        "  model.add(Dropout(0.4))\n",
        "  model.add(Dense(4096, activation='relu'))\n",
        "  model.add(Dropout(0.4))\n",
        "  model.add(Dense(num_classes,activation='softmax'))\n",
        "\n",
        "  #model.compile(optimizer='adam',loss='categorical_crossentropy',metrics=['accuracy'])\n",
        "\n",
        "  #model.summary()\n",
        "  return model"
      ],
      "execution_count": null,
      "outputs": []
    },
    {
      "cell_type": "code",
      "metadata": {
        "id": "eRNzvi-qZXvl"
      },
      "source": [
        "def get_model(input_shape,num_classes):\n",
        "  # Create the model - Normal model with CNN, dropouts and MaxPooling.\n",
        "  # This model gives accuracy of 77% on the test set after 25 epochs\n",
        "\n",
        "  model = Sequential()\n",
        "\n",
        "  #model.add(Conv2D(32,(3,3),input_shape=(32,32,3),padding='same',activation='relu'))\n",
        "  model.add(Conv2D(32,(3,3),input_shape=input_shape,padding='same',activation='relu'))\n",
        "  model.add(Dropout(0.2))\n",
        "\n",
        "  model.add(Conv2D(32,(3,3),activation='relu',padding='same'))\n",
        "  model.add(MaxPooling2D(pool_size=(2,2)))\n",
        "\n",
        "  model.add(Conv2D(64,(3,3),activation='relu',padding='same'))\n",
        "  model.add(Dropout(0.2))\n",
        "\n",
        "  model.add(Conv2D(64,(3,3),activation='relu',padding='same'))\n",
        "  model.add(MaxPooling2D(pool_size=(2,2)))\n",
        "\n",
        "  model.add(Conv2D(128,(3,3),activation='relu',padding='same'))\n",
        "  model.add(Dropout(0.2))\n",
        "\n",
        "  model.add(Conv2D(128,(3,3),activation='relu',padding='same'))\n",
        "  model.add(MaxPooling2D(pool_size=(2,2)))\n",
        "\n",
        "  model.add(Flatten())\n",
        "  model.add(Dropout(0.2))\n",
        "\n",
        "  model.add(Dense(1024,activation='relu'))\n",
        "  model.add(Dropout(0.2))\n",
        "\n",
        "  model.add(Dense(512,activation='relu'))\n",
        "  model.add(Dropout(0.2))\n",
        "\n",
        "  model.add(Dense(num_classes,activation='softmax'))\n",
        "\n",
        "  return model\n",
        "\n"
      ],
      "execution_count": null,
      "outputs": []
    },
    {
      "cell_type": "code",
      "metadata": {
        "id": "p2cGLs6n9l0L"
      },
      "source": [
        "def lr_schedule(epoch):\n",
        "    \"\"\"Learning Rate Schedule\n",
        "\n",
        "    Learning rate is scheduled to be reduced after 80, 120, 160, 180 epochs.\n",
        "    Called automatically every epoch as part of callbacks during training.\n",
        "\n",
        "    # Arguments\n",
        "        epoch (int): The number of epochs\n",
        "\n",
        "    # Returns\n",
        "        lr (float32): learning rate\n",
        "    \"\"\"\n",
        "    lr = 1e-3\n",
        "    if epoch > 180:\n",
        "        lr *= 0.5e-3\n",
        "    elif epoch > 160:\n",
        "        lr *= 1e-3\n",
        "    elif epoch > 120:\n",
        "        lr *= 1e-2\n",
        "    elif epoch > 80:\n",
        "        lr *= 1e-1\n",
        "    print('Learning rate: ', lr)\n",
        "    return lr\n"
      ],
      "execution_count": null,
      "outputs": []
    },
    {
      "cell_type": "code",
      "metadata": {
        "id": "sdnE9Sd0-NbF"
      },
      "source": [
        "# Prepare callbacks for model saving and for learning rate adjustment.\n",
        "\n",
        "early_stopping = EarlyStopping(monitor='val_loss', min_delta=0.001, patience=5, verbose=0, mode='auto', baseline=None, restore_best_weights=True)\n",
        "\n",
        "checkpoint = ModelCheckpoint(filepath=filepath,\n",
        "                             monitor='val_acc',\n",
        "                             verbose=1,\n",
        "                             save_best_only=True)\n",
        "\n",
        "lr_scheduler = LearningRateScheduler(lr_schedule)\n",
        "\n",
        "lr_reducer = ReduceLROnPlateau(factor=np.sqrt(0.1),\n",
        "                               cooldown=0,\n",
        "                               patience=5,\n",
        "                               min_lr=0.5e-6)\n",
        "\n",
        "callbacks = [checkpoint, lr_reducer, lr_scheduler,early_stopping]\n"
      ],
      "execution_count": null,
      "outputs": []
    },
    {
      "cell_type": "code",
      "metadata": {
        "id": "AbLu2lefac_h",
        "outputId": "b3f1ba1f-a8d7-480b-90bf-65a60d22daaa",
        "colab": {
          "base_uri": "https://localhost:8080/"
        }
      },
      "source": [
        "#model = get_model(input_shape,num_classes)\n",
        "if model_type == 'Alexnet':\n",
        "  #input_shape = (224,224,3)\n",
        "  model = AlexnetModel(input_shape,num_classes)\n",
        "elif model_type == 'ResNet50':\n",
        "  model = ResNet50(input_shape,num_classes)\n",
        "else:\n",
        "  model = get_model(input_shape,num_classes)\n",
        "\n",
        "# Compile model\n",
        "\n",
        "#optimizer = SGD(lr=lrate, momentum=0.9, decay=decay, nesterov=False)\n",
        "optimizer = Adam(lr=0.001, beta_1=0.9, beta_2=0.999, amsgrad=False)\n",
        "model.compile(loss= 'categorical_crossentropy' , optimizer=optimizer, metrics=[ 'accuracy' ])\n",
        "print(\"Model Summary of \",model_type)\n",
        "print(model.summary())\n",
        "\n"
      ],
      "execution_count": null,
      "outputs": [
        {
          "output_type": "stream",
          "name": "stdout",
          "text": [
            "Model Summary of  ResNet50\n",
            "Model: \"ResNet50\"\n",
            "__________________________________________________________________________________________________\n",
            " Layer (type)                   Output Shape         Param #     Connected to                     \n",
            "==================================================================================================\n",
            " input_2 (InputLayer)           [(None, 32, 32, 3)]  0           []                               \n",
            "                                                                                                  \n",
            " zero_padding2d_1 (ZeroPadding2  (None, 38, 38, 3)   0           ['input_2[0][0]']                \n",
            " D)                                                                                               \n",
            "                                                                                                  \n",
            " conv1 (Conv2D)                 (None, 16, 16, 64)   9472        ['zero_padding2d_1[0][0]']       \n",
            "                                                                                                  \n",
            " bn_conv1 (BatchNormalization)  (None, 16, 16, 64)   256         ['conv1[0][0]']                  \n",
            "                                                                                                  \n",
            " activation_49 (Activation)     (None, 16, 16, 64)   0           ['bn_conv1[0][0]']               \n",
            "                                                                                                  \n",
            " max_pooling2d_1 (MaxPooling2D)  (None, 7, 7, 64)    0           ['activation_49[0][0]']          \n",
            "                                                                                                  \n",
            " res2a_branch2a (Conv2D)        (None, 7, 7, 64)     4160        ['max_pooling2d_1[0][0]']        \n",
            "                                                                                                  \n",
            " bn2a_branch2a (BatchNormalizat  (None, 7, 7, 64)    256         ['res2a_branch2a[0][0]']         \n",
            " ion)                                                                                             \n",
            "                                                                                                  \n",
            " activation_50 (Activation)     (None, 7, 7, 64)     0           ['bn2a_branch2a[0][0]']          \n",
            "                                                                                                  \n",
            " res2a_branch2b (Conv2D)        (None, 7, 7, 64)     36928       ['activation_50[0][0]']          \n",
            "                                                                                                  \n",
            " bn2a_branch2b (BatchNormalizat  (None, 7, 7, 64)    256         ['res2a_branch2b[0][0]']         \n",
            " ion)                                                                                             \n",
            "                                                                                                  \n",
            " activation_51 (Activation)     (None, 7, 7, 64)     0           ['bn2a_branch2b[0][0]']          \n",
            "                                                                                                  \n",
            " res2a_branch2c (Conv2D)        (None, 7, 7, 256)    16640       ['activation_51[0][0]']          \n",
            "                                                                                                  \n",
            " res2a_branch1 (Conv2D)         (None, 7, 7, 256)    16640       ['max_pooling2d_1[0][0]']        \n",
            "                                                                                                  \n",
            " bn2a_branch2c (BatchNormalizat  (None, 7, 7, 256)   1024        ['res2a_branch2c[0][0]']         \n",
            " ion)                                                                                             \n",
            "                                                                                                  \n",
            " bn2a_branch1 (BatchNormalizati  (None, 7, 7, 256)   1024        ['res2a_branch1[0][0]']          \n",
            " on)                                                                                              \n",
            "                                                                                                  \n",
            " add_16 (Add)                   (None, 7, 7, 256)    0           ['bn2a_branch2c[0][0]',          \n",
            "                                                                  'bn2a_branch1[0][0]']           \n",
            "                                                                                                  \n",
            " activation_52 (Activation)     (None, 7, 7, 256)    0           ['add_16[0][0]']                 \n",
            "                                                                                                  \n",
            " res2b_branch2a (Conv2D)        (None, 7, 7, 64)     16448       ['activation_52[0][0]']          \n",
            "                                                                                                  \n",
            " bn2b_branch2a (BatchNormalizat  (None, 7, 7, 64)    256         ['res2b_branch2a[0][0]']         \n",
            " ion)                                                                                             \n",
            "                                                                                                  \n",
            " activation_53 (Activation)     (None, 7, 7, 64)     0           ['bn2b_branch2a[0][0]']          \n",
            "                                                                                                  \n",
            " res2b_branch2b (Conv2D)        (None, 7, 7, 64)     36928       ['activation_53[0][0]']          \n",
            "                                                                                                  \n",
            " bn2b_branch2b (BatchNormalizat  (None, 7, 7, 64)    256         ['res2b_branch2b[0][0]']         \n",
            " ion)                                                                                             \n",
            "                                                                                                  \n",
            " activation_54 (Activation)     (None, 7, 7, 64)     0           ['bn2b_branch2b[0][0]']          \n",
            "                                                                                                  \n",
            " res2b_branch2c (Conv2D)        (None, 7, 7, 256)    16640       ['activation_54[0][0]']          \n",
            "                                                                                                  \n",
            " bn2b_branch2c (BatchNormalizat  (None, 7, 7, 256)   1024        ['res2b_branch2c[0][0]']         \n",
            " ion)                                                                                             \n",
            "                                                                                                  \n",
            " add_17 (Add)                   (None, 7, 7, 256)    0           ['bn2b_branch2c[0][0]',          \n",
            "                                                                  'activation_52[0][0]']          \n",
            "                                                                                                  \n",
            " activation_55 (Activation)     (None, 7, 7, 256)    0           ['add_17[0][0]']                 \n",
            "                                                                                                  \n",
            " res2c_branch2a (Conv2D)        (None, 7, 7, 64)     16448       ['activation_55[0][0]']          \n",
            "                                                                                                  \n",
            " bn2c_branch2a (BatchNormalizat  (None, 7, 7, 64)    256         ['res2c_branch2a[0][0]']         \n",
            " ion)                                                                                             \n",
            "                                                                                                  \n",
            " activation_56 (Activation)     (None, 7, 7, 64)     0           ['bn2c_branch2a[0][0]']          \n",
            "                                                                                                  \n",
            " res2c_branch2b (Conv2D)        (None, 7, 7, 64)     36928       ['activation_56[0][0]']          \n",
            "                                                                                                  \n",
            " bn2c_branch2b (BatchNormalizat  (None, 7, 7, 64)    256         ['res2c_branch2b[0][0]']         \n",
            " ion)                                                                                             \n",
            "                                                                                                  \n",
            " activation_57 (Activation)     (None, 7, 7, 64)     0           ['bn2c_branch2b[0][0]']          \n",
            "                                                                                                  \n",
            " res2c_branch2c (Conv2D)        (None, 7, 7, 256)    16640       ['activation_57[0][0]']          \n",
            "                                                                                                  \n",
            " bn2c_branch2c (BatchNormalizat  (None, 7, 7, 256)   1024        ['res2c_branch2c[0][0]']         \n",
            " ion)                                                                                             \n",
            "                                                                                                  \n",
            " add_18 (Add)                   (None, 7, 7, 256)    0           ['bn2c_branch2c[0][0]',          \n",
            "                                                                  'activation_55[0][0]']          \n",
            "                                                                                                  \n",
            " activation_58 (Activation)     (None, 7, 7, 256)    0           ['add_18[0][0]']                 \n",
            "                                                                                                  \n",
            " res3a_branch2a (Conv2D)        (None, 4, 4, 128)    32896       ['activation_58[0][0]']          \n",
            "                                                                                                  \n",
            " bn3a_branch2a (BatchNormalizat  (None, 4, 4, 128)   512         ['res3a_branch2a[0][0]']         \n",
            " ion)                                                                                             \n",
            "                                                                                                  \n",
            " activation_59 (Activation)     (None, 4, 4, 128)    0           ['bn3a_branch2a[0][0]']          \n",
            "                                                                                                  \n",
            " res3a_branch2b (Conv2D)        (None, 4, 4, 128)    147584      ['activation_59[0][0]']          \n",
            "                                                                                                  \n",
            " bn3a_branch2b (BatchNormalizat  (None, 4, 4, 128)   512         ['res3a_branch2b[0][0]']         \n",
            " ion)                                                                                             \n",
            "                                                                                                  \n",
            " activation_60 (Activation)     (None, 4, 4, 128)    0           ['bn3a_branch2b[0][0]']          \n",
            "                                                                                                  \n",
            " res3a_branch2c (Conv2D)        (None, 4, 4, 512)    66048       ['activation_60[0][0]']          \n",
            "                                                                                                  \n",
            " res3a_branch1 (Conv2D)         (None, 4, 4, 512)    131584      ['activation_58[0][0]']          \n",
            "                                                                                                  \n",
            " bn3a_branch2c (BatchNormalizat  (None, 4, 4, 512)   2048        ['res3a_branch2c[0][0]']         \n",
            " ion)                                                                                             \n",
            "                                                                                                  \n",
            " bn3a_branch1 (BatchNormalizati  (None, 4, 4, 512)   2048        ['res3a_branch1[0][0]']          \n",
            " on)                                                                                              \n",
            "                                                                                                  \n",
            " add_19 (Add)                   (None, 4, 4, 512)    0           ['bn3a_branch2c[0][0]',          \n",
            "                                                                  'bn3a_branch1[0][0]']           \n",
            "                                                                                                  \n",
            " activation_61 (Activation)     (None, 4, 4, 512)    0           ['add_19[0][0]']                 \n",
            "                                                                                                  \n",
            " res3b_branch2a (Conv2D)        (None, 4, 4, 128)    65664       ['activation_61[0][0]']          \n",
            "                                                                                                  \n",
            " bn3b_branch2a (BatchNormalizat  (None, 4, 4, 128)   512         ['res3b_branch2a[0][0]']         \n",
            " ion)                                                                                             \n",
            "                                                                                                  \n",
            " activation_62 (Activation)     (None, 4, 4, 128)    0           ['bn3b_branch2a[0][0]']          \n",
            "                                                                                                  \n",
            " res3b_branch2b (Conv2D)        (None, 4, 4, 128)    147584      ['activation_62[0][0]']          \n",
            "                                                                                                  \n",
            " bn3b_branch2b (BatchNormalizat  (None, 4, 4, 128)   512         ['res3b_branch2b[0][0]']         \n",
            " ion)                                                                                             \n",
            "                                                                                                  \n",
            " activation_63 (Activation)     (None, 4, 4, 128)    0           ['bn3b_branch2b[0][0]']          \n",
            "                                                                                                  \n",
            " res3b_branch2c (Conv2D)        (None, 4, 4, 512)    66048       ['activation_63[0][0]']          \n",
            "                                                                                                  \n",
            " bn3b_branch2c (BatchNormalizat  (None, 4, 4, 512)   2048        ['res3b_branch2c[0][0]']         \n",
            " ion)                                                                                             \n",
            "                                                                                                  \n",
            " add_20 (Add)                   (None, 4, 4, 512)    0           ['bn3b_branch2c[0][0]',          \n",
            "                                                                  'activation_61[0][0]']          \n",
            "                                                                                                  \n",
            " activation_64 (Activation)     (None, 4, 4, 512)    0           ['add_20[0][0]']                 \n",
            "                                                                                                  \n",
            " res3c_branch2a (Conv2D)        (None, 4, 4, 128)    65664       ['activation_64[0][0]']          \n",
            "                                                                                                  \n",
            " bn3c_branch2a (BatchNormalizat  (None, 4, 4, 128)   512         ['res3c_branch2a[0][0]']         \n",
            " ion)                                                                                             \n",
            "                                                                                                  \n",
            " activation_65 (Activation)     (None, 4, 4, 128)    0           ['bn3c_branch2a[0][0]']          \n",
            "                                                                                                  \n",
            " res3c_branch2b (Conv2D)        (None, 4, 4, 128)    147584      ['activation_65[0][0]']          \n",
            "                                                                                                  \n"
          ]
        },
        {
          "output_type": "stream",
          "name": "stderr",
          "text": [
            "/usr/local/lib/python3.7/dist-packages/keras/optimizers/optimizer_v2/adam.py:110: UserWarning: The `lr` argument is deprecated, use `learning_rate` instead.\n",
            "  super(Adam, self).__init__(name, **kwargs)\n"
          ]
        },
        {
          "output_type": "stream",
          "name": "stdout",
          "text": [
            " bn3c_branch2b (BatchNormalizat  (None, 4, 4, 128)   512         ['res3c_branch2b[0][0]']         \n",
            " ion)                                                                                             \n",
            "                                                                                                  \n",
            " activation_66 (Activation)     (None, 4, 4, 128)    0           ['bn3c_branch2b[0][0]']          \n",
            "                                                                                                  \n",
            " res3c_branch2c (Conv2D)        (None, 4, 4, 512)    66048       ['activation_66[0][0]']          \n",
            "                                                                                                  \n",
            " bn3c_branch2c (BatchNormalizat  (None, 4, 4, 512)   2048        ['res3c_branch2c[0][0]']         \n",
            " ion)                                                                                             \n",
            "                                                                                                  \n",
            " add_21 (Add)                   (None, 4, 4, 512)    0           ['bn3c_branch2c[0][0]',          \n",
            "                                                                  'activation_64[0][0]']          \n",
            "                                                                                                  \n",
            " activation_67 (Activation)     (None, 4, 4, 512)    0           ['add_21[0][0]']                 \n",
            "                                                                                                  \n",
            " res3d_branch2a (Conv2D)        (None, 4, 4, 128)    65664       ['activation_67[0][0]']          \n",
            "                                                                                                  \n",
            " bn3d_branch2a (BatchNormalizat  (None, 4, 4, 128)   512         ['res3d_branch2a[0][0]']         \n",
            " ion)                                                                                             \n",
            "                                                                                                  \n",
            " activation_68 (Activation)     (None, 4, 4, 128)    0           ['bn3d_branch2a[0][0]']          \n",
            "                                                                                                  \n",
            " res3d_branch2b (Conv2D)        (None, 4, 4, 128)    147584      ['activation_68[0][0]']          \n",
            "                                                                                                  \n",
            " bn3d_branch2b (BatchNormalizat  (None, 4, 4, 128)   512         ['res3d_branch2b[0][0]']         \n",
            " ion)                                                                                             \n",
            "                                                                                                  \n",
            " activation_69 (Activation)     (None, 4, 4, 128)    0           ['bn3d_branch2b[0][0]']          \n",
            "                                                                                                  \n",
            " res3d_branch2c (Conv2D)        (None, 4, 4, 512)    66048       ['activation_69[0][0]']          \n",
            "                                                                                                  \n",
            " bn3d_branch2c (BatchNormalizat  (None, 4, 4, 512)   2048        ['res3d_branch2c[0][0]']         \n",
            " ion)                                                                                             \n",
            "                                                                                                  \n",
            " add_22 (Add)                   (None, 4, 4, 512)    0           ['bn3d_branch2c[0][0]',          \n",
            "                                                                  'activation_67[0][0]']          \n",
            "                                                                                                  \n",
            " activation_70 (Activation)     (None, 4, 4, 512)    0           ['add_22[0][0]']                 \n",
            "                                                                                                  \n",
            " res4a_branch2a (Conv2D)        (None, 2, 2, 256)    131328      ['activation_70[0][0]']          \n",
            "                                                                                                  \n",
            " bn4a_branch2a (BatchNormalizat  (None, 2, 2, 256)   1024        ['res4a_branch2a[0][0]']         \n",
            " ion)                                                                                             \n",
            "                                                                                                  \n",
            " activation_71 (Activation)     (None, 2, 2, 256)    0           ['bn4a_branch2a[0][0]']          \n",
            "                                                                                                  \n",
            " res4a_branch2b (Conv2D)        (None, 2, 2, 256)    590080      ['activation_71[0][0]']          \n",
            "                                                                                                  \n",
            " bn4a_branch2b (BatchNormalizat  (None, 2, 2, 256)   1024        ['res4a_branch2b[0][0]']         \n",
            " ion)                                                                                             \n",
            "                                                                                                  \n",
            " activation_72 (Activation)     (None, 2, 2, 256)    0           ['bn4a_branch2b[0][0]']          \n",
            "                                                                                                  \n",
            " res4a_branch2c (Conv2D)        (None, 2, 2, 1024)   263168      ['activation_72[0][0]']          \n",
            "                                                                                                  \n",
            " res4a_branch1 (Conv2D)         (None, 2, 2, 1024)   525312      ['activation_70[0][0]']          \n",
            "                                                                                                  \n",
            " bn4a_branch2c (BatchNormalizat  (None, 2, 2, 1024)  4096        ['res4a_branch2c[0][0]']         \n",
            " ion)                                                                                             \n",
            "                                                                                                  \n",
            " bn4a_branch1 (BatchNormalizati  (None, 2, 2, 1024)  4096        ['res4a_branch1[0][0]']          \n",
            " on)                                                                                              \n",
            "                                                                                                  \n",
            " add_23 (Add)                   (None, 2, 2, 1024)   0           ['bn4a_branch2c[0][0]',          \n",
            "                                                                  'bn4a_branch1[0][0]']           \n",
            "                                                                                                  \n",
            " activation_73 (Activation)     (None, 2, 2, 1024)   0           ['add_23[0][0]']                 \n",
            "                                                                                                  \n",
            " res4b_branch2a (Conv2D)        (None, 2, 2, 256)    262400      ['activation_73[0][0]']          \n",
            "                                                                                                  \n",
            " bn4b_branch2a (BatchNormalizat  (None, 2, 2, 256)   1024        ['res4b_branch2a[0][0]']         \n",
            " ion)                                                                                             \n",
            "                                                                                                  \n",
            " activation_74 (Activation)     (None, 2, 2, 256)    0           ['bn4b_branch2a[0][0]']          \n",
            "                                                                                                  \n",
            " res4b_branch2b (Conv2D)        (None, 2, 2, 256)    590080      ['activation_74[0][0]']          \n",
            "                                                                                                  \n",
            " bn4b_branch2b (BatchNormalizat  (None, 2, 2, 256)   1024        ['res4b_branch2b[0][0]']         \n",
            " ion)                                                                                             \n",
            "                                                                                                  \n",
            " activation_75 (Activation)     (None, 2, 2, 256)    0           ['bn4b_branch2b[0][0]']          \n",
            "                                                                                                  \n",
            " res4b_branch2c (Conv2D)        (None, 2, 2, 1024)   263168      ['activation_75[0][0]']          \n",
            "                                                                                                  \n",
            " bn4b_branch2c (BatchNormalizat  (None, 2, 2, 1024)  4096        ['res4b_branch2c[0][0]']         \n",
            " ion)                                                                                             \n",
            "                                                                                                  \n",
            " add_24 (Add)                   (None, 2, 2, 1024)   0           ['bn4b_branch2c[0][0]',          \n",
            "                                                                  'activation_73[0][0]']          \n",
            "                                                                                                  \n",
            " activation_76 (Activation)     (None, 2, 2, 1024)   0           ['add_24[0][0]']                 \n",
            "                                                                                                  \n",
            " res4c_branch2a (Conv2D)        (None, 2, 2, 256)    262400      ['activation_76[0][0]']          \n",
            "                                                                                                  \n",
            " bn4c_branch2a (BatchNormalizat  (None, 2, 2, 256)   1024        ['res4c_branch2a[0][0]']         \n",
            " ion)                                                                                             \n",
            "                                                                                                  \n",
            " activation_77 (Activation)     (None, 2, 2, 256)    0           ['bn4c_branch2a[0][0]']          \n",
            "                                                                                                  \n",
            " res4c_branch2b (Conv2D)        (None, 2, 2, 256)    590080      ['activation_77[0][0]']          \n",
            "                                                                                                  \n",
            " bn4c_branch2b (BatchNormalizat  (None, 2, 2, 256)   1024        ['res4c_branch2b[0][0]']         \n",
            " ion)                                                                                             \n",
            "                                                                                                  \n",
            " activation_78 (Activation)     (None, 2, 2, 256)    0           ['bn4c_branch2b[0][0]']          \n",
            "                                                                                                  \n",
            " res4c_branch2c (Conv2D)        (None, 2, 2, 1024)   263168      ['activation_78[0][0]']          \n",
            "                                                                                                  \n",
            " bn4c_branch2c (BatchNormalizat  (None, 2, 2, 1024)  4096        ['res4c_branch2c[0][0]']         \n",
            " ion)                                                                                             \n",
            "                                                                                                  \n",
            " add_25 (Add)                   (None, 2, 2, 1024)   0           ['bn4c_branch2c[0][0]',          \n",
            "                                                                  'activation_76[0][0]']          \n",
            "                                                                                                  \n",
            " activation_79 (Activation)     (None, 2, 2, 1024)   0           ['add_25[0][0]']                 \n",
            "                                                                                                  \n",
            " res4d_branch2a (Conv2D)        (None, 2, 2, 256)    262400      ['activation_79[0][0]']          \n",
            "                                                                                                  \n",
            " bn4d_branch2a (BatchNormalizat  (None, 2, 2, 256)   1024        ['res4d_branch2a[0][0]']         \n",
            " ion)                                                                                             \n",
            "                                                                                                  \n",
            " activation_80 (Activation)     (None, 2, 2, 256)    0           ['bn4d_branch2a[0][0]']          \n",
            "                                                                                                  \n",
            " res4d_branch2b (Conv2D)        (None, 2, 2, 256)    590080      ['activation_80[0][0]']          \n",
            "                                                                                                  \n",
            " bn4d_branch2b (BatchNormalizat  (None, 2, 2, 256)   1024        ['res4d_branch2b[0][0]']         \n",
            " ion)                                                                                             \n",
            "                                                                                                  \n",
            " activation_81 (Activation)     (None, 2, 2, 256)    0           ['bn4d_branch2b[0][0]']          \n",
            "                                                                                                  \n",
            " res4d_branch2c (Conv2D)        (None, 2, 2, 1024)   263168      ['activation_81[0][0]']          \n",
            "                                                                                                  \n",
            " bn4d_branch2c (BatchNormalizat  (None, 2, 2, 1024)  4096        ['res4d_branch2c[0][0]']         \n",
            " ion)                                                                                             \n",
            "                                                                                                  \n",
            " add_26 (Add)                   (None, 2, 2, 1024)   0           ['bn4d_branch2c[0][0]',          \n",
            "                                                                  'activation_79[0][0]']          \n",
            "                                                                                                  \n",
            " activation_82 (Activation)     (None, 2, 2, 1024)   0           ['add_26[0][0]']                 \n",
            "                                                                                                  \n",
            " res4e_branch2a (Conv2D)        (None, 2, 2, 256)    262400      ['activation_82[0][0]']          \n",
            "                                                                                                  \n",
            " bn4e_branch2a (BatchNormalizat  (None, 2, 2, 256)   1024        ['res4e_branch2a[0][0]']         \n",
            " ion)                                                                                             \n",
            "                                                                                                  \n",
            " activation_83 (Activation)     (None, 2, 2, 256)    0           ['bn4e_branch2a[0][0]']          \n",
            "                                                                                                  \n",
            " res4e_branch2b (Conv2D)        (None, 2, 2, 256)    590080      ['activation_83[0][0]']          \n",
            "                                                                                                  \n",
            " bn4e_branch2b (BatchNormalizat  (None, 2, 2, 256)   1024        ['res4e_branch2b[0][0]']         \n",
            " ion)                                                                                             \n",
            "                                                                                                  \n",
            " activation_84 (Activation)     (None, 2, 2, 256)    0           ['bn4e_branch2b[0][0]']          \n",
            "                                                                                                  \n",
            " res4e_branch2c (Conv2D)        (None, 2, 2, 1024)   263168      ['activation_84[0][0]']          \n",
            "                                                                                                  \n",
            " bn4e_branch2c (BatchNormalizat  (None, 2, 2, 1024)  4096        ['res4e_branch2c[0][0]']         \n",
            " ion)                                                                                             \n",
            "                                                                                                  \n",
            " add_27 (Add)                   (None, 2, 2, 1024)   0           ['bn4e_branch2c[0][0]',          \n",
            "                                                                  'activation_82[0][0]']          \n",
            "                                                                                                  \n",
            " activation_85 (Activation)     (None, 2, 2, 1024)   0           ['add_27[0][0]']                 \n",
            "                                                                                                  \n",
            " res4f_branch2a (Conv2D)        (None, 2, 2, 256)    262400      ['activation_85[0][0]']          \n",
            "                                                                                                  \n",
            " bn4f_branch2a (BatchNormalizat  (None, 2, 2, 256)   1024        ['res4f_branch2a[0][0]']         \n",
            " ion)                                                                                             \n",
            "                                                                                                  \n",
            " activation_86 (Activation)     (None, 2, 2, 256)    0           ['bn4f_branch2a[0][0]']          \n",
            "                                                                                                  \n",
            " res4f_branch2b (Conv2D)        (None, 2, 2, 256)    590080      ['activation_86[0][0]']          \n",
            "                                                                                                  \n",
            " bn4f_branch2b (BatchNormalizat  (None, 2, 2, 256)   1024        ['res4f_branch2b[0][0]']         \n",
            " ion)                                                                                             \n",
            "                                                                                                  \n",
            " activation_87 (Activation)     (None, 2, 2, 256)    0           ['bn4f_branch2b[0][0]']          \n",
            "                                                                                                  \n",
            " res4f_branch2c (Conv2D)        (None, 2, 2, 1024)   263168      ['activation_87[0][0]']          \n",
            "                                                                                                  \n",
            " bn4f_branch2c (BatchNormalizat  (None, 2, 2, 1024)  4096        ['res4f_branch2c[0][0]']         \n",
            " ion)                                                                                             \n",
            "                                                                                                  \n",
            " add_28 (Add)                   (None, 2, 2, 1024)   0           ['bn4f_branch2c[0][0]',          \n",
            "                                                                  'activation_85[0][0]']          \n",
            "                                                                                                  \n",
            " activation_88 (Activation)     (None, 2, 2, 1024)   0           ['add_28[0][0]']                 \n",
            "                                                                                                  \n",
            " res5a_branch2a (Conv2D)        (None, 1, 1, 512)    524800      ['activation_88[0][0]']          \n",
            "                                                                                                  \n",
            " bn5a_branch2a (BatchNormalizat  (None, 1, 1, 512)   2048        ['res5a_branch2a[0][0]']         \n",
            " ion)                                                                                             \n",
            "                                                                                                  \n",
            " activation_89 (Activation)     (None, 1, 1, 512)    0           ['bn5a_branch2a[0][0]']          \n",
            "                                                                                                  \n",
            " res5a_branch2b (Conv2D)        (None, 1, 1, 512)    2359808     ['activation_89[0][0]']          \n",
            "                                                                                                  \n",
            " bn5a_branch2b (BatchNormalizat  (None, 1, 1, 512)   2048        ['res5a_branch2b[0][0]']         \n",
            " ion)                                                                                             \n",
            "                                                                                                  \n",
            " activation_90 (Activation)     (None, 1, 1, 512)    0           ['bn5a_branch2b[0][0]']          \n",
            "                                                                                                  \n",
            " res5a_branch2c (Conv2D)        (None, 1, 1, 2048)   1050624     ['activation_90[0][0]']          \n",
            "                                                                                                  \n",
            " res5a_branch1 (Conv2D)         (None, 1, 1, 2048)   2099200     ['activation_88[0][0]']          \n",
            "                                                                                                  \n",
            " bn5a_branch2c (BatchNormalizat  (None, 1, 1, 2048)  8192        ['res5a_branch2c[0][0]']         \n",
            " ion)                                                                                             \n",
            "                                                                                                  \n",
            " bn5a_branch1 (BatchNormalizati  (None, 1, 1, 2048)  8192        ['res5a_branch1[0][0]']          \n",
            " on)                                                                                              \n",
            "                                                                                                  \n",
            " add_29 (Add)                   (None, 1, 1, 2048)   0           ['bn5a_branch2c[0][0]',          \n",
            "                                                                  'bn5a_branch1[0][0]']           \n",
            "                                                                                                  \n",
            " activation_91 (Activation)     (None, 1, 1, 2048)   0           ['add_29[0][0]']                 \n",
            "                                                                                                  \n",
            " res5b_branch2a (Conv2D)        (None, 1, 1, 512)    1049088     ['activation_91[0][0]']          \n",
            "                                                                                                  \n",
            " bn5b_branch2a (BatchNormalizat  (None, 1, 1, 512)   2048        ['res5b_branch2a[0][0]']         \n",
            " ion)                                                                                             \n",
            "                                                                                                  \n",
            " activation_92 (Activation)     (None, 1, 1, 512)    0           ['bn5b_branch2a[0][0]']          \n",
            "                                                                                                  \n",
            " res5b_branch2b (Conv2D)        (None, 1, 1, 512)    2359808     ['activation_92[0][0]']          \n",
            "                                                                                                  \n",
            " bn5b_branch2b (BatchNormalizat  (None, 1, 1, 512)   2048        ['res5b_branch2b[0][0]']         \n",
            " ion)                                                                                             \n",
            "                                                                                                  \n",
            " activation_93 (Activation)     (None, 1, 1, 512)    0           ['bn5b_branch2b[0][0]']          \n",
            "                                                                                                  \n",
            " res5b_branch2c (Conv2D)        (None, 1, 1, 2048)   1050624     ['activation_93[0][0]']          \n",
            "                                                                                                  \n",
            " bn5b_branch2c (BatchNormalizat  (None, 1, 1, 2048)  8192        ['res5b_branch2c[0][0]']         \n",
            " ion)                                                                                             \n",
            "                                                                                                  \n",
            " add_30 (Add)                   (None, 1, 1, 2048)   0           ['bn5b_branch2c[0][0]',          \n",
            "                                                                  'activation_91[0][0]']          \n",
            "                                                                                                  \n",
            " activation_94 (Activation)     (None, 1, 1, 2048)   0           ['add_30[0][0]']                 \n",
            "                                                                                                  \n",
            " res5c_branch2a (Conv2D)        (None, 1, 1, 512)    1049088     ['activation_94[0][0]']          \n",
            "                                                                                                  \n",
            " bn5c_branch2a (BatchNormalizat  (None, 1, 1, 512)   2048        ['res5c_branch2a[0][0]']         \n",
            " ion)                                                                                             \n",
            "                                                                                                  \n",
            " activation_95 (Activation)     (None, 1, 1, 512)    0           ['bn5c_branch2a[0][0]']          \n",
            "                                                                                                  \n",
            " res5c_branch2b (Conv2D)        (None, 1, 1, 512)    2359808     ['activation_95[0][0]']          \n",
            "                                                                                                  \n",
            " bn5c_branch2b (BatchNormalizat  (None, 1, 1, 512)   2048        ['res5c_branch2b[0][0]']         \n",
            " ion)                                                                                             \n",
            "                                                                                                  \n",
            " activation_96 (Activation)     (None, 1, 1, 512)    0           ['bn5c_branch2b[0][0]']          \n",
            "                                                                                                  \n",
            " res5c_branch2c (Conv2D)        (None, 1, 1, 2048)   1050624     ['activation_96[0][0]']          \n",
            "                                                                                                  \n",
            " bn5c_branch2c (BatchNormalizat  (None, 1, 1, 2048)  8192        ['res5c_branch2c[0][0]']         \n",
            " ion)                                                                                             \n",
            "                                                                                                  \n",
            " add_31 (Add)                   (None, 1, 1, 2048)   0           ['bn5c_branch2c[0][0]',          \n",
            "                                                                  'activation_94[0][0]']          \n",
            "                                                                                                  \n",
            " activation_97 (Activation)     (None, 1, 1, 2048)   0           ['add_31[0][0]']                 \n",
            "                                                                                                  \n",
            " avg_pool (AveragePooling2D)    (None, 1, 1, 2048)   0           ['activation_97[0][0]']          \n",
            "                                                                                                  \n",
            " flatten_1 (Flatten)            (None, 2048)         0           ['avg_pool[0][0]']               \n",
            "                                                                                                  \n",
            " fc10 (Dense)                   (None, 10)           20490       ['flatten_1[0][0]']              \n",
            "                                                                                                  \n",
            "==================================================================================================\n",
            "Total params: 23,608,202\n",
            "Trainable params: 23,555,082\n",
            "Non-trainable params: 53,120\n",
            "__________________________________________________________________________________________________\n",
            "None\n"
          ]
        }
      ]
    },
    {
      "cell_type": "code",
      "metadata": {
        "id": "AIEd9V4KMYR7",
        "outputId": "a0f77c43-9706-4555-d030-6a75f6841d38",
        "colab": {
          "base_uri": "https://localhost:8080/"
        }
      },
      "source": [
        "if data_augmentation:\n",
        "\tprint('Using real-time data augmentation.')\n",
        "\t# This will do preprocessing and realtime data augmentation:\n",
        "\tdatagen = ImageDataGenerator(\n",
        "        featurewise_center=True,  # set input mean to 0 over the dataset\n",
        "        samplewise_center=False,  # set each sample mean to 0\n",
        "        featurewise_std_normalization=True,  # divide inputs by std of the dataset\n",
        "        samplewise_std_normalization=False,  # divide each input by its std\n",
        "        zca_whitening=False,  # apply ZCA whitening\n",
        "        zca_epsilon=1e-06,  # epsilon for ZCA whitening\n",
        "        rotation_range=20,  # randomly rotate images in the range (degrees, 0 to 180)\n",
        "        # randomly shift images horizontally (fraction of total width)\n",
        "        width_shift_range=0.2,\n",
        "        # randomly shift images vertically (fraction of total height)\n",
        "        height_shift_range=0.2,\n",
        "        shear_range=0.,  # set range for random shear\n",
        "        zoom_range=0.,  # set range for random zoom\n",
        "        channel_shift_range=0.,  # set range for random channel shifts\n",
        "        # set mode for filling points outside the input boundaries\n",
        "        fill_mode='nearest',\n",
        "        cval=0.,  # value used for fill_mode = \"constant\"\n",
        "        horizontal_flip=True,  # randomly flip images\n",
        "        vertical_flip=False,  # randomly flip images\n",
        "        # set rescaling factor (applied before any other transformation)\n",
        "        rescale=None,\n",
        "        # set function that will be applied on each input\n",
        "        preprocessing_function=None,\n",
        "        # image data format, either \"channels_first\" or \"channels_last\"\n",
        "        data_format=None,\n",
        "        # fraction of images reserved for validation (strictly between 0 and 1)\n",
        "        validation_split=0.0)\n",
        "\n",
        "    # Compute quantities required for feature-wise normalization\n",
        "    # (std, mean, and principal components if ZCA whitening is applied).\n",
        "\n",
        "\n",
        "if not flow_from_dir:\n",
        "\tif not data_augmentation:\n",
        "\t\tprint('Not using data augmentation.')\n",
        "\t\thistory = model.fit(X_train, y_train,\n",
        "          batch_size=batch_size,\n",
        "          epochs=epochs,\n",
        "          validation_data=(X_test, y_test),\n",
        "          shuffle=True,\n",
        "          callbacks=callbacks)\n",
        "\telse:   \n",
        "\t\tprint(\"model using data from downloaded dataset in memoory\")\n",
        "\t\tdatagen.fit(X_train)\n",
        "\t\t# Fit the model on the batches generated by datagen.flow().\n",
        "\t\thistory = model.fit_generator(datagen.flow(X_train, y_train,\n",
        "                                 batch_size=batch_size),\n",
        "                                 epochs=epochs,\n",
        "                                 validation_data=datagen.flow((X_test, y_test),batch_size=batch_size),\n",
        "                                 workers=4,\n",
        "                                 callbacks=callbacks)\n",
        "  \n",
        "\tscores = model.evaluate(X_test, y_test, verbose=1)\n",
        "\n",
        "else:\n",
        "\t# generator for reading train data from folder\n",
        "\n",
        "\tprint('Model fit using flow from directory')\n",
        "\n",
        "\n",
        "\ttrain_generator = datagen.flow_from_directory(\n",
        "      train_dir,\n",
        "      target_size = (224, 224),\n",
        "      color_mode = 'rgb',\n",
        "      batch_size = batch_size,\n",
        "      class_mode = 'categorical',\n",
        "      shuffle=False,\n",
        "      seed=42\n",
        "      )\n",
        "\t#\n",
        "\t# generator for reading validation data from folder\n",
        "\n",
        "\tvalidation_generator = datagen.flow_from_directory(\n",
        "      validate_dir,\n",
        "      target_size = (224, 224),\n",
        "      color_mode = 'rgb',\n",
        "      batch_size = batch_size,\n",
        "      class_mode = 'categorical',\n",
        "      shuffle=False,\n",
        "      seed=42)\n",
        "  \n",
        "\tSTEP_SIZE_TRAIN=train_generator.n//train_generator.batch_size\n",
        "\tSTEP_SIZE_VALID=validation_generator.n//validation_generator.batch_size\n",
        "  \n",
        "\thistory = model.fit_generator(generator=train_generator,\n",
        "                steps_per_epoch=STEP_SIZE_TRAIN,\n",
        "                validation_data=validation_generator,\n",
        "                validation_steps=STEP_SIZE_VALID,\n",
        "                epochs=10,\n",
        "                callbacks=callbacks\n",
        "                )\n",
        "  \n",
        "\tscores = model.evaluate_generator(generator=validation_generator,\n",
        "                           steps=STEP_SIZE_VALID, verbose=1)\n",
        "\n",
        "\t#Predict the output\n",
        "\t''' Use when to Predict the output\n",
        "\tSTEP_SIZE_TEST=test_generator.n//test_generator.batch_size\n",
        "\ttest_generator.reset()\n",
        "\tpred=model.predict_generator(test_generator,\n",
        "                               steps=STEP_SIZE_TEST,\n",
        "                               verbose=1)\n",
        "\n",
        "\t'''\n",
        "# Save model and weights\n",
        "\n",
        "\n",
        "\n",
        "# Score trained model.\n",
        "\n",
        "print('Test loss:', scores[0])\n",
        "print('Test accuracy:', scores[1])"
      ],
      "execution_count": null,
      "outputs": [
        {
          "output_type": "stream",
          "name": "stdout",
          "text": [
            "Not using data augmentation.\n",
            "Learning rate:  0.001\n",
            "Epoch 1/50\n",
            "1562/1563 [============================>.] - ETA: 0s - loss: 2.2855 - accuracy: 0.3044"
          ]
        },
        {
          "output_type": "stream",
          "name": "stderr",
          "text": [
            "WARNING:tensorflow:Can save best model only with val_acc available, skipping.\n"
          ]
        },
        {
          "output_type": "stream",
          "name": "stdout",
          "text": [
            "\b\b\b\b\b\b\b\b\b\b\b\b\b\b\b\b\b\b\b\b\b\b\b\b\b\b\b\b\b\b\b\b\b\b\b\b\b\b\b\b\b\b\b\b\b\b\b\b\b\b\b\b\b\b\b\b\b\b\b\b\b\b\b\b\b\b\b\b\b\b\b\b\b\b\b\b\b\b\b\b\b\b\b\b\b\b\r1563/1563 [==============================] - 74s 44ms/step - loss: 2.2853 - accuracy: 0.3044 - val_loss: 2.1128 - val_accuracy: 0.3287 - lr: 0.0010\n",
            "Learning rate:  0.001\n",
            "Epoch 2/50\n",
            "1562/1563 [============================>.] - ETA: 0s - loss: 2.0861 - accuracy: 0.3433"
          ]
        },
        {
          "output_type": "stream",
          "name": "stderr",
          "text": [
            "WARNING:tensorflow:Can save best model only with val_acc available, skipping.\n"
          ]
        },
        {
          "output_type": "stream",
          "name": "stdout",
          "text": [
            "\b\b\b\b\b\b\b\b\b\b\b\b\b\b\b\b\b\b\b\b\b\b\b\b\b\b\b\b\b\b\b\b\b\b\b\b\b\b\b\b\b\b\b\b\b\b\b\b\b\b\b\b\b\b\b\b\b\b\b\b\b\b\b\b\b\b\b\b\b\b\b\b\b\b\b\b\b\b\b\b\b\b\b\b\b\b\r1563/1563 [==============================] - 66s 42ms/step - loss: 2.0863 - accuracy: 0.3433 - val_loss: 2.6532 - val_accuracy: 0.2493 - lr: 0.0010\n",
            "Learning rate:  0.001\n",
            "Epoch 3/50\n",
            "1562/1563 [============================>.] - ETA: 0s - loss: 2.1190 - accuracy: 0.3105"
          ]
        },
        {
          "output_type": "stream",
          "name": "stderr",
          "text": [
            "WARNING:tensorflow:Can save best model only with val_acc available, skipping.\n"
          ]
        },
        {
          "output_type": "stream",
          "name": "stdout",
          "text": [
            "\b\b\b\b\b\b\b\b\b\b\b\b\b\b\b\b\b\b\b\b\b\b\b\b\b\b\b\b\b\b\b\b\b\b\b\b\b\b\b\b\b\b\b\b\b\b\b\b\b\b\b\b\b\b\b\b\b\b\b\b\b\b\b\b\b\b\b\b\b\b\b\b\b\b\b\b\b\b\b\b\b\b\b\b\b\b\r1563/1563 [==============================] - 66s 42ms/step - loss: 2.1188 - accuracy: 0.3106 - val_loss: 12.0507 - val_accuracy: 0.3601 - lr: 0.0010\n",
            "Learning rate:  0.001\n",
            "Epoch 4/50\n",
            "1563/1563 [==============================] - ETA: 0s - loss: 1.9209 - accuracy: 0.3654"
          ]
        },
        {
          "output_type": "stream",
          "name": "stderr",
          "text": [
            "WARNING:tensorflow:Can save best model only with val_acc available, skipping.\n"
          ]
        },
        {
          "output_type": "stream",
          "name": "stdout",
          "text": [
            "\b\b\b\b\b\b\b\b\b\b\b\b\b\b\b\b\b\b\b\b\b\b\b\b\b\b\b\b\b\b\b\b\b\b\b\b\b\b\b\b\b\b\b\b\b\b\b\b\b\b\b\b\b\b\b\b\b\b\b\b\b\b\b\b\b\b\b\b\b\b\b\b\b\b\b\b\b\b\b\b\b\b\b\b\b\b\r1563/1563 [==============================] - 66s 42ms/step - loss: 1.9209 - accuracy: 0.3654 - val_loss: 1.8980 - val_accuracy: 0.3664 - lr: 0.0010\n",
            "Learning rate:  0.001\n",
            "Epoch 5/50\n",
            "1563/1563 [==============================] - ETA: 0s - loss: 1.9435 - accuracy: 0.3418"
          ]
        },
        {
          "output_type": "stream",
          "name": "stderr",
          "text": [
            "WARNING:tensorflow:Can save best model only with val_acc available, skipping.\n"
          ]
        },
        {
          "output_type": "stream",
          "name": "stdout",
          "text": [
            "\b\b\b\b\b\b\b\b\b\b\b\b\b\b\b\b\b\b\b\b\b\b\b\b\b\b\b\b\b\b\b\b\b\b\b\b\b\b\b\b\b\b\b\b\b\b\b\b\b\b\b\b\b\b\b\b\b\b\b\b\b\b\b\b\b\b\b\b\b\b\b\b\b\b\b\b\b\b\b\b\b\b\b\b\b\b\r1563/1563 [==============================] - 66s 42ms/step - loss: 1.9435 - accuracy: 0.3418 - val_loss: 6.9381 - val_accuracy: 0.3885 - lr: 0.0010\n",
            "Learning rate:  0.001\n",
            "Epoch 6/50\n",
            "1562/1563 [============================>.] - ETA: 0s - loss: 1.8363 - accuracy: 0.3841"
          ]
        },
        {
          "output_type": "stream",
          "name": "stderr",
          "text": [
            "WARNING:tensorflow:Can save best model only with val_acc available, skipping.\n"
          ]
        },
        {
          "output_type": "stream",
          "name": "stdout",
          "text": [
            "\b\b\b\b\b\b\b\b\b\b\b\b\b\b\b\b\b\b\b\b\b\b\b\b\b\b\b\b\b\b\b\b\b\b\b\b\b\b\b\b\b\b\b\b\b\b\b\b\b\b\b\b\b\b\b\b\b\b\b\b\b\b\b\b\b\b\b\b\b\b\b\b\b\b\b\b\b\b\b\b\b\b\b\b\b\b\r1563/1563 [==============================] - 66s 42ms/step - loss: 1.8363 - accuracy: 0.3840 - val_loss: 2.1317 - val_accuracy: 0.4058 - lr: 0.0010\n",
            "Learning rate:  0.001\n",
            "Epoch 7/50\n",
            "1563/1563 [==============================] - ETA: 0s - loss: 1.7083 - accuracy: 0.4106"
          ]
        },
        {
          "output_type": "stream",
          "name": "stderr",
          "text": [
            "WARNING:tensorflow:Can save best model only with val_acc available, skipping.\n"
          ]
        },
        {
          "output_type": "stream",
          "name": "stdout",
          "text": [
            "\b\b\b\b\b\b\b\b\b\b\b\b\b\b\b\b\b\b\b\b\b\b\b\b\b\b\b\b\b\b\b\b\b\b\b\b\b\b\b\b\b\b\b\b\b\b\b\b\b\b\b\b\b\b\b\b\b\b\b\b\b\b\b\b\b\b\b\b\b\b\b\b\b\b\b\b\b\b\b\b\b\b\b\b\b\b\r1563/1563 [==============================] - 66s 42ms/step - loss: 1.7083 - accuracy: 0.4106 - val_loss: 1.5743 - val_accuracy: 0.4355 - lr: 0.0010\n",
            "Learning rate:  0.001\n",
            "Epoch 8/50\n",
            "1563/1563 [==============================] - ETA: 0s - loss: 1.5822 - accuracy: 0.4434"
          ]
        },
        {
          "output_type": "stream",
          "name": "stderr",
          "text": [
            "WARNING:tensorflow:Can save best model only with val_acc available, skipping.\n"
          ]
        },
        {
          "output_type": "stream",
          "name": "stdout",
          "text": [
            "\b\b\b\b\b\b\b\b\b\b\b\b\b\b\b\b\b\b\b\b\b\b\b\b\b\b\b\b\b\b\b\b\b\b\b\b\b\b\b\b\b\b\b\b\b\b\b\b\b\b\b\b\b\b\b\b\b\b\b\b\b\b\b\b\b\b\b\b\b\b\b\b\b\b\b\b\b\b\b\b\b\b\b\b\b\b\r1563/1563 [==============================] - 66s 42ms/step - loss: 1.5822 - accuracy: 0.4434 - val_loss: 1.3716 - val_accuracy: 0.4984 - lr: 0.0010\n",
            "Learning rate:  0.001\n",
            "Epoch 9/50\n",
            "1563/1563 [==============================] - ETA: 0s - loss: 1.4292 - accuracy: 0.5003"
          ]
        },
        {
          "output_type": "stream",
          "name": "stderr",
          "text": [
            "WARNING:tensorflow:Can save best model only with val_acc available, skipping.\n"
          ]
        },
        {
          "output_type": "stream",
          "name": "stdout",
          "text": [
            "\b\b\b\b\b\b\b\b\b\b\b\b\b\b\b\b\b\b\b\b\b\b\b\b\b\b\b\b\b\b\b\b\b\b\b\b\b\b\b\b\b\b\b\b\b\b\b\b\b\b\b\b\b\b\b\b\b\b\b\b\b\b\b\b\b\b\b\b\b\b\b\b\b\b\b\b\b\b\b\b\b\b\b\b\b\b\r1563/1563 [==============================] - 67s 43ms/step - loss: 1.4292 - accuracy: 0.5003 - val_loss: 1.3205 - val_accuracy: 0.5324 - lr: 0.0010\n",
            "Learning rate:  0.001\n",
            "Epoch 10/50\n",
            "1562/1563 [============================>.] - ETA: 0s - loss: 1.3439 - accuracy: 0.5326"
          ]
        },
        {
          "output_type": "stream",
          "name": "stderr",
          "text": [
            "WARNING:tensorflow:Can save best model only with val_acc available, skipping.\n"
          ]
        },
        {
          "output_type": "stream",
          "name": "stdout",
          "text": [
            "\b\b\b\b\b\b\b\b\b\b\b\b\b\b\b\b\b\b\b\b\b\b\b\b\b\b\b\b\b\b\b\b\b\b\b\b\b\b\b\b\b\b\b\b\b\b\b\b\b\b\b\b\b\b\b\b\b\b\b\b\b\b\b\b\b\b\b\b\b\b\b\b\b\b\b\b\b\b\b\b\b\b\b\b\b\b\r1563/1563 [==============================] - 68s 43ms/step - loss: 1.3438 - accuracy: 0.5326 - val_loss: 1.1380 - val_accuracy: 0.5927 - lr: 0.0010\n",
            "Learning rate:  0.001\n",
            "Epoch 11/50\n",
            "1562/1563 [============================>.] - ETA: 0s - loss: 1.2390 - accuracy: 0.5686"
          ]
        },
        {
          "output_type": "stream",
          "name": "stderr",
          "text": [
            "WARNING:tensorflow:Can save best model only with val_acc available, skipping.\n"
          ]
        },
        {
          "output_type": "stream",
          "name": "stdout",
          "text": [
            "\b\b\b\b\b\b\b\b\b\b\b\b\b\b\b\b\b\b\b\b\b\b\b\b\b\b\b\b\b\b\b\b\b\b\b\b\b\b\b\b\b\b\b\b\b\b\b\b\b\b\b\b\b\b\b\b\b\b\b\b\b\b\b\b\b\b\b\b\b\b\b\b\b\b\b\b\b\b\b\b\b\b\b\b\b\b\r1563/1563 [==============================] - 66s 42ms/step - loss: 1.2390 - accuracy: 0.5686 - val_loss: 1.1268 - val_accuracy: 0.6146 - lr: 0.0010\n",
            "Learning rate:  0.001\n",
            "Epoch 12/50\n",
            "1563/1563 [==============================] - ETA: 0s - loss: 1.1416 - accuracy: 0.6060"
          ]
        },
        {
          "output_type": "stream",
          "name": "stderr",
          "text": [
            "WARNING:tensorflow:Can save best model only with val_acc available, skipping.\n"
          ]
        },
        {
          "output_type": "stream",
          "name": "stdout",
          "text": [
            "\b\b\b\b\b\b\b\b\b\b\b\b\b\b\b\b\b\b\b\b\b\b\b\b\b\b\b\b\b\b\b\b\b\b\b\b\b\b\b\b\b\b\b\b\b\b\b\b\b\b\b\b\b\b\b\b\b\b\b\b\b\b\b\b\b\b\b\b\b\b\b\b\b\b\b\b\b\b\b\b\b\b\b\b\b\b\r1563/1563 [==============================] - 66s 42ms/step - loss: 1.1416 - accuracy: 0.6060 - val_loss: 1.0697 - val_accuracy: 0.6226 - lr: 0.0010\n",
            "Learning rate:  0.001\n",
            "Epoch 13/50\n",
            "1563/1563 [==============================] - ETA: 0s - loss: 0.9978 - accuracy: 0.6535"
          ]
        },
        {
          "output_type": "stream",
          "name": "stderr",
          "text": [
            "WARNING:tensorflow:Can save best model only with val_acc available, skipping.\n"
          ]
        },
        {
          "output_type": "stream",
          "name": "stdout",
          "text": [
            "\b\b\b\b\b\b\b\b\b\b\b\b\b\b\b\b\b\b\b\b\b\b\b\b\b\b\b\b\b\b\b\b\b\b\b\b\b\b\b\b\b\b\b\b\b\b\b\b\b\b\b\b\b\b\b\b\b\b\b\b\b\b\b\b\b\b\b\b\b\b\b\b\b\b\b\b\b\b\b\b\b\b\b\b\b\b\r1563/1563 [==============================] - 66s 42ms/step - loss: 0.9978 - accuracy: 0.6535 - val_loss: 1.7091 - val_accuracy: 0.5638 - lr: 0.0010\n",
            "Learning rate:  0.001\n",
            "Epoch 14/50\n",
            "1563/1563 [==============================] - ETA: 0s - loss: 0.9067 - accuracy: 0.6832"
          ]
        },
        {
          "output_type": "stream",
          "name": "stderr",
          "text": [
            "WARNING:tensorflow:Can save best model only with val_acc available, skipping.\n"
          ]
        },
        {
          "output_type": "stream",
          "name": "stdout",
          "text": [
            "\b\b\b\b\b\b\b\b\b\b\b\b\b\b\b\b\b\b\b\b\b\b\b\b\b\b\b\b\b\b\b\b\b\b\b\b\b\b\b\b\b\b\b\b\b\b\b\b\b\b\b\b\b\b\b\b\b\b\b\b\b\b\b\b\b\b\b\b\b\b\b\b\b\b\b\b\b\b\b\b\b\b\b\b\b\b\r1563/1563 [==============================] - 66s 42ms/step - loss: 0.9067 - accuracy: 0.6832 - val_loss: 0.8953 - val_accuracy: 0.6827 - lr: 0.0010\n",
            "Learning rate:  0.001\n",
            "Epoch 15/50\n",
            "1563/1563 [==============================] - ETA: 0s - loss: 0.8286 - accuracy: 0.7150"
          ]
        },
        {
          "output_type": "stream",
          "name": "stderr",
          "text": [
            "WARNING:tensorflow:Can save best model only with val_acc available, skipping.\n"
          ]
        },
        {
          "output_type": "stream",
          "name": "stdout",
          "text": [
            "\b\b\b\b\b\b\b\b\b\b\b\b\b\b\b\b\b\b\b\b\b\b\b\b\b\b\b\b\b\b\b\b\b\b\b\b\b\b\b\b\b\b\b\b\b\b\b\b\b\b\b\b\b\b\b\b\b\b\b\b\b\b\b\b\b\b\b\b\b\b\b\b\b\b\b\b\b\b\b\b\b\b\b\b\b\b\r1563/1563 [==============================] - 66s 42ms/step - loss: 0.8286 - accuracy: 0.7150 - val_loss: 0.9332 - val_accuracy: 0.6811 - lr: 0.0010\n",
            "Learning rate:  0.001\n",
            "Epoch 16/50\n",
            "1563/1563 [==============================] - ETA: 0s - loss: 0.7252 - accuracy: 0.7475"
          ]
        },
        {
          "output_type": "stream",
          "name": "stderr",
          "text": [
            "WARNING:tensorflow:Can save best model only with val_acc available, skipping.\n"
          ]
        },
        {
          "output_type": "stream",
          "name": "stdout",
          "text": [
            "\b\b\b\b\b\b\b\b\b\b\b\b\b\b\b\b\b\b\b\b\b\b\b\b\b\b\b\b\b\b\b\b\b\b\b\b\b\b\b\b\b\b\b\b\b\b\b\b\b\b\b\b\b\b\b\b\b\b\b\b\b\b\b\b\b\b\b\b\b\b\b\b\b\b\b\b\b\b\b\b\b\b\b\b\b\b\r1563/1563 [==============================] - 66s 42ms/step - loss: 0.7252 - accuracy: 0.7475 - val_loss: 0.8271 - val_accuracy: 0.7112 - lr: 0.0010\n",
            "Learning rate:  0.001\n",
            "Epoch 17/50\n",
            "1563/1563 [==============================] - ETA: 0s - loss: 0.6426 - accuracy: 0.7769"
          ]
        },
        {
          "output_type": "stream",
          "name": "stderr",
          "text": [
            "WARNING:tensorflow:Can save best model only with val_acc available, skipping.\n"
          ]
        },
        {
          "output_type": "stream",
          "name": "stdout",
          "text": [
            "\b\b\b\b\b\b\b\b\b\b\b\b\b\b\b\b\b\b\b\b\b\b\b\b\b\b\b\b\b\b\b\b\b\b\b\b\b\b\b\b\b\b\b\b\b\b\b\b\b\b\b\b\b\b\b\b\b\b\b\b\b\b\b\b\b\b\b\b\b\b\b\b\b\b\b\b\b\b\b\b\b\b\b\b\b\b\r1563/1563 [==============================] - 66s 42ms/step - loss: 0.6426 - accuracy: 0.7769 - val_loss: 0.8703 - val_accuracy: 0.7004 - lr: 0.0010\n",
            "Learning rate:  0.001\n",
            "Epoch 18/50\n",
            "1562/1563 [============================>.] - ETA: 0s - loss: 0.5701 - accuracy: 0.8035"
          ]
        },
        {
          "output_type": "stream",
          "name": "stderr",
          "text": [
            "WARNING:tensorflow:Can save best model only with val_acc available, skipping.\n"
          ]
        },
        {
          "output_type": "stream",
          "name": "stdout",
          "text": [
            "\b\b\b\b\b\b\b\b\b\b\b\b\b\b\b\b\b\b\b\b\b\b\b\b\b\b\b\b\b\b\b\b\b\b\b\b\b\b\b\b\b\b\b\b\b\b\b\b\b\b\b\b\b\b\b\b\b\b\b\b\b\b\b\b\b\b\b\b\b\b\b\b\b\b\b\b\b\b\b\b\b\b\b\b\b\b\r1563/1563 [==============================] - 67s 43ms/step - loss: 0.5700 - accuracy: 0.8036 - val_loss: 0.8040 - val_accuracy: 0.7269 - lr: 0.0010\n",
            "Learning rate:  0.001\n",
            "Epoch 19/50\n",
            "1563/1563 [==============================] - ETA: 0s - loss: 0.5218 - accuracy: 0.8185"
          ]
        },
        {
          "output_type": "stream",
          "name": "stderr",
          "text": [
            "WARNING:tensorflow:Can save best model only with val_acc available, skipping.\n"
          ]
        },
        {
          "output_type": "stream",
          "name": "stdout",
          "text": [
            "\b\b\b\b\b\b\b\b\b\b\b\b\b\b\b\b\b\b\b\b\b\b\b\b\b\b\b\b\b\b\b\b\b\b\b\b\b\b\b\b\b\b\b\b\b\b\b\b\b\b\b\b\b\b\b\b\b\b\b\b\b\b\b\b\b\b\b\b\b\b\b\b\b\b\b\b\b\b\b\b\b\b\b\b\b\b\r1563/1563 [==============================] - 67s 43ms/step - loss: 0.5218 - accuracy: 0.8185 - val_loss: 0.8065 - val_accuracy: 0.7316 - lr: 0.0010\n",
            "Learning rate:  0.001\n",
            "Epoch 20/50\n",
            "1563/1563 [==============================] - ETA: 0s - loss: 0.4365 - accuracy: 0.8478"
          ]
        },
        {
          "output_type": "stream",
          "name": "stderr",
          "text": [
            "WARNING:tensorflow:Can save best model only with val_acc available, skipping.\n"
          ]
        },
        {
          "output_type": "stream",
          "name": "stdout",
          "text": [
            "\b\b\b\b\b\b\b\b\b\b\b\b\b\b\b\b\b\b\b\b\b\b\b\b\b\b\b\b\b\b\b\b\b\b\b\b\b\b\b\b\b\b\b\b\b\b\b\b\b\b\b\b\b\b\b\b\b\b\b\b\b\b\b\b\b\b\b\b\b\b\b\b\b\b\b\b\b\b\b\b\b\b\b\b\b\b\r1563/1563 [==============================] - 66s 42ms/step - loss: 0.4365 - accuracy: 0.8478 - val_loss: 0.8143 - val_accuracy: 0.7342 - lr: 0.0010\n",
            "Learning rate:  0.001\n",
            "Epoch 21/50\n",
            "1563/1563 [==============================] - ETA: 0s - loss: 0.3812 - accuracy: 0.8665"
          ]
        },
        {
          "output_type": "stream",
          "name": "stderr",
          "text": [
            "WARNING:tensorflow:Can save best model only with val_acc available, skipping.\n"
          ]
        },
        {
          "output_type": "stream",
          "name": "stdout",
          "text": [
            "\b\b\b\b\b\b\b\b\b\b\b\b\b\b\b\b\b\b\b\b\b\b\b\b\b\b\b\b\b\b\b\b\b\b\b\b\b\b\b\b\b\b\b\b\b\b\b\b\b\b\b\b\b\b\b\b\b\b\b\b\b\b\b\b\b\b\b\b\b\b\b\b\b\b\b\b\b\b\b\b\b\b\b\b\b\b\r1563/1563 [==============================] - 66s 42ms/step - loss: 0.3812 - accuracy: 0.8665 - val_loss: 0.8851 - val_accuracy: 0.7294 - lr: 0.0010\n",
            "Learning rate:  0.001\n",
            "Epoch 22/50\n",
            "1563/1563 [==============================] - ETA: 0s - loss: 0.3366 - accuracy: 0.8820"
          ]
        },
        {
          "output_type": "stream",
          "name": "stderr",
          "text": [
            "WARNING:tensorflow:Can save best model only with val_acc available, skipping.\n"
          ]
        },
        {
          "output_type": "stream",
          "name": "stdout",
          "text": [
            "\b\b\b\b\b\b\b\b\b\b\b\b\b\b\b\b\b\b\b\b\b\b\b\b\b\b\b\b\b\b\b\b\b\b\b\b\b\b\b\b\b\b\b\b\b\b\b\b\b\b\b\b\b\b\b\b\b\b\b\b\b\b\b\b\b\b\b\b\b\b\b\b\b\b\b\b\b\b\b\b\b\b\b\b\b\b\r1563/1563 [==============================] - 66s 42ms/step - loss: 0.3366 - accuracy: 0.8820 - val_loss: 0.8777 - val_accuracy: 0.7383 - lr: 0.0010\n",
            "Learning rate:  0.001\n",
            "Epoch 23/50\n",
            "1563/1563 [==============================] - ETA: 0s - loss: 0.2845 - accuracy: 0.9010"
          ]
        },
        {
          "output_type": "stream",
          "name": "stderr",
          "text": [
            "WARNING:tensorflow:Can save best model only with val_acc available, skipping.\n"
          ]
        },
        {
          "output_type": "stream",
          "name": "stdout",
          "text": [
            "1563/1563 [==============================] - 66s 42ms/step - loss: 0.2845 - accuracy: 0.9010 - val_loss: 0.9348 - val_accuracy: 0.7351 - lr: 3.1623e-04\n",
            "313/313 [==============================] - 5s 16ms/step - loss: 0.8040 - accuracy: 0.7269\n",
            "Test loss: 0.8039708137512207\n",
            "Test accuracy: 0.7268999814987183\n"
          ]
        }
      ]
    },
    {
      "cell_type": "code",
      "metadata": {
        "id": "T95kj0_iP54_",
        "outputId": "ec899365-839e-4384-c8e1-16a79529b194",
        "colab": {
          "base_uri": "https://localhost:8080/",
          "height": 591
        }
      },
      "source": [
        "# list all data in history\n",
        "print(history.history.keys())\n",
        "# summarize history for accuracy\n",
        "plt.plot(history.history['accuracy'])\n",
        "plt.plot(history.history['val_accuracy'])\n",
        "plt.title('model accuracy')\n",
        "plt.ylabel('accuracy')\n",
        "plt.xlabel('epoch')\n",
        "plt.legend(['train', 'test'], loc='upper left')\n",
        "plt.show()\n",
        "# summarize history for loss\n",
        "plt.plot(history.history['loss'])\n",
        "plt.plot(history.history['val_loss'])\n",
        "plt.title('model loss')\n",
        "plt.ylabel('loss')\n",
        "plt.xlabel('epoch')\n",
        "plt.legend(['train', 'test'], loc='upper left')\n",
        "plt.show()"
      ],
      "execution_count": null,
      "outputs": [
        {
          "output_type": "stream",
          "name": "stdout",
          "text": [
            "dict_keys(['loss', 'accuracy', 'val_loss', 'val_accuracy', 'lr'])\n"
          ]
        },
        {
          "output_type": "display_data",
          "data": {
            "text/plain": [
              "<Figure size 432x288 with 1 Axes>"
            ],
            "image/png": "[encoded data removed]"
          },
          "metadata": {
            "needs_background": "light"
          }
        },
        {
          "output_type": "display_data",
          "data": {
            "text/plain": [
              "<Figure size 432x288 with 1 Axes>"
            ],
            "image/png": "[encoded data removed]"
          },
          "metadata": {
            "needs_background": "light"
          }
        }
      ]
    },
    {
      "cell_type": "code",
      "source": [
        "from sklearn.metrics import confusion_matrix\n",
        "import itertools\n",
        "\n"
      ],
      "metadata": {
        "id": "A_Skfpspj0Kz"
      },
      "execution_count": null,
      "outputs": []
    },
    {
      "cell_type": "code",
      "source": [
        "predictions = model.predict(X_test, verbose=0)\n",
        "yitest = np.argmax(y_test, axis=1)\n",
        "\n",
        "yptest = np.argmax(predictions, axis=1)\n",
        "print (yitest)\n",
        "print (yptest)"
      ],
      "metadata": {
        "colab": {
          "base_uri": "https://localhost:8080/"
        },
        "id": "bTzh3hbclknq",
        "outputId": "9f5b0c28-6b2f-4643-d983-3626c7362019"
      },
      "execution_count": null,
      "outputs": [
        {
          "output_type": "stream",
          "name": "stdout",
          "text": [
            "[3 8 8 ... 5 1 7]\n",
            "[3 8 8 ... 5 0 7]\n"
          ]
        }
      ]
    },
    {
      "cell_type": "code",
      "source": [
        "cfm = confusion_matrix(yitest, yptest)\n",
        "print (cfm)"
      ],
      "metadata": {
        "colab": {
          "base_uri": "https://localhost:8080/"
        },
        "id": "pHyxTlVmksBb",
        "outputId": "5338bde8-9f6a-42d4-a2d5-7874d3d87010"
      },
      "execution_count": null,
      "outputs": [
        {
          "output_type": "stream",
          "name": "stdout",
          "text": [
            "[[727  19  43  25  22   4   6   9 110  35]\n",
            " [ 19 825   7   7   3   8   8   4  34  85]\n",
            " [ 63   4 625  57  78  70  44  36  18   5]\n",
            " [ 14   7  74 535  54 213  43  35  13  12]\n",
            " [ 21   2  67  75 664  43  32  85   7   4]\n",
            " [  9   2  40 143  38 679  20  49   8  12]\n",
            " [  8   4  41  51  42  58 767  10  11   8]\n",
            " [ 15   2  26  41  37  76   5 781   2  15]\n",
            " [ 33  31  10  13   8   8   3   4 873  17]\n",
            " [ 37  85   7  17   0   7   6  13  35 793]]\n"
          ]
        }
      ]
    },
    {
      "cell_type": "code",
      "source": [
        "\n",
        "def plot_confusion_matrix(cm, classes,\n",
        "                          normalize=False,\n",
        "                          title='Confusion matrix',\n",
        "                          cmap=plt.cm.Blues):\n",
        "    \"\"\"\n",
        "    This function prints and plots the confusion matrix.\n",
        "    Normalization can be applied by setting `normalize=True`.\n",
        "    \"\"\"\n",
        "    if normalize:\n",
        "        cm = cm.astype('float') / cm.sum(axis=1)[:, np.newaxis]\n",
        "        print(\"Normalized confusion matrix\")\n",
        "    else:\n",
        "        print('Confusion matrix, without normalization')\n",
        "\n",
        "    #print(cm)\n",
        "\n",
        "    plt.imshow(cm, interpolation='nearest', cmap=cmap)\n",
        "    plt.title(title)\n",
        "    plt.colorbar()\n",
        "    tick_marks = np.arange(len(classes))\n",
        "    plt.xticks(tick_marks, classes, rotation=45)\n",
        "    plt.yticks(tick_marks, classes)\n",
        "\n",
        "    fmt = '.2f' if normalize else 'd'\n",
        "    thresh = cm.max() / 2.\n",
        "    for i, j in itertools.product(range(cm.shape[0]), range(cm.shape[1])):\n",
        "        plt.text(j, i, format(cm[i, j], fmt),\n",
        "                 horizontalalignment=\"center\",\n",
        "                 color=\"white\" if cm[i, j] > thresh else \"black\")\n",
        "\n",
        "    plt.ylabel('True label')\n",
        "    plt.xlabel('Predicted label')\n",
        "    plt.tight_layout()\n"
      ],
      "metadata": {
        "id": "LWyth4ybqOTV"
      },
      "execution_count": null,
      "outputs": []
    },
    {
      "cell_type": "code",
      "source": [
        "plot_confusion_matrix(cfm, classes=range(10), \n",
        "                      title='Confusion matrix for ResNet50-cifar10')"
      ],
      "metadata": {
        "colab": {
          "base_uri": "https://localhost:8080/",
          "height": 315
        },
        "id": "lYxy2lHaqQ44",
        "outputId": "07687b22-8d69-4180-f7d2-aede4d0f2839"
      },
      "execution_count": null,
      "outputs": [
        {
          "output_type": "stream",
          "name": "stdout",
          "text": [
            "Confusion matrix, without normalization\n"
          ]
        },
        {
          "output_type": "display_data",
          "data": {
            "text/plain": [
              "<Figure size 432x288 with 2 Axes>"
            ],
            "image/png": "[encoded data removed]"
          },
          "metadata": {
            "needs_background": "light"
          }
        }
      ]
    },
    {
      "cell_type": "code",
      "source": [
        "cfm = confusion_matrix(yitest, yptest)\n",
        "print(cfm/1000)  "
      ],
      "metadata": {
        "colab": {
          "base_uri": "https://localhost:8080/"
        },
        "id": "8mmBqkTnqhYh",
        "outputId": "3cbf082f-8e2c-4989-8ee6-fbafa5cc0e29"
      },
      "execution_count": null,
      "outputs": [
        {
          "output_type": "stream",
          "name": "stdout",
          "text": [
            "[[0.727 0.019 0.043 0.025 0.022 0.004 0.006 0.009 0.11  0.035]\n",
            " [0.019 0.825 0.007 0.007 0.003 0.008 0.008 0.004 0.034 0.085]\n",
            " [0.063 0.004 0.625 0.057 0.078 0.07  0.044 0.036 0.018 0.005]\n",
            " [0.014 0.007 0.074 0.535 0.054 0.213 0.043 0.035 0.013 0.012]\n",
            " [0.021 0.002 0.067 0.075 0.664 0.043 0.032 0.085 0.007 0.004]\n",
            " [0.009 0.002 0.04  0.143 0.038 0.679 0.02  0.049 0.008 0.012]\n",
            " [0.008 0.004 0.041 0.051 0.042 0.058 0.767 0.01  0.011 0.008]\n",
            " [0.015 0.002 0.026 0.041 0.037 0.076 0.005 0.781 0.002 0.015]\n",
            " [0.033 0.031 0.01  0.013 0.008 0.008 0.003 0.004 0.873 0.017]\n",
            " [0.037 0.085 0.007 0.017 0.    0.007 0.006 0.013 0.035 0.793]]\n"
          ]
        }
      ]
    },
    {
      "cell_type": "code",
      "source": [
        "plot_confusion_matrix(cfm, normalize=True, classes=range(10), \n",
        "                      title='Normalized confusion matrix for ResNet50-cifar10')"
      ],
      "metadata": {
        "colab": {
          "base_uri": "https://localhost:8080/",
          "height": 315
        },
        "id": "AxyKWbrpq57z",
        "outputId": "ef025e42-f954-4159-d0e5-a0cfdd41a0a9"
      },
      "execution_count": null,
      "outputs": [
        {
          "output_type": "stream",
          "name": "stdout",
          "text": [
            "Normalized confusion matrix\n"
          ]
        },
        {
          "output_type": "display_data",
          "data": {
            "text/plain": [
              "<Figure size 432x288 with 2 Axes>"
            ],
            "image/png": "[encoded data removed]"
          },
          "metadata": {
            "needs_background": "light"
          }
        }
      ]
    },
    {
      "cell_type": "code",
      "source": [
        "from google.colab import drive\n",
        "drive.mount('/content/drive')"
      ],
      "metadata": {
        "colab": {
          "base_uri": "https://localhost:8080/"
        },
        "id": "Y0CEf5Al0N46",
        "outputId": "7d8cf97d-e1c1-48d7-c168-4a465183e0e8"
      },
      "execution_count": null,
      "outputs": [
        {
          "output_type": "stream",
          "name": "stdout",
          "text": [
            "Mounted at /content/drive\n"
          ]
        }
      ]
    },
    {
      "cell_type": "code",
      "source": [
        "model.save('/content/drive/MyDrive/ECE6930/ResNet-50')"
      ],
      "metadata": {
        "colab": {
          "base_uri": "https://localhost:8080/"
        },
        "id": "oEF1X9rk0VlM",
        "outputId": "f99eda1f-995d-4b21-d169-a8fdef8b0998"
      },
      "execution_count": null,
      "outputs": [
        {
          "output_type": "stream",
          "name": "stderr",
          "text": [
            "WARNING:absl:Found untraced functions such as _jit_compiled_convolution_op, _jit_compiled_convolution_op, _jit_compiled_convolution_op, _jit_compiled_convolution_op, _jit_compiled_convolution_op while saving (showing 5 of 53). These functions will not be directly callable after loading.\n"
          ]
        }
      ]
    },
    {
      "cell_type": "code",
      "source": [
        "from tensorflow import keras\n",
        "model01 = keras.models.load_model('/content/drive/MyDrive/ECE6930/ResNet-50')"
      ],
      "metadata": {
        "id": "shU1e0oy1Cpk"
      },
      "execution_count": null,
      "outputs": []
    },
    {
      "cell_type": "code",
      "source": [
        "predictions = model01.predict(X_test, verbose=0)\n",
        "yitest = np.argmax(y_test, axis=1)\n",
        "\n",
        "yptest = np.argmax(predictions, axis=1)\n",
        "print (yitest)\n",
        "print (yptest)"
      ],
      "metadata": {
        "colab": {
          "base_uri": "https://localhost:8080/"
        },
        "id": "DgL3C_bM1MYy",
        "outputId": "d85a5c41-d25f-4f41-a955-216a6df51fb0"
      },
      "execution_count": null,
      "outputs": [
        {
          "output_type": "stream",
          "name": "stdout",
          "text": [
            "[3 8 8 ... 5 1 7]\n",
            "[3 8 8 ... 5 0 7]\n"
          ]
        }
      ]
    },
    {
      "cell_type": "code",
      "source": [
        "cfm = confusion_matrix(yitest, yptest)\n",
        "print (cfm)"
      ],
      "metadata": {
        "colab": {
          "base_uri": "https://localhost:8080/"
        },
        "id": "mORUGVbi1Rdh",
        "outputId": "c4a37e1d-45ce-49c3-c5be-75610db8eeb4"
      },
      "execution_count": null,
      "outputs": [
        {
          "output_type": "stream",
          "name": "stdout",
          "text": [
            "[[727  19  43  25  22   4   6   9 110  35]\n",
            " [ 19 825   7   7   3   8   8   4  34  85]\n",
            " [ 63   4 625  57  78  70  44  36  18   5]\n",
            " [ 14   7  74 535  54 213  43  35  13  12]\n",
            " [ 21   2  67  75 664  43  32  85   7   4]\n",
            " [  9   2  40 143  38 679  20  49   8  12]\n",
            " [  8   4  41  51  42  58 767  10  11   8]\n",
            " [ 15   2  26  41  37  76   5 781   2  15]\n",
            " [ 33  31  10  13   8   8   3   4 873  17]\n",
            " [ 37  85   7  17   0   7   6  13  35 793]]\n"
          ]
        }
      ]
    },
    {
      "cell_type": "code",
      "source": [
        "model01.save(\"my_h5_model.h5\")"
      ],
      "metadata": {
        "id": "ttivsA_M1r6c"
      },
      "execution_count": null,
      "outputs": []
    },
    {
      "cell_type": "code",
      "source": [],
      "metadata": {
        "id": "3AF59y_J2iOC"
      },
      "execution_count": null,
      "outputs": []
    },
    {
      "cell_type": "code",
      "source": [
        "! cd /content/drive/MyDrive/ECE6930"
      ],
      "metadata": {
        "id": "AwJeYMwL2YKU"
      },
      "execution_count": null,
      "outputs": []
    },
    {
      "cell_type": "code",
      "source": [
        "model01.save(\"/content/drive/MyDrive/ECE6930/ResNet50-1121-01/my_h5_model.h5\")"
      ],
      "metadata": {
        "id": "7w0E1Wj02jQ_"
      },
      "execution_count": null,
      "outputs": []
    },
    {
      "cell_type": "code",
      "source": [
        "reconstructed_model = keras.models.load_model(\"/content/drive/MyDrive/ECE6930/ResNet50-1121-01/my_h5_model.h5\")"
      ],
      "metadata": {
        "id": "3Fn7wZ3y29iG"
      },
      "execution_count": null,
      "outputs": []
    },
    {
      "cell_type": "code",
      "source": [
        "predictions = reconstructed_model.predict(X_test, verbose=0)\n",
        "yitest = np.argmax(y_test, axis=1)\n",
        "\n",
        "yptest = np.argmax(predictions, axis=1)\n",
        "print (yitest)\n",
        "print (yptest)"
      ],
      "metadata": {
        "colab": {
          "base_uri": "https://localhost:8080/"
        },
        "id": "ahlU-FcN3IbG",
        "outputId": "f8e60c7b-1b56-46bc-9754-87dcdd1a9709"
      },
      "execution_count": null,
      "outputs": [
        {
          "output_type": "stream",
          "name": "stdout",
          "text": [
            "[3 8 8 ... 5 1 7]\n",
            "[3 8 8 ... 5 0 7]\n"
          ]
        }
      ]
    },
    {
      "cell_type": "code",
      "source": [
        "cfm = confusion_matrix(yitest, yptest)\n",
        "print (cfm)"
      ],
      "metadata": {
        "colab": {
          "base_uri": "https://localhost:8080/"
        },
        "id": "M05Wjlz_3N66",
        "outputId": "514494e8-12dd-4aa2-e85e-e00f870fb8cb"
      },
      "execution_count": null,
      "outputs": [
        {
          "output_type": "stream",
          "name": "stdout",
          "text": [
            "[[727  19  43  25  22   4   6   9 110  35]\n",
            " [ 19 825   7   7   3   8   8   4  34  85]\n",
            " [ 63   4 625  57  78  70  44  36  18   5]\n",
            " [ 14   7  74 535  54 213  43  35  13  12]\n",
            " [ 21   2  67  75 664  43  32  85   7   4]\n",
            " [  9   2  40 143  38 679  20  49   8  12]\n",
            " [  8   4  41  51  42  58 767  10  11   8]\n",
            " [ 15   2  26  41  37  76   5 781   2  15]\n",
            " [ 33  31  10  13   8   8   3   4 873  17]\n",
            " [ 37  85   7  17   0   7   6  13  35 793]]\n"
          ]
        }
      ]
    }
  ]
}