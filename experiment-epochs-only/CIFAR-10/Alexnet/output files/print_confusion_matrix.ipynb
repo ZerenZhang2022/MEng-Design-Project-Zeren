{
 "cells": [
  {
   "cell_type": "code",
   "execution_count": 5,
   "metadata": {},
   "outputs": [
    {
     "ename": "ModuleNotFoundError",
     "evalue": "No module named 'torch'",
     "output_type": "error",
     "traceback": [
      "\u001b[1;31m---------------------------------------------------------------------------\u001b[0m",
      "\u001b[1;31mModuleNotFoundError\u001b[0m                       Traceback (most recent call last)",
      "\u001b[1;32mc:\\Users\\13675\\Documents\\GitHub\\MEng-Design-Project-Zeren\\experiment-epochs-only\\CIFAR-10\\Alexnet\\output files\\print_confusion_matrix.ipynb Cell 1\u001b[0m in \u001b[0;36m<cell line: 1>\u001b[1;34m()\u001b[0m\n\u001b[1;32m----> <a href='vscode-notebook-cell:/c%3A/Users/13675/Documents/GitHub/MEng-Design-Project-Zeren/experiment-epochs-only/CIFAR-10/Alexnet/output%20files/print_confusion_matrix.ipynb#W0sZmlsZQ%3D%3D?line=0'>1</a>\u001b[0m \u001b[39mimport\u001b[39;00m \u001b[39mtorch\u001b[39;00m\n\u001b[0;32m      <a href='vscode-notebook-cell:/c%3A/Users/13675/Documents/GitHub/MEng-Design-Project-Zeren/experiment-epochs-only/CIFAR-10/Alexnet/output%20files/print_confusion_matrix.ipynb#W0sZmlsZQ%3D%3D?line=1'>2</a>\u001b[0m torch_model \u001b[39m=\u001b[39m torch\u001b[39m.\u001b[39mload(\u001b[39m'\u001b[39m\u001b[39mC:/Users/13675/Documents/GitHub/MEng-Design-Project-Zeren/experiment-epochs-only/CIFAR-10/Alexnet/output files/Alexnet - Cifar10 - epoch50.h5\u001b[39m\u001b[39m'\u001b[39m)\n",
      "\u001b[1;31mModuleNotFoundError\u001b[0m: No module named 'torch'"
     ]
    }
   ],
   "source": [
    "import torch\n",
    "torch_model = torch.load('C:/Users/13675/Documents/GitHub/MEng-Design-Project-Zeren/experiment-epochs-only/CIFAR-10/Alexnet/output files/Alexnet - Cifar10 - epoch50.h5')"
   ]
  },
  {
   "cell_type": "code",
   "execution_count": null,
   "metadata": {},
   "outputs": [],
   "source": [
    "from sklearn.metrics import confusion_matrix\n",
    "\n",
    "#Predict\n",
    "y_prediction = model.predict(x_test)\n",
    "\n",
    "#Create confusion matrix and normalizes it over predicted (columns)\n",
    "result = confusion_matrix(y_test, y_prediction , normalize='pred')"
   ]
  }
 ],
 "metadata": {
  "kernelspec": {
   "display_name": "python38",
   "language": "python",
   "name": "python3"
  },
  "language_info": {
   "codemirror_mode": {
    "name": "ipython",
    "version": 3
   },
   "file_extension": ".py",
   "mimetype": "text/x-python",
   "name": "python",
   "nbconvert_exporter": "python",
   "pygments_lexer": "ipython3",
   "version": "3.8.13"
  },
  "orig_nbformat": 4,
  "vscode": {
   "interpreter": {
    "hash": "6cb7e608678c6e88e892728308b68efbf2f4fda0e5743468d3dad9c43267ebe0"
   }
  }
 },
 "nbformat": 4,
 "nbformat_minor": 2
}
